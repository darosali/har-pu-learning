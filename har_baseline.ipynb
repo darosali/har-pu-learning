{
 "cells": [
  {
   "cell_type": "code",
   "execution_count": 1,
   "id": "9efbddf1",
   "metadata": {},
   "outputs": [
    {
     "name": "stdout",
     "output_type": "stream",
     "text": [
      "cuda:0\n"
     ]
    }
   ],
   "source": [
    "import torch\n",
    "from torch.utils.data import DataLoader, TensorDataset\n",
    "import pandas as pd\n",
    "import os\n",
    "from sklearn.ensemble import RandomForestClassifier\n",
    "from sklearn.metrics import classification_report, confusion_matrix\n",
    "import seaborn as sns\n",
    "import matplotlib.pyplot as plt\n",
    "import numpy as np\n",
    "%matplotlib inline\n",
    "%load_ext autoreload\n",
    "%autoreload 2\n",
    "\n",
    "device = torch.device(\"cuda:0\" if torch.cuda.is_available() else \"cpu\")\n",
    "print(device)"
   ]
  },
  {
   "cell_type": "markdown",
   "id": "a9e8a158",
   "metadata": {},
   "source": [
    "## Load data"
   ]
  },
  {
   "cell_type": "code",
   "execution_count": 2,
   "id": "ebcdfafe",
   "metadata": {},
   "outputs": [],
   "source": [
    "DATA_DIR = os.path.join(\"data\", \"UCI HAR Dataset\")"
   ]
  },
  {
   "cell_type": "code",
   "execution_count": 3,
   "id": "9c60f2c8",
   "metadata": {},
   "outputs": [
    {
     "name": "stderr",
     "output_type": "stream",
     "text": [
      "/tmp/ipykernel_528/1776149928.py:1: FutureWarning: The 'delim_whitespace' keyword in pd.read_csv is deprecated and will be removed in a future version. Use ``sep='\\s+'`` instead\n",
      "  X_train = pd.read_csv(\n",
      "/tmp/ipykernel_528/1776149928.py:6: FutureWarning: The 'delim_whitespace' keyword in pd.read_csv is deprecated and will be removed in a future version. Use ``sep='\\s+'`` instead\n",
      "  X_test = pd.read_csv(\n"
     ]
    }
   ],
   "source": [
    "X_train = pd.read_csv(\n",
    "    os.path.join(DATA_DIR, \"train\", \"X_train.txt\"),\n",
    "    delim_whitespace=True,\n",
    "    header=None\n",
    ")\n",
    "X_test = pd.read_csv(\n",
    "    os.path.join(DATA_DIR, \"test\", \"X_test.txt\"),\n",
    "    delim_whitespace=True,\n",
    "    header=None\n",
    ")\n",
    "\n",
    "y_train = pd.read_csv(\n",
    "    os.path.join(DATA_DIR, \"train\", \"y_train.txt\"),\n",
    "    header=None\n",
    ")[0]\n",
    "y_test = pd.read_csv(\n",
    "    os.path.join(DATA_DIR, \"test\", \"y_test.txt\"),\n",
    "    header=None\n",
    ")[0]"
   ]
  },
  {
   "cell_type": "code",
   "execution_count": 4,
   "id": "b1b1e45f",
   "metadata": {},
   "outputs": [],
   "source": [
    "y_train_np = y_train.to_numpy() - 1\n",
    "y_test_np = y_test.to_numpy() - 1"
   ]
  },
  {
   "cell_type": "code",
   "execution_count": 5,
   "id": "cd8c49a1",
   "metadata": {},
   "outputs": [],
   "source": [
    "X_train_np = X_train.to_numpy()\n",
    "X_test_np = X_test.to_numpy()\n"
   ]
  },
  {
   "cell_type": "code",
   "execution_count": 6,
   "id": "decf4939",
   "metadata": {},
   "outputs": [],
   "source": [
    "X_tr_tensor   = torch.tensor(X_train.values, dtype=torch.float32)\n",
    "X_test_tensor = torch.tensor(X_test.values, dtype=torch.float32)\n",
    "y_tr_tensor   = torch.tensor(y_train.values, dtype=torch.long) - 1\n",
    "y_test_tensor = torch.tensor(y_test.values, dtype=torch.long) - 1\n"
   ]
  },
  {
   "cell_type": "code",
   "execution_count": 7,
   "id": "00e6f88f",
   "metadata": {},
   "outputs": [
    {
     "name": "stdout",
     "output_type": "stream",
     "text": [
      "torch.Size([7352, 1, 561]) torch.Size([2947, 1, 561])\n"
     ]
    }
   ],
   "source": [
    "X_tr_tensor = X_tr_tensor.view(X_tr_tensor.shape[0], 1, -1)\n",
    "X_test_tensor = X_test_tensor.view(X_test_tensor.shape[0], 1, -1)\n",
    "print(X_tr_tensor.shape, X_test_tensor.shape)"
   ]
  },
  {
   "cell_type": "code",
   "execution_count": 8,
   "id": "81ecbb83",
   "metadata": {},
   "outputs": [],
   "source": [
    "batch_size = 64\n",
    "\n",
    "tr_dataset   = TensorDataset(X_tr_tensor, y_tr_tensor)\n",
    "test_dataset = TensorDataset(X_test_tensor, y_test_tensor)\n",
    "\n",
    "train_loader   = DataLoader(tr_dataset, batch_size=batch_size, shuffle=True) # train \n",
    "test_loader = DataLoader(test_dataset, batch_size=batch_size, shuffle=False) # test"
   ]
  },
  {
   "cell_type": "markdown",
   "id": "c2364947",
   "metadata": {},
   "source": [
    "# Multiclass Learning"
   ]
  },
  {
   "cell_type": "markdown",
   "id": "59400598",
   "metadata": {},
   "source": [
    "## Try RF as baseline"
   ]
  },
  {
   "cell_type": "code",
   "execution_count": 15,
   "id": "e7379ed9",
   "metadata": {},
   "outputs": [
    {
     "data": {
      "text/html": [
       "<style>#sk-container-id-1 {\n",
       "  /* Definition of color scheme common for light and dark mode */\n",
       "  --sklearn-color-text: #000;\n",
       "  --sklearn-color-text-muted: #666;\n",
       "  --sklearn-color-line: gray;\n",
       "  /* Definition of color scheme for unfitted estimators */\n",
       "  --sklearn-color-unfitted-level-0: #fff5e6;\n",
       "  --sklearn-color-unfitted-level-1: #f6e4d2;\n",
       "  --sklearn-color-unfitted-level-2: #ffe0b3;\n",
       "  --sklearn-color-unfitted-level-3: chocolate;\n",
       "  /* Definition of color scheme for fitted estimators */\n",
       "  --sklearn-color-fitted-level-0: #f0f8ff;\n",
       "  --sklearn-color-fitted-level-1: #d4ebff;\n",
       "  --sklearn-color-fitted-level-2: #b3dbfd;\n",
       "  --sklearn-color-fitted-level-3: cornflowerblue;\n",
       "\n",
       "  /* Specific color for light theme */\n",
       "  --sklearn-color-text-on-default-background: var(--sg-text-color, var(--theme-code-foreground, var(--jp-content-font-color1, black)));\n",
       "  --sklearn-color-background: var(--sg-background-color, var(--theme-background, var(--jp-layout-color0, white)));\n",
       "  --sklearn-color-border-box: var(--sg-text-color, var(--theme-code-foreground, var(--jp-content-font-color1, black)));\n",
       "  --sklearn-color-icon: #696969;\n",
       "\n",
       "  @media (prefers-color-scheme: dark) {\n",
       "    /* Redefinition of color scheme for dark theme */\n",
       "    --sklearn-color-text-on-default-background: var(--sg-text-color, var(--theme-code-foreground, var(--jp-content-font-color1, white)));\n",
       "    --sklearn-color-background: var(--sg-background-color, var(--theme-background, var(--jp-layout-color0, #111)));\n",
       "    --sklearn-color-border-box: var(--sg-text-color, var(--theme-code-foreground, var(--jp-content-font-color1, white)));\n",
       "    --sklearn-color-icon: #878787;\n",
       "  }\n",
       "}\n",
       "\n",
       "#sk-container-id-1 {\n",
       "  color: var(--sklearn-color-text);\n",
       "}\n",
       "\n",
       "#sk-container-id-1 pre {\n",
       "  padding: 0;\n",
       "}\n",
       "\n",
       "#sk-container-id-1 input.sk-hidden--visually {\n",
       "  border: 0;\n",
       "  clip: rect(1px 1px 1px 1px);\n",
       "  clip: rect(1px, 1px, 1px, 1px);\n",
       "  height: 1px;\n",
       "  margin: -1px;\n",
       "  overflow: hidden;\n",
       "  padding: 0;\n",
       "  position: absolute;\n",
       "  width: 1px;\n",
       "}\n",
       "\n",
       "#sk-container-id-1 div.sk-dashed-wrapped {\n",
       "  border: 1px dashed var(--sklearn-color-line);\n",
       "  margin: 0 0.4em 0.5em 0.4em;\n",
       "  box-sizing: border-box;\n",
       "  padding-bottom: 0.4em;\n",
       "  background-color: var(--sklearn-color-background);\n",
       "}\n",
       "\n",
       "#sk-container-id-1 div.sk-container {\n",
       "  /* jupyter's `normalize.less` sets `[hidden] { display: none; }`\n",
       "     but bootstrap.min.css set `[hidden] { display: none !important; }`\n",
       "     so we also need the `!important` here to be able to override the\n",
       "     default hidden behavior on the sphinx rendered scikit-learn.org.\n",
       "     See: https://github.com/scikit-learn/scikit-learn/issues/21755 */\n",
       "  display: inline-block !important;\n",
       "  position: relative;\n",
       "}\n",
       "\n",
       "#sk-container-id-1 div.sk-text-repr-fallback {\n",
       "  display: none;\n",
       "}\n",
       "\n",
       "div.sk-parallel-item,\n",
       "div.sk-serial,\n",
       "div.sk-item {\n",
       "  /* draw centered vertical line to link estimators */\n",
       "  background-image: linear-gradient(var(--sklearn-color-text-on-default-background), var(--sklearn-color-text-on-default-background));\n",
       "  background-size: 2px 100%;\n",
       "  background-repeat: no-repeat;\n",
       "  background-position: center center;\n",
       "}\n",
       "\n",
       "/* Parallel-specific style estimator block */\n",
       "\n",
       "#sk-container-id-1 div.sk-parallel-item::after {\n",
       "  content: \"\";\n",
       "  width: 100%;\n",
       "  border-bottom: 2px solid var(--sklearn-color-text-on-default-background);\n",
       "  flex-grow: 1;\n",
       "}\n",
       "\n",
       "#sk-container-id-1 div.sk-parallel {\n",
       "  display: flex;\n",
       "  align-items: stretch;\n",
       "  justify-content: center;\n",
       "  background-color: var(--sklearn-color-background);\n",
       "  position: relative;\n",
       "}\n",
       "\n",
       "#sk-container-id-1 div.sk-parallel-item {\n",
       "  display: flex;\n",
       "  flex-direction: column;\n",
       "}\n",
       "\n",
       "#sk-container-id-1 div.sk-parallel-item:first-child::after {\n",
       "  align-self: flex-end;\n",
       "  width: 50%;\n",
       "}\n",
       "\n",
       "#sk-container-id-1 div.sk-parallel-item:last-child::after {\n",
       "  align-self: flex-start;\n",
       "  width: 50%;\n",
       "}\n",
       "\n",
       "#sk-container-id-1 div.sk-parallel-item:only-child::after {\n",
       "  width: 0;\n",
       "}\n",
       "\n",
       "/* Serial-specific style estimator block */\n",
       "\n",
       "#sk-container-id-1 div.sk-serial {\n",
       "  display: flex;\n",
       "  flex-direction: column;\n",
       "  align-items: center;\n",
       "  background-color: var(--sklearn-color-background);\n",
       "  padding-right: 1em;\n",
       "  padding-left: 1em;\n",
       "}\n",
       "\n",
       "\n",
       "/* Toggleable style: style used for estimator/Pipeline/ColumnTransformer box that is\n",
       "clickable and can be expanded/collapsed.\n",
       "- Pipeline and ColumnTransformer use this feature and define the default style\n",
       "- Estimators will overwrite some part of the style using the `sk-estimator` class\n",
       "*/\n",
       "\n",
       "/* Pipeline and ColumnTransformer style (default) */\n",
       "\n",
       "#sk-container-id-1 div.sk-toggleable {\n",
       "  /* Default theme specific background. It is overwritten whether we have a\n",
       "  specific estimator or a Pipeline/ColumnTransformer */\n",
       "  background-color: var(--sklearn-color-background);\n",
       "}\n",
       "\n",
       "/* Toggleable label */\n",
       "#sk-container-id-1 label.sk-toggleable__label {\n",
       "  cursor: pointer;\n",
       "  display: flex;\n",
       "  width: 100%;\n",
       "  margin-bottom: 0;\n",
       "  padding: 0.5em;\n",
       "  box-sizing: border-box;\n",
       "  text-align: center;\n",
       "  align-items: start;\n",
       "  justify-content: space-between;\n",
       "  gap: 0.5em;\n",
       "}\n",
       "\n",
       "#sk-container-id-1 label.sk-toggleable__label .caption {\n",
       "  font-size: 0.6rem;\n",
       "  font-weight: lighter;\n",
       "  color: var(--sklearn-color-text-muted);\n",
       "}\n",
       "\n",
       "#sk-container-id-1 label.sk-toggleable__label-arrow:before {\n",
       "  /* Arrow on the left of the label */\n",
       "  content: \"▸\";\n",
       "  float: left;\n",
       "  margin-right: 0.25em;\n",
       "  color: var(--sklearn-color-icon);\n",
       "}\n",
       "\n",
       "#sk-container-id-1 label.sk-toggleable__label-arrow:hover:before {\n",
       "  color: var(--sklearn-color-text);\n",
       "}\n",
       "\n",
       "/* Toggleable content - dropdown */\n",
       "\n",
       "#sk-container-id-1 div.sk-toggleable__content {\n",
       "  max-height: 0;\n",
       "  max-width: 0;\n",
       "  overflow: hidden;\n",
       "  text-align: left;\n",
       "  /* unfitted */\n",
       "  background-color: var(--sklearn-color-unfitted-level-0);\n",
       "}\n",
       "\n",
       "#sk-container-id-1 div.sk-toggleable__content.fitted {\n",
       "  /* fitted */\n",
       "  background-color: var(--sklearn-color-fitted-level-0);\n",
       "}\n",
       "\n",
       "#sk-container-id-1 div.sk-toggleable__content pre {\n",
       "  margin: 0.2em;\n",
       "  border-radius: 0.25em;\n",
       "  color: var(--sklearn-color-text);\n",
       "  /* unfitted */\n",
       "  background-color: var(--sklearn-color-unfitted-level-0);\n",
       "}\n",
       "\n",
       "#sk-container-id-1 div.sk-toggleable__content.fitted pre {\n",
       "  /* unfitted */\n",
       "  background-color: var(--sklearn-color-fitted-level-0);\n",
       "}\n",
       "\n",
       "#sk-container-id-1 input.sk-toggleable__control:checked~div.sk-toggleable__content {\n",
       "  /* Expand drop-down */\n",
       "  max-height: 200px;\n",
       "  max-width: 100%;\n",
       "  overflow: auto;\n",
       "}\n",
       "\n",
       "#sk-container-id-1 input.sk-toggleable__control:checked~label.sk-toggleable__label-arrow:before {\n",
       "  content: \"▾\";\n",
       "}\n",
       "\n",
       "/* Pipeline/ColumnTransformer-specific style */\n",
       "\n",
       "#sk-container-id-1 div.sk-label input.sk-toggleable__control:checked~label.sk-toggleable__label {\n",
       "  color: var(--sklearn-color-text);\n",
       "  background-color: var(--sklearn-color-unfitted-level-2);\n",
       "}\n",
       "\n",
       "#sk-container-id-1 div.sk-label.fitted input.sk-toggleable__control:checked~label.sk-toggleable__label {\n",
       "  background-color: var(--sklearn-color-fitted-level-2);\n",
       "}\n",
       "\n",
       "/* Estimator-specific style */\n",
       "\n",
       "/* Colorize estimator box */\n",
       "#sk-container-id-1 div.sk-estimator input.sk-toggleable__control:checked~label.sk-toggleable__label {\n",
       "  /* unfitted */\n",
       "  background-color: var(--sklearn-color-unfitted-level-2);\n",
       "}\n",
       "\n",
       "#sk-container-id-1 div.sk-estimator.fitted input.sk-toggleable__control:checked~label.sk-toggleable__label {\n",
       "  /* fitted */\n",
       "  background-color: var(--sklearn-color-fitted-level-2);\n",
       "}\n",
       "\n",
       "#sk-container-id-1 div.sk-label label.sk-toggleable__label,\n",
       "#sk-container-id-1 div.sk-label label {\n",
       "  /* The background is the default theme color */\n",
       "  color: var(--sklearn-color-text-on-default-background);\n",
       "}\n",
       "\n",
       "/* On hover, darken the color of the background */\n",
       "#sk-container-id-1 div.sk-label:hover label.sk-toggleable__label {\n",
       "  color: var(--sklearn-color-text);\n",
       "  background-color: var(--sklearn-color-unfitted-level-2);\n",
       "}\n",
       "\n",
       "/* Label box, darken color on hover, fitted */\n",
       "#sk-container-id-1 div.sk-label.fitted:hover label.sk-toggleable__label.fitted {\n",
       "  color: var(--sklearn-color-text);\n",
       "  background-color: var(--sklearn-color-fitted-level-2);\n",
       "}\n",
       "\n",
       "/* Estimator label */\n",
       "\n",
       "#sk-container-id-1 div.sk-label label {\n",
       "  font-family: monospace;\n",
       "  font-weight: bold;\n",
       "  display: inline-block;\n",
       "  line-height: 1.2em;\n",
       "}\n",
       "\n",
       "#sk-container-id-1 div.sk-label-container {\n",
       "  text-align: center;\n",
       "}\n",
       "\n",
       "/* Estimator-specific */\n",
       "#sk-container-id-1 div.sk-estimator {\n",
       "  font-family: monospace;\n",
       "  border: 1px dotted var(--sklearn-color-border-box);\n",
       "  border-radius: 0.25em;\n",
       "  box-sizing: border-box;\n",
       "  margin-bottom: 0.5em;\n",
       "  /* unfitted */\n",
       "  background-color: var(--sklearn-color-unfitted-level-0);\n",
       "}\n",
       "\n",
       "#sk-container-id-1 div.sk-estimator.fitted {\n",
       "  /* fitted */\n",
       "  background-color: var(--sklearn-color-fitted-level-0);\n",
       "}\n",
       "\n",
       "/* on hover */\n",
       "#sk-container-id-1 div.sk-estimator:hover {\n",
       "  /* unfitted */\n",
       "  background-color: var(--sklearn-color-unfitted-level-2);\n",
       "}\n",
       "\n",
       "#sk-container-id-1 div.sk-estimator.fitted:hover {\n",
       "  /* fitted */\n",
       "  background-color: var(--sklearn-color-fitted-level-2);\n",
       "}\n",
       "\n",
       "/* Specification for estimator info (e.g. \"i\" and \"?\") */\n",
       "\n",
       "/* Common style for \"i\" and \"?\" */\n",
       "\n",
       ".sk-estimator-doc-link,\n",
       "a:link.sk-estimator-doc-link,\n",
       "a:visited.sk-estimator-doc-link {\n",
       "  float: right;\n",
       "  font-size: smaller;\n",
       "  line-height: 1em;\n",
       "  font-family: monospace;\n",
       "  background-color: var(--sklearn-color-background);\n",
       "  border-radius: 1em;\n",
       "  height: 1em;\n",
       "  width: 1em;\n",
       "  text-decoration: none !important;\n",
       "  margin-left: 0.5em;\n",
       "  text-align: center;\n",
       "  /* unfitted */\n",
       "  border: var(--sklearn-color-unfitted-level-1) 1pt solid;\n",
       "  color: var(--sklearn-color-unfitted-level-1);\n",
       "}\n",
       "\n",
       ".sk-estimator-doc-link.fitted,\n",
       "a:link.sk-estimator-doc-link.fitted,\n",
       "a:visited.sk-estimator-doc-link.fitted {\n",
       "  /* fitted */\n",
       "  border: var(--sklearn-color-fitted-level-1) 1pt solid;\n",
       "  color: var(--sklearn-color-fitted-level-1);\n",
       "}\n",
       "\n",
       "/* On hover */\n",
       "div.sk-estimator:hover .sk-estimator-doc-link:hover,\n",
       ".sk-estimator-doc-link:hover,\n",
       "div.sk-label-container:hover .sk-estimator-doc-link:hover,\n",
       ".sk-estimator-doc-link:hover {\n",
       "  /* unfitted */\n",
       "  background-color: var(--sklearn-color-unfitted-level-3);\n",
       "  color: var(--sklearn-color-background);\n",
       "  text-decoration: none;\n",
       "}\n",
       "\n",
       "div.sk-estimator.fitted:hover .sk-estimator-doc-link.fitted:hover,\n",
       ".sk-estimator-doc-link.fitted:hover,\n",
       "div.sk-label-container:hover .sk-estimator-doc-link.fitted:hover,\n",
       ".sk-estimator-doc-link.fitted:hover {\n",
       "  /* fitted */\n",
       "  background-color: var(--sklearn-color-fitted-level-3);\n",
       "  color: var(--sklearn-color-background);\n",
       "  text-decoration: none;\n",
       "}\n",
       "\n",
       "/* Span, style for the box shown on hovering the info icon */\n",
       ".sk-estimator-doc-link span {\n",
       "  display: none;\n",
       "  z-index: 9999;\n",
       "  position: relative;\n",
       "  font-weight: normal;\n",
       "  right: .2ex;\n",
       "  padding: .5ex;\n",
       "  margin: .5ex;\n",
       "  width: min-content;\n",
       "  min-width: 20ex;\n",
       "  max-width: 50ex;\n",
       "  color: var(--sklearn-color-text);\n",
       "  box-shadow: 2pt 2pt 4pt #999;\n",
       "  /* unfitted */\n",
       "  background: var(--sklearn-color-unfitted-level-0);\n",
       "  border: .5pt solid var(--sklearn-color-unfitted-level-3);\n",
       "}\n",
       "\n",
       ".sk-estimator-doc-link.fitted span {\n",
       "  /* fitted */\n",
       "  background: var(--sklearn-color-fitted-level-0);\n",
       "  border: var(--sklearn-color-fitted-level-3);\n",
       "}\n",
       "\n",
       ".sk-estimator-doc-link:hover span {\n",
       "  display: block;\n",
       "}\n",
       "\n",
       "/* \"?\"-specific style due to the `<a>` HTML tag */\n",
       "\n",
       "#sk-container-id-1 a.estimator_doc_link {\n",
       "  float: right;\n",
       "  font-size: 1rem;\n",
       "  line-height: 1em;\n",
       "  font-family: monospace;\n",
       "  background-color: var(--sklearn-color-background);\n",
       "  border-radius: 1rem;\n",
       "  height: 1rem;\n",
       "  width: 1rem;\n",
       "  text-decoration: none;\n",
       "  /* unfitted */\n",
       "  color: var(--sklearn-color-unfitted-level-1);\n",
       "  border: var(--sklearn-color-unfitted-level-1) 1pt solid;\n",
       "}\n",
       "\n",
       "#sk-container-id-1 a.estimator_doc_link.fitted {\n",
       "  /* fitted */\n",
       "  border: var(--sklearn-color-fitted-level-1) 1pt solid;\n",
       "  color: var(--sklearn-color-fitted-level-1);\n",
       "}\n",
       "\n",
       "/* On hover */\n",
       "#sk-container-id-1 a.estimator_doc_link:hover {\n",
       "  /* unfitted */\n",
       "  background-color: var(--sklearn-color-unfitted-level-3);\n",
       "  color: var(--sklearn-color-background);\n",
       "  text-decoration: none;\n",
       "}\n",
       "\n",
       "#sk-container-id-1 a.estimator_doc_link.fitted:hover {\n",
       "  /* fitted */\n",
       "  background-color: var(--sklearn-color-fitted-level-3);\n",
       "}\n",
       "</style><div id=\"sk-container-id-1\" class=\"sk-top-container\"><div class=\"sk-text-repr-fallback\"><pre>RandomForestClassifier(random_state=42)</pre><b>In a Jupyter environment, please rerun this cell to show the HTML representation or trust the notebook. <br />On GitHub, the HTML representation is unable to render, please try loading this page with nbviewer.org.</b></div><div class=\"sk-container\" hidden><div class=\"sk-item\"><div class=\"sk-estimator fitted sk-toggleable\"><input class=\"sk-toggleable__control sk-hidden--visually\" id=\"sk-estimator-id-1\" type=\"checkbox\" checked><label for=\"sk-estimator-id-1\" class=\"sk-toggleable__label fitted sk-toggleable__label-arrow\"><div><div>RandomForestClassifier</div></div><div><a class=\"sk-estimator-doc-link fitted\" rel=\"noreferrer\" target=\"_blank\" href=\"https://scikit-learn.org/1.6/modules/generated/sklearn.ensemble.RandomForestClassifier.html\">?<span>Documentation for RandomForestClassifier</span></a><span class=\"sk-estimator-doc-link fitted\">i<span>Fitted</span></span></div></label><div class=\"sk-toggleable__content fitted\"><pre>RandomForestClassifier(random_state=42)</pre></div> </div></div></div></div>"
      ],
      "text/plain": [
       "RandomForestClassifier(random_state=42)"
      ]
     },
     "execution_count": 15,
     "metadata": {},
     "output_type": "execute_result"
    }
   ],
   "source": [
    "clf = RandomForestClassifier(n_estimators=100, random_state=42)\n",
    "clf.fit(X_train_np, y_train_np)"
   ]
  },
  {
   "cell_type": "code",
   "execution_count": 16,
   "id": "3b5fd50f",
   "metadata": {},
   "outputs": [],
   "source": [
    "y_pred = clf.predict(X_test_np)"
   ]
  },
  {
   "cell_type": "code",
   "execution_count": 17,
   "id": "9a596b08",
   "metadata": {},
   "outputs": [
    {
     "name": "stdout",
     "output_type": "stream",
     "text": [
      "              precision    recall  f1-score   support\n",
      "\n",
      "           0     0.8887    0.9657    0.9256       496\n",
      "           1     0.8845    0.8938    0.8891       471\n",
      "           2     0.9704    0.8595    0.9116       420\n",
      "           3     0.9112    0.8982    0.9046       491\n",
      "           4     0.9072    0.9192    0.9132       532\n",
      "           5     1.0000    1.0000    1.0000       537\n",
      "\n",
      "    accuracy                         0.9257      2947\n",
      "   macro avg     0.9270    0.9227    0.9240      2947\n",
      "weighted avg     0.9270    0.9257    0.9256      2947\n",
      "\n"
     ]
    }
   ],
   "source": [
    "print(classification_report(y_test_np, y_pred, digits=4))"
   ]
  },
  {
   "cell_type": "markdown",
   "id": "da881c83",
   "metadata": {},
   "source": [
    "## CNN"
   ]
  },
  {
   "cell_type": "code",
   "execution_count": null,
   "id": "71f126bc",
   "metadata": {},
   "outputs": [],
   "source": [
    "from baseline import Conv_Net, train, LSTMNet"
   ]
  },
  {
   "cell_type": "code",
   "execution_count": 27,
   "id": "41048bdb",
   "metadata": {},
   "outputs": [
    {
     "name": "stdout",
     "output_type": "stream",
     "text": [
      "in_channel: 1, sequence_length: 561, n_output: 6\n"
     ]
    }
   ],
   "source": [
    "in_channel = X_tr_tensor.shape[1]\n",
    "seq_length = X_tr_tensor.shape[2]\n",
    "n_output = len(y_train.unique())\n",
    "print(f'in_channel: {in_channel}, sequence_length: {seq_length}, n_output: {n_output}')\n",
    "n_hidden = 128\n",
    "num_epochs = 15\n",
    "lr = 0.0001"
   ]
  },
  {
   "cell_type": "code",
   "execution_count": 25,
   "id": "3d611a68",
   "metadata": {},
   "outputs": [
    {
     "name": "stdout",
     "output_type": "stream",
     "text": [
      "Conv_Net(\n",
      "  (conv1): Conv1d(1, 32, kernel_size=(3,), stride=(1,), padding=(1,))\n",
      "  (conv2): Conv1d(32, 64, kernel_size=(3,), stride=(1,), padding=(1,))\n",
      "  (relu): ReLU()\n",
      "  (maxpool): MaxPool1d(kernel_size=2, stride=2, padding=0, dilation=1, ceil_mode=False)\n",
      "  (dropout): Dropout(p=0.5, inplace=False)\n",
      "  (flatten): Flatten(start_dim=1, end_dim=-1)\n",
      "  (fc1): Linear(in_features=17920, out_features=128, bias=True)\n",
      "  (fc2): Linear(in_features=128, out_features=6, bias=True)\n",
      "  (features): Sequential(\n",
      "    (0): Conv1d(1, 32, kernel_size=(3,), stride=(1,), padding=(1,))\n",
      "    (1): ReLU()\n",
      "    (2): Conv1d(32, 64, kernel_size=(3,), stride=(1,), padding=(1,))\n",
      "    (3): ReLU()\n",
      "    (4): MaxPool1d(kernel_size=2, stride=2, padding=0, dilation=1, ceil_mode=False)\n",
      "    (5): Dropout(p=0.5, inplace=False)\n",
      "  )\n",
      "  (classifier): Sequential(\n",
      "    (0): Linear(in_features=17920, out_features=128, bias=True)\n",
      "    (1): ReLU()\n",
      "    (2): Linear(in_features=128, out_features=6, bias=True)\n",
      "  )\n",
      ")\n"
     ]
    }
   ],
   "source": [
    "model = Conv_Net(in_channel, seq_length, n_hidden, n_output)\n",
    "print(model)"
   ]
  },
  {
   "cell_type": "code",
   "execution_count": 26,
   "id": "166841e0",
   "metadata": {},
   "outputs": [
    {
     "name": "stdout",
     "output_type": "stream",
     "text": [
      "env: CUDA_LAUNCH_BLOCKING=1\n"
     ]
    }
   ],
   "source": [
    "%env CUDA_LAUNCH_BLOCKING=1\n",
    "model = model.to(device)"
   ]
  },
  {
   "cell_type": "code",
   "execution_count": 28,
   "id": "abb20280",
   "metadata": {},
   "outputs": [
    {
     "name": "stderr",
     "output_type": "stream",
     "text": [
      "  0%|          | 0/115 [00:00<?, ?it/s]"
     ]
    },
    {
     "name": "stderr",
     "output_type": "stream",
     "text": [
      "100%|██████████| 115/115 [00:01<00:00, 89.46it/s] \n"
     ]
    },
    {
     "name": "stdout",
     "output_type": "stream",
     "text": [
      "Epoch [1/15], tr_loss: 0.99697 tr_acc: 0.65846 test_loss: 0.57657, test_acc: 0.85986\n"
     ]
    },
    {
     "name": "stderr",
     "output_type": "stream",
     "text": [
      "100%|██████████| 115/115 [00:01<00:00, 105.62it/s]\n"
     ]
    },
    {
     "name": "stdout",
     "output_type": "stream",
     "text": [
      "Epoch [2/15], tr_loss: 0.39188 tr_acc: 0.87935 test_loss: 0.34782, test_acc: 0.87106\n"
     ]
    },
    {
     "name": "stderr",
     "output_type": "stream",
     "text": [
      "100%|██████████| 115/115 [00:01<00:00, 106.34it/s]\n"
     ]
    },
    {
     "name": "stdout",
     "output_type": "stream",
     "text": [
      "Epoch [3/15], tr_loss: 0.23968 tr_acc: 0.92451 test_loss: 0.22992, test_acc: 0.92806\n"
     ]
    },
    {
     "name": "stderr",
     "output_type": "stream",
     "text": [
      "100%|██████████| 115/115 [00:01<00:00, 105.00it/s]\n"
     ]
    },
    {
     "name": "stdout",
     "output_type": "stream",
     "text": [
      "Epoch [4/15], tr_loss: 0.19042 tr_acc: 0.93240 test_loss: 0.20425, test_acc: 0.93315\n"
     ]
    },
    {
     "name": "stderr",
     "output_type": "stream",
     "text": [
      "100%|██████████| 115/115 [00:01<00:00, 103.07it/s]\n"
     ]
    },
    {
     "name": "stdout",
     "output_type": "stream",
     "text": [
      "Epoch [5/15], tr_loss: 0.15205 tr_acc: 0.94627 test_loss: 0.21060, test_acc: 0.91313\n"
     ]
    },
    {
     "name": "stderr",
     "output_type": "stream",
     "text": [
      "100%|██████████| 115/115 [00:01<00:00, 99.18it/s] \n"
     ]
    },
    {
     "name": "stdout",
     "output_type": "stream",
     "text": [
      "Epoch [6/15], tr_loss: 0.12871 tr_acc: 0.95362 test_loss: 0.15832, test_acc: 0.94537\n"
     ]
    },
    {
     "name": "stderr",
     "output_type": "stream",
     "text": [
      "100%|██████████| 115/115 [00:01<00:00, 100.26it/s]\n"
     ]
    },
    {
     "name": "stdout",
     "output_type": "stream",
     "text": [
      "Epoch [7/15], tr_loss: 0.11094 tr_acc: 0.96015 test_loss: 0.16002, test_acc: 0.93553\n"
     ]
    },
    {
     "name": "stderr",
     "output_type": "stream",
     "text": [
      "100%|██████████| 115/115 [00:01<00:00, 99.44it/s]\n"
     ]
    },
    {
     "name": "stdout",
     "output_type": "stream",
     "text": [
      "Epoch [8/15], tr_loss: 0.09825 tr_acc: 0.96613 test_loss: 0.15889, test_acc: 0.93281\n"
     ]
    },
    {
     "name": "stderr",
     "output_type": "stream",
     "text": [
      "100%|██████████| 115/115 [00:01<00:00, 97.38it/s]\n"
     ]
    },
    {
     "name": "stdout",
     "output_type": "stream",
     "text": [
      "Epoch [9/15], tr_loss: 0.08928 tr_acc: 0.97008 test_loss: 0.13489, test_acc: 0.94842\n"
     ]
    },
    {
     "name": "stderr",
     "output_type": "stream",
     "text": [
      "100%|██████████| 115/115 [00:01<00:00, 95.85it/s]\n"
     ]
    },
    {
     "name": "stdout",
     "output_type": "stream",
     "text": [
      "Epoch [10/15], tr_loss: 0.08486 tr_acc: 0.97225 test_loss: 0.14347, test_acc: 0.93926\n"
     ]
    },
    {
     "name": "stderr",
     "output_type": "stream",
     "text": [
      "100%|██████████| 115/115 [00:01<00:00, 102.96it/s]\n"
     ]
    },
    {
     "name": "stdout",
     "output_type": "stream",
     "text": [
      "Epoch [11/15], tr_loss: 0.07326 tr_acc: 0.97334 test_loss: 0.12550, test_acc: 0.95148\n"
     ]
    },
    {
     "name": "stderr",
     "output_type": "stream",
     "text": [
      "100%|██████████| 115/115 [00:01<00:00, 102.05it/s]\n"
     ]
    },
    {
     "name": "stdout",
     "output_type": "stream",
     "text": [
      "Epoch [12/15], tr_loss: 0.07212 tr_acc: 0.97511 test_loss: 0.12708, test_acc: 0.95046\n"
     ]
    },
    {
     "name": "stderr",
     "output_type": "stream",
     "text": [
      "100%|██████████| 115/115 [00:01<00:00, 105.31it/s]\n"
     ]
    },
    {
     "name": "stdout",
     "output_type": "stream",
     "text": [
      "Epoch [13/15], tr_loss: 0.06864 tr_acc: 0.97701 test_loss: 0.12831, test_acc: 0.95012\n"
     ]
    },
    {
     "name": "stderr",
     "output_type": "stream",
     "text": [
      "100%|██████████| 115/115 [00:01<00:00, 105.41it/s]\n"
     ]
    },
    {
     "name": "stdout",
     "output_type": "stream",
     "text": [
      "Epoch [14/15], tr_loss: 0.06418 tr_acc: 0.97688 test_loss: 0.11774, test_acc: 0.95385\n"
     ]
    },
    {
     "name": "stderr",
     "output_type": "stream",
     "text": [
      "100%|██████████| 115/115 [00:01<00:00, 102.95it/s]\n"
     ]
    },
    {
     "name": "stdout",
     "output_type": "stream",
     "text": [
      "Epoch [15/15], tr_loss: 0.06029 tr_acc: 0.97987 test_loss: 0.12552, test_acc: 0.95385\n"
     ]
    }
   ],
   "source": [
    "model = train(model, train_loader, test_loader, in_channel, seq_length, n_hidden, n_output, lr, num_epochs, device)"
   ]
  },
  {
   "cell_type": "code",
   "execution_count": 30,
   "id": "8611b769",
   "metadata": {},
   "outputs": [],
   "source": [
    "out_test = model(X_test_tensor.to(device))\n",
    "preds_test = torch.max(out_test, 1)[1]"
   ]
  },
  {
   "cell_type": "code",
   "execution_count": 42,
   "id": "2a8b1d19",
   "metadata": {},
   "outputs": [
    {
     "data": {
      "text/plain": [
       "array([4, 4, 4, ..., 1, 1, 1])"
      ]
     },
     "execution_count": 42,
     "metadata": {},
     "output_type": "execute_result"
    }
   ],
   "source": [
    "preds_test.cpu().detach().numpy()"
   ]
  },
  {
   "cell_type": "code",
   "execution_count": 45,
   "id": "f516cc8e",
   "metadata": {},
   "outputs": [
    {
     "name": "stdout",
     "output_type": "stream",
     "text": [
      "              precision    recall  f1-score   support\n",
      "\n",
      "           0     0.9370    0.9899    0.9627       496\n",
      "           1     0.9384    0.9384    0.9384       471\n",
      "           2     0.9898    0.9286    0.9582       420\n",
      "           3     0.9429    0.9084    0.9253       491\n",
      "           4     0.9283    0.9492    0.9387       532\n",
      "           5     0.9926    1.0000    0.9963       537\n",
      "\n",
      "    accuracy                         0.9539      2947\n",
      "   macro avg     0.9549    0.9524    0.9533      2947\n",
      "weighted avg     0.9543    0.9539    0.9537      2947\n",
      "\n"
     ]
    }
   ],
   "source": [
    "print(classification_report(y_test_np, preds_test.cpu().detach().numpy(), digits=4))"
   ]
  },
  {
   "cell_type": "markdown",
   "id": "4561fcee",
   "metadata": {},
   "source": [
    "## LSTM with dropout + batchnorm "
   ]
  },
  {
   "cell_type": "code",
   "execution_count": 89,
   "id": "8b1c22ce",
   "metadata": {},
   "outputs": [
    {
     "data": {
      "text/plain": [
       "LSTMNet(\n",
       "  (lstm): LSTM(1, 64, batch_first=True)\n",
       "  (bn): BatchNorm1d(64, eps=1e-05, momentum=0.1, affine=True, track_running_stats=True)\n",
       "  (dropout): Dropout(p=0.5, inplace=False)\n",
       "  (fc): Linear(in_features=64, out_features=6, bias=True)\n",
       ")"
      ]
     },
     "execution_count": 89,
     "metadata": {},
     "output_type": "execute_result"
    }
   ],
   "source": [
    "from baseline import Conv_Net, train, LSTMNet\n",
    "model_lstm = LSTMNet(in_channel, hidden_dim=64, n_output=6, num_layers=1)\n",
    "model_lstm.to(device)"
   ]
  },
  {
   "cell_type": "code",
   "execution_count": 90,
   "id": "01c8aa0f",
   "metadata": {},
   "outputs": [
    {
     "name": "stderr",
     "output_type": "stream",
     "text": [
      "  0%|          | 0/115 [00:00<?, ?it/s]"
     ]
    },
    {
     "name": "stderr",
     "output_type": "stream",
     "text": [
      "100%|██████████| 115/115 [00:01<00:00, 73.05it/s]\n"
     ]
    },
    {
     "name": "stdout",
     "output_type": "stream",
     "text": [
      "Epoch [1/20], tr_loss: 1.58529 tr_acc: 0.34168 test_loss: 1.48732, test_acc: 0.41771\n"
     ]
    },
    {
     "name": "stderr",
     "output_type": "stream",
     "text": [
      "100%|██████████| 115/115 [00:01<00:00, 100.83it/s]\n"
     ]
    },
    {
     "name": "stdout",
     "output_type": "stream",
     "text": [
      "Epoch [2/20], tr_loss: 1.40076 tr_acc: 0.43050 test_loss: 1.39601, test_acc: 0.46115\n"
     ]
    },
    {
     "name": "stderr",
     "output_type": "stream",
     "text": [
      "100%|██████████| 115/115 [00:01<00:00, 106.76it/s]\n"
     ]
    },
    {
     "name": "stdout",
     "output_type": "stream",
     "text": [
      "Epoch [3/20], tr_loss: 1.32448 tr_acc: 0.47429 test_loss: 1.29549, test_acc: 0.52664\n"
     ]
    },
    {
     "name": "stderr",
     "output_type": "stream",
     "text": [
      "100%|██████████| 115/115 [00:01<00:00, 106.93it/s]\n"
     ]
    },
    {
     "name": "stdout",
     "output_type": "stream",
     "text": [
      "Epoch [4/20], tr_loss: 1.07145 tr_acc: 0.60623 test_loss: 0.96570, test_acc: 0.63047\n"
     ]
    },
    {
     "name": "stderr",
     "output_type": "stream",
     "text": [
      "100%|██████████| 115/115 [00:01<00:00, 102.88it/s]\n"
     ]
    },
    {
     "name": "stdout",
     "output_type": "stream",
     "text": [
      "Epoch [5/20], tr_loss: 0.87593 tr_acc: 0.65805 test_loss: 0.87754, test_acc: 0.65864\n"
     ]
    },
    {
     "name": "stderr",
     "output_type": "stream",
     "text": [
      "100%|██████████| 115/115 [00:01<00:00, 105.64it/s]\n"
     ]
    },
    {
     "name": "stdout",
     "output_type": "stream",
     "text": [
      "Epoch [6/20], tr_loss: 0.81576 tr_acc: 0.67750 test_loss: 0.88833, test_acc: 0.64031\n"
     ]
    },
    {
     "name": "stderr",
     "output_type": "stream",
     "text": [
      "100%|██████████| 115/115 [00:01<00:00, 100.41it/s]\n"
     ]
    },
    {
     "name": "stdout",
     "output_type": "stream",
     "text": [
      "Epoch [7/20], tr_loss: 0.77487 tr_acc: 0.70035 test_loss: 0.91527, test_acc: 0.60468\n"
     ]
    },
    {
     "name": "stderr",
     "output_type": "stream",
     "text": [
      "100%|██████████| 115/115 [00:01<00:00, 98.51it/s] \n"
     ]
    },
    {
     "name": "stdout",
     "output_type": "stream",
     "text": [
      "Epoch [8/20], tr_loss: 0.73771 tr_acc: 0.71844 test_loss: 0.76613, test_acc: 0.66271\n"
     ]
    },
    {
     "name": "stderr",
     "output_type": "stream",
     "text": [
      "100%|██████████| 115/115 [00:01<00:00, 100.70it/s]\n"
     ]
    },
    {
     "name": "stdout",
     "output_type": "stream",
     "text": [
      "Epoch [9/20], tr_loss: 0.68386 tr_acc: 0.74905 test_loss: 0.71852, test_acc: 0.69969\n"
     ]
    },
    {
     "name": "stderr",
     "output_type": "stream",
     "text": [
      "100%|██████████| 115/115 [00:01<00:00, 102.65it/s]\n"
     ]
    },
    {
     "name": "stdout",
     "output_type": "stream",
     "text": [
      "Epoch [10/20], tr_loss: 0.65311 tr_acc: 0.75653 test_loss: 0.74048, test_acc: 0.70207\n"
     ]
    },
    {
     "name": "stderr",
     "output_type": "stream",
     "text": [
      "100%|██████████| 115/115 [00:01<00:00, 95.38it/s]\n"
     ]
    },
    {
     "name": "stdout",
     "output_type": "stream",
     "text": [
      "Epoch [11/20], tr_loss: 0.60620 tr_acc: 0.77816 test_loss: 0.69134, test_acc: 0.71395\n"
     ]
    },
    {
     "name": "stderr",
     "output_type": "stream",
     "text": [
      "100%|██████████| 115/115 [00:01<00:00, 98.03it/s]\n"
     ]
    },
    {
     "name": "stdout",
     "output_type": "stream",
     "text": [
      "Epoch [12/20], tr_loss: 0.56436 tr_acc: 0.79869 test_loss: 0.68331, test_acc: 0.72718\n"
     ]
    },
    {
     "name": "stderr",
     "output_type": "stream",
     "text": [
      "100%|██████████| 115/115 [00:01<00:00, 102.78it/s]\n"
     ]
    },
    {
     "name": "stdout",
     "output_type": "stream",
     "text": [
      "Epoch [13/20], tr_loss: 0.54496 tr_acc: 0.80291 test_loss: 0.63584, test_acc: 0.76077\n"
     ]
    },
    {
     "name": "stderr",
     "output_type": "stream",
     "text": [
      "100%|██████████| 115/115 [00:01<00:00, 103.01it/s]\n"
     ]
    },
    {
     "name": "stdout",
     "output_type": "stream",
     "text": [
      "Epoch [14/20], tr_loss: 0.51834 tr_acc: 0.80985 test_loss: 0.65728, test_acc: 0.74347\n"
     ]
    },
    {
     "name": "stderr",
     "output_type": "stream",
     "text": [
      "100%|██████████| 115/115 [00:01<00:00, 104.80it/s]\n"
     ]
    },
    {
     "name": "stdout",
     "output_type": "stream",
     "text": [
      "Epoch [15/20], tr_loss: 0.48812 tr_acc: 0.82073 test_loss: 0.60911, test_acc: 0.75942\n"
     ]
    },
    {
     "name": "stderr",
     "output_type": "stream",
     "text": [
      "100%|██████████| 115/115 [00:01<00:00, 106.52it/s]\n"
     ]
    },
    {
     "name": "stdout",
     "output_type": "stream",
     "text": [
      "Epoch [16/20], tr_loss: 0.47187 tr_acc: 0.82848 test_loss: 0.58269, test_acc: 0.78012\n"
     ]
    },
    {
     "name": "stderr",
     "output_type": "stream",
     "text": [
      "100%|██████████| 115/115 [00:01<00:00, 107.88it/s]\n"
     ]
    },
    {
     "name": "stdout",
     "output_type": "stream",
     "text": [
      "Epoch [17/20], tr_loss: 0.46657 tr_acc: 0.82386 test_loss: 0.59281, test_acc: 0.76247\n"
     ]
    },
    {
     "name": "stderr",
     "output_type": "stream",
     "text": [
      "100%|██████████| 115/115 [00:01<00:00, 107.79it/s]\n"
     ]
    },
    {
     "name": "stdout",
     "output_type": "stream",
     "text": [
      "Epoch [18/20], tr_loss: 0.45087 tr_acc: 0.83107 test_loss: 0.63989, test_acc: 0.76552\n"
     ]
    },
    {
     "name": "stderr",
     "output_type": "stream",
     "text": [
      "100%|██████████| 115/115 [00:01<00:00, 110.04it/s]\n"
     ]
    },
    {
     "name": "stdout",
     "output_type": "stream",
     "text": [
      "Epoch [19/20], tr_loss: 0.44592 tr_acc: 0.83025 test_loss: 0.57175, test_acc: 0.78317\n"
     ]
    },
    {
     "name": "stderr",
     "output_type": "stream",
     "text": [
      "100%|██████████| 115/115 [00:01<00:00, 106.82it/s]\n"
     ]
    },
    {
     "name": "stdout",
     "output_type": "stream",
     "text": [
      "Epoch [20/20], tr_loss: 0.43677 tr_acc: 0.83107 test_loss: 0.56708, test_acc: 0.78419\n"
     ]
    }
   ],
   "source": [
    "model_lstm = train(model_lstm, train_loader, test_loader, lr, 20, device)"
   ]
  },
  {
   "cell_type": "code",
   "execution_count": null,
   "id": "290a0523",
   "metadata": {},
   "outputs": [
    {
     "name": "stdout",
     "output_type": "stream",
     "text": [
      "              precision    recall  f1-score   support\n",
      "\n",
      "           0     0.6898    0.6815    0.6856       496\n",
      "           1     0.6727    0.8684    0.7581       471\n",
      "           2     0.7651    0.5738    0.6558       420\n",
      "           3     0.7650    0.8289    0.7957       491\n",
      "           4     0.8256    0.7650    0.7941       532\n",
      "           5     1.0000    0.9479    0.9732       537\n",
      "\n",
      "    accuracy                         0.7842      2947\n",
      "   macro avg     0.7864    0.7776    0.7771      2947\n",
      "weighted avg     0.7914    0.7842    0.7833      2947\n",
      "\n"
     ]
    }
   ],
   "source": [
    "X_test_tensor = X_test_tensor.permute(0, 2, 1)  # permute once here\n",
    "test_dataset = TensorDataset(X_test_tensor, torch.from_numpy(y_test_np))\n",
    "test_loader = DataLoader(test_dataset, batch_size=64)  # adjust batch_size to your GPU\n",
    "\n",
    "all_preds = []\n",
    "model_lstm.eval()\n",
    "with torch.no_grad():\n",
    "    for batch_X, _ in test_loader:\n",
    "        batch_X = batch_X.to(device)\n",
    "        outputs = model_lstm(batch_X)\n",
    "        preds = torch.max(outputs, 1)[1]\n",
    "        all_preds.append(preds.cpu())\n",
    "\n",
    "# Concatenate all predictions\n",
    "all_preds = torch.cat(all_preds).numpy()\n",
    "\n",
    "print(classification_report(y_test_np, all_preds, digits=4))\n",
    "print(confusion_matrix(y_test_np, all_preds))\n"
   ]
  },
  {
   "cell_type": "markdown",
   "id": "53608cac",
   "metadata": {},
   "source": [
    "## InceptionTime"
   ]
  },
  {
   "cell_type": "code",
   "execution_count": null,
   "id": "a257af92",
   "metadata": {},
   "outputs": [],
   "source": [
    "from tsai.all import *\n",
    "\n",
    "X_all = np.concatenate([X_train_np, X_test_np]).astype(np.float32)\n",
    "y_all = np.concatenate([y_train_np, y_test_np])\n",
    "\n",
    "splits = (list(range(len(y_train_np))),\n",
    "          list(range(len(y_train_np), len(y_all))))\n",
    "\n",
    "tfms = [None, TSClassification()]\n",
    "batch_tfms = TSStandardize(by_sample=True)\n",
    "\n",
    "clf = TSClassifier(X_all, y_all, splits=splits, arch=\"InceptionTimePlus\",\n",
    "                   tfms=tfms, batch_tfms=batch_tfms,\n",
    "                   metrics=accuracy, cbs=ShowGraph())\n"
   ]
  },
  {
   "cell_type": "code",
   "execution_count": 127,
   "id": "13949f19",
   "metadata": {},
   "outputs": [
    {
     "data": {
      "text/html": [
       "\n",
       "<style>\n",
       "    /* Turns off some styling */\n",
       "    progress {\n",
       "        /* gets rid of default border in Firefox and Opera. */\n",
       "        border: none;\n",
       "        /* Needs to be in here for Safari polyfill so background images work as expected. */\n",
       "        background-size: auto;\n",
       "    }\n",
       "    progress:not([value]), progress:not([value])::-webkit-progress-bar {\n",
       "        background: repeating-linear-gradient(45deg, #7e7e7e, #7e7e7e 10px, #5c5c5c 10px, #5c5c5c 20px);\n",
       "    }\n",
       "    .progress-bar-interrupted, .progress-bar-interrupted::-webkit-progress-bar {\n",
       "        background: #F44336;\n",
       "    }\n",
       "</style>\n"
      ],
      "text/plain": [
       "<IPython.core.display.HTML object>"
      ]
     },
     "metadata": {},
     "output_type": "display_data"
    },
    {
     "data": {
      "text/html": [
       "<table border=\"1\" class=\"dataframe\">\n",
       "  <thead>\n",
       "    <tr style=\"text-align: left;\">\n",
       "      <th>epoch</th>\n",
       "      <th>train_loss</th>\n",
       "      <th>valid_loss</th>\n",
       "      <th>accuracy</th>\n",
       "      <th>time</th>\n",
       "    </tr>\n",
       "  </thead>\n",
       "  <tbody>\n",
       "    <tr>\n",
       "      <td>0</td>\n",
       "      <td>0.902639</td>\n",
       "      <td>1.313098</td>\n",
       "      <td>0.390567</td>\n",
       "      <td>00:16</td>\n",
       "    </tr>\n",
       "    <tr>\n",
       "      <td>1</td>\n",
       "      <td>0.370857</td>\n",
       "      <td>3.085572</td>\n",
       "      <td>0.325755</td>\n",
       "      <td>00:16</td>\n",
       "    </tr>\n",
       "    <tr>\n",
       "      <td>2</td>\n",
       "      <td>0.200351</td>\n",
       "      <td>3.122836</td>\n",
       "      <td>0.411266</td>\n",
       "      <td>00:15</td>\n",
       "    </tr>\n",
       "    <tr>\n",
       "      <td>3</td>\n",
       "      <td>0.131067</td>\n",
       "      <td>2.709426</td>\n",
       "      <td>0.350865</td>\n",
       "      <td>00:16</td>\n",
       "    </tr>\n",
       "    <tr>\n",
       "      <td>4</td>\n",
       "      <td>0.083907</td>\n",
       "      <td>2.386305</td>\n",
       "      <td>0.744147</td>\n",
       "      <td>00:16</td>\n",
       "    </tr>\n",
       "    <tr>\n",
       "      <td>5</td>\n",
       "      <td>0.077825</td>\n",
       "      <td>5.750452</td>\n",
       "      <td>0.340685</td>\n",
       "      <td>00:16</td>\n",
       "    </tr>\n",
       "    <tr>\n",
       "      <td>6</td>\n",
       "      <td>0.048378</td>\n",
       "      <td>0.404766</td>\n",
       "      <td>0.855446</td>\n",
       "      <td>00:16</td>\n",
       "    </tr>\n",
       "    <tr>\n",
       "      <td>7</td>\n",
       "      <td>0.034838</td>\n",
       "      <td>0.176746</td>\n",
       "      <td>0.935528</td>\n",
       "      <td>00:18</td>\n",
       "    </tr>\n",
       "    <tr>\n",
       "      <td>8</td>\n",
       "      <td>0.019440</td>\n",
       "      <td>0.113067</td>\n",
       "      <td>0.957923</td>\n",
       "      <td>00:17</td>\n",
       "    </tr>\n",
       "    <tr>\n",
       "      <td>9</td>\n",
       "      <td>0.014881</td>\n",
       "      <td>0.104750</td>\n",
       "      <td>0.959620</td>\n",
       "      <td>00:17</td>\n",
       "    </tr>\n",
       "  </tbody>\n",
       "</table>"
      ],
      "text/plain": [
       "<IPython.core.display.HTML object>"
      ]
     },
     "metadata": {},
     "output_type": "display_data"
    },
    {
     "data": {
      "image/png": "[encoded data removed]",
      "text/plain": [
       "<Figure size 600x400 with 1 Axes>"
      ]
     },
     "metadata": {},
     "output_type": "display_data"
    },
    {
     "data": {
      "image/png": "[encoded data removed]",
      "text/plain": [
       "<Figure size 2000x400 with 3 Axes>"
      ]
     },
     "metadata": {},
     "output_type": "display_data"
    }
   ],
   "source": [
    "clf.fit_one_cycle(10, 1e-3)"
   ]
  },
  {
   "cell_type": "code",
   "execution_count": 128,
   "id": "9b7e4332",
   "metadata": {},
   "outputs": [
    {
     "data": {
      "text/html": [
       "\n",
       "<style>\n",
       "    /* Turns off some styling */\n",
       "    progress {\n",
       "        /* gets rid of default border in Firefox and Opera. */\n",
       "        border: none;\n",
       "        /* Needs to be in here for Safari polyfill so background images work as expected. */\n",
       "        background-size: auto;\n",
       "    }\n",
       "    progress:not([value]), progress:not([value])::-webkit-progress-bar {\n",
       "        background: repeating-linear-gradient(45deg, #7e7e7e, #7e7e7e 10px, #5c5c5c 10px, #5c5c5c 20px);\n",
       "    }\n",
       "    .progress-bar-interrupted, .progress-bar-interrupted::-webkit-progress-bar {\n",
       "        background: #F44336;\n",
       "    }\n",
       "</style>\n"
      ],
      "text/plain": [
       "<IPython.core.display.HTML object>"
      ]
     },
     "metadata": {},
     "output_type": "display_data"
    },
    {
     "data": {
      "text/html": [],
      "text/plain": [
       "<IPython.core.display.HTML object>"
      ]
     },
     "metadata": {},
     "output_type": "display_data"
    }
   ],
   "source": [
    "X_all = X_all.reshape(X_all.shape[0], 1, X_all.shape[1])\n",
    "probas, target, preds = clf.get_X_preds(X_all[splits[1]], y_all[splits[1]])"
   ]
  },
  {
   "cell_type": "code",
   "execution_count": 129,
   "id": "ab575b9d",
   "metadata": {},
   "outputs": [
    {
     "name": "stdout",
     "output_type": "stream",
     "text": [
      "              precision    recall  f1-score   support\n",
      "\n",
      "           0     0.9421    0.9839    0.9625       496\n",
      "           1     0.9651    0.9384    0.9516       471\n",
      "           2     0.9830    0.9643    0.9736       420\n",
      "           3     0.9417    0.9206    0.9310       491\n",
      "           4     0.9300    0.9492    0.9395       532\n",
      "           5     1.0000    0.9981    0.9991       537\n",
      "\n",
      "    accuracy                         0.9596      2947\n",
      "   macro avg     0.9603    0.9591    0.9595      2947\n",
      "weighted avg     0.9599    0.9596    0.9596      2947\n",
      "\n"
     ]
    }
   ],
   "source": [
    "print(classification_report(target, preds.astype(int), digits=4))"
   ]
  },
  {
   "cell_type": "code",
   "execution_count": 130,
   "id": "3ac3e1f0",
   "metadata": {},
   "outputs": [
    {
     "name": "stdout",
     "output_type": "stream",
     "text": [
      "[[488   3   5   0   0   0]\n",
      " [ 26 442   2   0   1   0]\n",
      " [  4  11 405   0   0   0]\n",
      " [  0   2   0 452  37   0]\n",
      " [  0   0   0  27 505   0]\n",
      " [  0   0   0   1   0 536]]\n"
     ]
    }
   ],
   "source": [
    "print(confusion_matrix(target, preds.astype(int)))"
   ]
  },
  {
   "cell_type": "markdown",
   "id": "f368c391",
   "metadata": {},
   "source": [
    "## PU-learning"
   ]
  },
  {
   "cell_type": "code",
   "execution_count": 9,
   "id": "08c9a52e",
   "metadata": {},
   "outputs": [],
   "source": [
    "positive_class = 2\n",
    "#y_train_pu = (y_train_np == positive_class).astype(int)\n",
    "y_train_pu = np.where(y_train == positive_class, 1, -1)\n",
    "#y_test_pu  = (y_test_np  == positive_class).astype(int)\n",
    "y_test_pu = np.where(y_test == positive_class, 1, -1)\n"
   ]
  },
  {
   "cell_type": "code",
   "execution_count": 10,
   "id": "211b3041",
   "metadata": {},
   "outputs": [
    {
     "name": "stdout",
     "output_type": "stream",
     "text": [
      "torch.Size([7352, 1, 561]) torch.Size([2947, 1, 561])\n"
     ]
    }
   ],
   "source": [
    "X_tr_tensor = X_tr_tensor.view(X_tr_tensor.shape[0], 1, -1)\n",
    "X_test_tensor = X_test_tensor.view(X_test_tensor.shape[0], 1, -1)\n",
    "print(X_tr_tensor.shape, X_test_tensor.shape)"
   ]
  },
  {
   "cell_type": "code",
   "execution_count": 11,
   "id": "e5e9a0c6",
   "metadata": {},
   "outputs": [],
   "source": [
    "batch_size = 64"
   ]
  },
  {
   "cell_type": "code",
   "execution_count": 12,
   "id": "4b8e3fff",
   "metadata": {},
   "outputs": [],
   "source": [
    "y_tr_tensor_pu   = torch.tensor(y_train_pu, dtype=torch.long)\n",
    "y_test_tensor_pu = torch.tensor(y_test_pu, dtype=torch.long)\n",
    "\n",
    "tr_dataset_pu   = TensorDataset(X_tr_tensor, y_tr_tensor_pu)\n",
    "test_dataset_pu = TensorDataset(X_test_tensor, y_test_tensor_pu)\n",
    "\n",
    "train_loader_pu = DataLoader(tr_dataset_pu, batch_size=batch_size, shuffle=False)\n",
    "test_loader_pu  = DataLoader(test_dataset_pu, batch_size=batch_size, shuffle=False)\n"
   ]
  },
  {
   "cell_type": "code",
   "execution_count": 22,
   "id": "45872d22",
   "metadata": {},
   "outputs": [
    {
     "data": {
      "text/plain": [
       "tensor(0.1341)"
      ]
     },
     "execution_count": 22,
     "metadata": {},
     "output_type": "execute_result"
    }
   ],
   "source": [
    "# positive_prior = np.where(y_train_np == positive_class, 1, 0).mean()\n",
    "# positive_prior\n",
    "\n",
    "positive_prior = torch.tensor(\n",
    "    np.where(y_train_np == positive_class, 1, 0).mean(),\n",
    "    dtype=torch.float32\n",
    ")\n",
    "\n",
    "positive_prior"
   ]
  },
  {
   "cell_type": "markdown",
   "id": "fc157e2a",
   "metadata": {},
   "source": [
    "## CNN"
   ]
  },
  {
   "cell_type": "code",
   "execution_count": 16,
   "id": "aa6a0b17",
   "metadata": {},
   "outputs": [
    {
     "name": "stdout",
     "output_type": "stream",
     "text": [
      "in_channel: 1, sequence_length: 561, n_output: 1\n"
     ]
    }
   ],
   "source": [
    "in_channel = X_tr_tensor.shape[1]\n",
    "seq_length = X_tr_tensor.shape[2]\n",
    "n_output = len(y_tr_tensor_pu.unique())-1\n",
    "print(f'in_channel: {in_channel}, sequence_length: {seq_length}, n_output: {n_output}')\n",
    "n_hidden = 64\n",
    "num_epochs = 10\n",
    "lr = 0.0001"
   ]
  },
  {
   "cell_type": "code",
   "execution_count": 89,
   "id": "0f02ae96",
   "metadata": {},
   "outputs": [
    {
     "name": "stdout",
     "output_type": "stream",
     "text": [
      "Conv_Net(\n",
      "  (conv1): Conv1d(1, 32, kernel_size=(3,), stride=(1,), padding=(1,))\n",
      "  (conv2): Conv1d(32, 64, kernel_size=(3,), stride=(1,), padding=(1,))\n",
      "  (relu): ReLU()\n",
      "  (maxpool): MaxPool1d(kernel_size=2, stride=2, padding=0, dilation=1, ceil_mode=False)\n",
      "  (dropout): Dropout(p=0.5, inplace=False)\n",
      "  (flatten): Flatten(start_dim=1, end_dim=-1)\n",
      "  (fc1): Linear(in_features=17920, out_features=64, bias=True)\n",
      "  (fc2): Linear(in_features=64, out_features=1, bias=True)\n",
      "  (features): Sequential(\n",
      "    (0): Conv1d(1, 32, kernel_size=(3,), stride=(1,), padding=(1,))\n",
      "    (1): ReLU()\n",
      "    (2): Conv1d(32, 64, kernel_size=(3,), stride=(1,), padding=(1,))\n",
      "    (3): ReLU()\n",
      "    (4): MaxPool1d(kernel_size=2, stride=2, padding=0, dilation=1, ceil_mode=False)\n",
      "    (5): Dropout(p=0.5, inplace=False)\n",
      "  )\n",
      "  (classifier): Sequential(\n",
      "    (0): Linear(in_features=17920, out_features=64, bias=True)\n",
      "    (1): ReLU()\n",
      "    (2): Linear(in_features=64, out_features=1, bias=True)\n",
      "  )\n",
      ")\n"
     ]
    }
   ],
   "source": [
    "from baseline import Conv_Net, train, LSTMNet\n",
    "model = Conv_Net(in_channel, seq_length, n_hidden, n_output)\n",
    "model = model.to(device)\n",
    "print(model)"
   ]
  },
  {
   "cell_type": "code",
   "execution_count": null,
   "id": "7da57d71",
   "metadata": {},
   "outputs": [],
   "source": [
    "from pu_loss import PULoss\n",
    "criterion = PULoss(prior=positive_prior)\n",
    "# criterion = nnPULoss(prior=positive_prior, nnPU=True)\n"
   ]
  },
  {
   "cell_type": "markdown",
   "id": "699d441e",
   "metadata": {},
   "source": [
    "### Using uPU loss"
   ]
  },
  {
   "cell_type": "code",
   "execution_count": 91,
   "id": "9b882968",
   "metadata": {},
   "outputs": [
    {
     "name": "stderr",
     "output_type": "stream",
     "text": [
      "  0%|          | 0/115 [00:00<?, ?it/s]"
     ]
    },
    {
     "name": "stderr",
     "output_type": "stream",
     "text": [
      "/home/bebra/aic/har-pu-learning/pu_loss.py:27: UserWarning: To copy construct from a tensor, it is recommended to use sourceTensor.clone().detach() or sourceTensor.clone().detach().requires_grad_(True), rather than torch.tensor(sourceTensor).\n",
      "  self.prior = torch.tensor(self.prior, device=inp.device)\n",
      "100%|██████████| 115/115 [00:00<00:00, 125.16it/s]\n"
     ]
    },
    {
     "name": "stdout",
     "output_type": "stream",
     "text": [
      "Epoch [1/20], tr_loss: 0.27679 tr_acc: 0.85405 test_loss: 0.14808, test_acc: 0.84018\n"
     ]
    },
    {
     "name": "stderr",
     "output_type": "stream",
     "text": [
      "100%|██████████| 115/115 [00:00<00:00, 156.27it/s]\n"
     ]
    },
    {
     "name": "stdout",
     "output_type": "stream",
     "text": [
      "Epoch [2/20], tr_loss: 0.11703 tr_acc: 0.85405 test_loss: 0.07786, test_acc: 0.84018\n"
     ]
    },
    {
     "name": "stderr",
     "output_type": "stream",
     "text": [
      "100%|██████████| 115/115 [00:00<00:00, 178.15it/s]\n"
     ]
    },
    {
     "name": "stdout",
     "output_type": "stream",
     "text": [
      "Epoch [3/20], tr_loss: 0.08047 tr_acc: 0.85405 test_loss: 0.05334, test_acc: 0.84018\n"
     ]
    },
    {
     "name": "stderr",
     "output_type": "stream",
     "text": [
      "100%|██████████| 115/115 [00:00<00:00, 179.12it/s]\n"
     ]
    },
    {
     "name": "stdout",
     "output_type": "stream",
     "text": [
      "Epoch [4/20], tr_loss: 0.06322 tr_acc: 0.85405 test_loss: 0.04425, test_acc: 0.84018\n"
     ]
    },
    {
     "name": "stderr",
     "output_type": "stream",
     "text": [
      "100%|██████████| 115/115 [00:00<00:00, 180.13it/s]\n"
     ]
    },
    {
     "name": "stdout",
     "output_type": "stream",
     "text": [
      "Epoch [5/20], tr_loss: 0.05300 tr_acc: 0.93036 test_loss: 0.03894, test_acc: 0.91653\n"
     ]
    },
    {
     "name": "stderr",
     "output_type": "stream",
     "text": [
      "100%|██████████| 115/115 [00:00<00:00, 179.34it/s]\n"
     ]
    },
    {
     "name": "stdout",
     "output_type": "stream",
     "text": [
      "Epoch [6/20], tr_loss: 0.04432 tr_acc: 0.94940 test_loss: 0.03469, test_acc: 0.92637\n"
     ]
    },
    {
     "name": "stderr",
     "output_type": "stream",
     "text": [
      "100%|██████████| 115/115 [00:00<00:00, 179.80it/s]\n"
     ]
    },
    {
     "name": "stdout",
     "output_type": "stream",
     "text": [
      "Epoch [7/20], tr_loss: 0.03757 tr_acc: 0.95620 test_loss: 0.02965, test_acc: 0.94978\n"
     ]
    },
    {
     "name": "stderr",
     "output_type": "stream",
     "text": [
      "100%|██████████| 115/115 [00:00<00:00, 182.27it/s]\n"
     ]
    },
    {
     "name": "stdout",
     "output_type": "stream",
     "text": [
      "Epoch [8/20], tr_loss: 0.03398 tr_acc: 0.96504 test_loss: 0.02764, test_acc: 0.95249\n"
     ]
    },
    {
     "name": "stderr",
     "output_type": "stream",
     "text": [
      "100%|██████████| 115/115 [00:00<00:00, 175.65it/s]\n"
     ]
    },
    {
     "name": "stdout",
     "output_type": "stream",
     "text": [
      "Epoch [9/20], tr_loss: 0.02893 tr_acc: 0.96926 test_loss: 0.02591, test_acc: 0.95758\n"
     ]
    },
    {
     "name": "stderr",
     "output_type": "stream",
     "text": [
      "100%|██████████| 115/115 [00:00<00:00, 179.44it/s]\n"
     ]
    },
    {
     "name": "stdout",
     "output_type": "stream",
     "text": [
      "Epoch [10/20], tr_loss: 0.02559 tr_acc: 0.97225 test_loss: 0.02529, test_acc: 0.95080\n"
     ]
    },
    {
     "name": "stderr",
     "output_type": "stream",
     "text": [
      "100%|██████████| 115/115 [00:00<00:00, 179.78it/s]\n"
     ]
    },
    {
     "name": "stdout",
     "output_type": "stream",
     "text": [
      "Epoch [11/20], tr_loss: 0.02087 tr_acc: 0.97633 test_loss: 0.02366, test_acc: 0.95521\n"
     ]
    },
    {
     "name": "stderr",
     "output_type": "stream",
     "text": [
      "100%|██████████| 115/115 [00:00<00:00, 164.91it/s]\n"
     ]
    },
    {
     "name": "stdout",
     "output_type": "stream",
     "text": [
      "Epoch [12/20], tr_loss: 0.01930 tr_acc: 0.97701 test_loss: 0.02520, test_acc: 0.94435\n"
     ]
    },
    {
     "name": "stderr",
     "output_type": "stream",
     "text": [
      "100%|██████████| 115/115 [00:00<00:00, 165.41it/s]\n"
     ]
    },
    {
     "name": "stdout",
     "output_type": "stream",
     "text": [
      "Epoch [13/20], tr_loss: 0.01537 tr_acc: 0.98041 test_loss: 0.02300, test_acc: 0.95826\n"
     ]
    },
    {
     "name": "stderr",
     "output_type": "stream",
     "text": [
      "100%|██████████| 115/115 [00:00<00:00, 171.87it/s]\n"
     ]
    },
    {
     "name": "stdout",
     "output_type": "stream",
     "text": [
      "Epoch [14/20], tr_loss: 0.01377 tr_acc: 0.98177 test_loss: 0.02389, test_acc: 0.95385\n"
     ]
    },
    {
     "name": "stderr",
     "output_type": "stream",
     "text": [
      "100%|██████████| 115/115 [00:00<00:00, 148.15it/s]\n"
     ]
    },
    {
     "name": "stdout",
     "output_type": "stream",
     "text": [
      "Epoch [15/20], tr_loss: 0.01141 tr_acc: 0.98395 test_loss: 0.02072, test_acc: 0.96946\n"
     ]
    },
    {
     "name": "stderr",
     "output_type": "stream",
     "text": [
      "100%|██████████| 115/115 [00:00<00:00, 173.37it/s]\n"
     ]
    },
    {
     "name": "stdout",
     "output_type": "stream",
     "text": [
      "Epoch [16/20], tr_loss: 0.00933 tr_acc: 0.98381 test_loss: 0.01917, test_acc: 0.96539\n"
     ]
    },
    {
     "name": "stderr",
     "output_type": "stream",
     "text": [
      "100%|██████████| 115/115 [00:00<00:00, 163.03it/s]\n"
     ]
    },
    {
     "name": "stdout",
     "output_type": "stream",
     "text": [
      "Epoch [17/20], tr_loss: 0.00612 tr_acc: 0.98735 test_loss: 0.01941, test_acc: 0.96369\n"
     ]
    },
    {
     "name": "stderr",
     "output_type": "stream",
     "text": [
      "100%|██████████| 115/115 [00:00<00:00, 174.33it/s]\n"
     ]
    },
    {
     "name": "stdout",
     "output_type": "stream",
     "text": [
      "Epoch [18/20], tr_loss: 0.00348 tr_acc: 0.98830 test_loss: 0.01755, test_acc: 0.97218\n"
     ]
    },
    {
     "name": "stderr",
     "output_type": "stream",
     "text": [
      "100%|██████████| 115/115 [00:00<00:00, 157.48it/s]\n"
     ]
    },
    {
     "name": "stdout",
     "output_type": "stream",
     "text": [
      "Epoch [19/20], tr_loss: 0.00293 tr_acc: 0.98817 test_loss: 0.01655, test_acc: 0.97319\n"
     ]
    },
    {
     "name": "stderr",
     "output_type": "stream",
     "text": [
      "100%|██████████| 115/115 [00:00<00:00, 136.87it/s]\n"
     ]
    },
    {
     "name": "stdout",
     "output_type": "stream",
     "text": [
      "Epoch [20/20], tr_loss: 0.00201 tr_acc: 0.98871 test_loss: 0.01648, test_acc: 0.96539\n"
     ]
    }
   ],
   "source": [
    "model = train(model, criterion, train_loader_pu, test_loader_pu, lr, num_epochs, device)"
   ]
  },
  {
   "cell_type": "code",
   "execution_count": 92,
   "id": "5b63fb51",
   "metadata": {},
   "outputs": [],
   "source": [
    "out_test = model(X_test_tensor.to(device))\n",
    "preds_test = torch.where(\n",
    "            out_test > 0,\n",
    "            torch.tensor(1, device=out_test.device),\n",
    "            torch.tensor(-1, device=out_test.device)\n",
    "        ).view(-1)"
   ]
  },
  {
   "cell_type": "code",
   "execution_count": 93,
   "id": "fe49912a",
   "metadata": {},
   "outputs": [
    {
     "name": "stdout",
     "output_type": "stream",
     "text": [
      "              precision    recall  f1-score   support\n",
      "\n",
      "          -1     0.9629    0.9972    0.9798      2476\n",
      "           1     0.9817    0.7983    0.8806       471\n",
      "\n",
      "    accuracy                         0.9654      2947\n",
      "   macro avg     0.9723    0.8977    0.9302      2947\n",
      "weighted avg     0.9659    0.9654    0.9639      2947\n",
      "\n",
      "[[2469    7]\n",
      " [  95  376]]\n"
     ]
    }
   ],
   "source": [
    "print(classification_report(y_test_pu, preds_test.cpu().detach().numpy(), digits=4))\n",
    "print(confusion_matrix(y_test_pu, preds_test.cpu().detach().numpy()))"
   ]
  },
  {
   "cell_type": "code",
   "execution_count": null,
   "id": "71a9ecb6",
   "metadata": {},
   "outputs": [],
   "source": [
    "# Training and convergence is not stable"
   ]
  },
  {
   "cell_type": "markdown",
   "id": "63a836e5",
   "metadata": {},
   "source": [
    "### nnPU loss"
   ]
  },
  {
   "cell_type": "code",
   "execution_count": null,
   "id": "967863ba",
   "metadata": {},
   "outputs": [
    {
     "ename": "NameError",
     "evalue": "name 'positive_prior' is not defined",
     "output_type": "error",
     "traceback": [
      "\u001b[0;31m---------------------------------------------------------------------------\u001b[0m",
      "\u001b[0;31mNameError\u001b[0m                                 Traceback (most recent call last)",
      "Cell \u001b[0;32mIn[13], line 2\u001b[0m\n\u001b[1;32m      1\u001b[0m \u001b[38;5;28;01mfrom\u001b[39;00m\u001b[38;5;250m \u001b[39m\u001b[38;5;21;01mpu_loss\u001b[39;00m\u001b[38;5;250m \u001b[39m\u001b[38;5;28;01mimport\u001b[39;00m PULoss\n\u001b[0;32m----> 2\u001b[0m criterion \u001b[38;5;241m=\u001b[39m PULoss(prior\u001b[38;5;241m=\u001b[39m\u001b[43mpositive_prior\u001b[49m, nnPU\u001b[38;5;241m=\u001b[39m\u001b[38;5;28;01mTrue\u001b[39;00m)\n",
      "\u001b[0;31mNameError\u001b[0m: name 'positive_prior' is not defined"
     ]
    }
   ],
   "source": [
    "criterion = PULoss(prior=positive_prior, nnPU=True)"
   ]
  },
  {
   "cell_type": "code",
   "execution_count": 85,
   "id": "5d1125f0",
   "metadata": {},
   "outputs": [],
   "source": [
    "num_epochs = 20\n",
    "lr = 0.00005"
   ]
  },
  {
   "cell_type": "code",
   "execution_count": 86,
   "id": "8e621a82",
   "metadata": {},
   "outputs": [
    {
     "name": "stderr",
     "output_type": "stream",
     "text": [
      "100%|██████████| 115/115 [00:00<00:00, 128.06it/s]\n"
     ]
    },
    {
     "name": "stdout",
     "output_type": "stream",
     "text": [
      "Epoch [1/20], tr_loss: 0.31487 tr_acc: 0.84698 test_loss: 0.18565, test_acc: 0.84153\n"
     ]
    },
    {
     "name": "stderr",
     "output_type": "stream",
     "text": [
      "100%|██████████| 115/115 [00:00<00:00, 169.86it/s]\n"
     ]
    },
    {
     "name": "stdout",
     "output_type": "stream",
     "text": [
      "Epoch [2/20], tr_loss: 0.12205 tr_acc: 0.91771 test_loss: 0.11037, test_acc: 0.95249\n"
     ]
    },
    {
     "name": "stderr",
     "output_type": "stream",
     "text": [
      "100%|██████████| 115/115 [00:00<00:00, 187.14it/s]\n"
     ]
    },
    {
     "name": "stdout",
     "output_type": "stream",
     "text": [
      "Epoch [3/20], tr_loss: 0.06387 tr_acc: 0.94804 test_loss: 0.08562, test_acc: 0.87784\n"
     ]
    },
    {
     "name": "stderr",
     "output_type": "stream",
     "text": [
      "100%|██████████| 115/115 [00:00<00:00, 187.56it/s]\n"
     ]
    },
    {
     "name": "stdout",
     "output_type": "stream",
     "text": [
      "Epoch [4/20], tr_loss: 0.05988 tr_acc: 0.95457 test_loss: 0.12531, test_acc: 0.98235\n"
     ]
    },
    {
     "name": "stderr",
     "output_type": "stream",
     "text": [
      "100%|██████████| 115/115 [00:00<00:00, 182.63it/s]\n"
     ]
    },
    {
     "name": "stdout",
     "output_type": "stream",
     "text": [
      "Epoch [5/20], tr_loss: 0.05300 tr_acc: 0.95715 test_loss: 0.10445, test_acc: 0.97116\n"
     ]
    },
    {
     "name": "stderr",
     "output_type": "stream",
     "text": [
      "100%|██████████| 115/115 [00:00<00:00, 174.57it/s]\n"
     ]
    },
    {
     "name": "stdout",
     "output_type": "stream",
     "text": [
      "Epoch [6/20], tr_loss: 0.05442 tr_acc: 0.95974 test_loss: 0.12037, test_acc: 0.97727\n"
     ]
    },
    {
     "name": "stderr",
     "output_type": "stream",
     "text": [
      "100%|██████████| 115/115 [00:00<00:00, 170.33it/s]\n"
     ]
    },
    {
     "name": "stdout",
     "output_type": "stream",
     "text": [
      "Epoch [7/20], tr_loss: 0.05531 tr_acc: 0.95389 test_loss: 0.10961, test_acc: 0.95826\n"
     ]
    },
    {
     "name": "stderr",
     "output_type": "stream",
     "text": [
      "100%|██████████| 115/115 [00:00<00:00, 164.31it/s]\n"
     ]
    },
    {
     "name": "stdout",
     "output_type": "stream",
     "text": [
      "Epoch [8/20], tr_loss: 0.05392 tr_acc: 0.96450 test_loss: 0.15174, test_acc: 0.97557\n"
     ]
    },
    {
     "name": "stderr",
     "output_type": "stream",
     "text": [
      "100%|██████████| 115/115 [00:00<00:00, 135.29it/s]\n"
     ]
    },
    {
     "name": "stdout",
     "output_type": "stream",
     "text": [
      "Epoch [9/20], tr_loss: 0.04127 tr_acc: 0.91540 test_loss: 0.09102, test_acc: 0.84052\n"
     ]
    },
    {
     "name": "stderr",
     "output_type": "stream",
     "text": [
      "100%|██████████| 115/115 [00:00<00:00, 129.29it/s]\n"
     ]
    },
    {
     "name": "stdout",
     "output_type": "stream",
     "text": [
      "Epoch [10/20], tr_loss: 0.05590 tr_acc: 0.94831 test_loss: 0.16519, test_acc: 0.97014\n"
     ]
    },
    {
     "name": "stderr",
     "output_type": "stream",
     "text": [
      "100%|██████████| 115/115 [00:00<00:00, 151.07it/s]\n"
     ]
    },
    {
     "name": "stdout",
     "output_type": "stream",
     "text": [
      "Epoch [11/20], tr_loss: 0.04837 tr_acc: 0.96192 test_loss: 0.16039, test_acc: 0.97591\n"
     ]
    },
    {
     "name": "stderr",
     "output_type": "stream",
     "text": [
      "100%|██████████| 115/115 [00:00<00:00, 146.78it/s]\n"
     ]
    },
    {
     "name": "stdout",
     "output_type": "stream",
     "text": [
      "Epoch [12/20], tr_loss: 0.05335 tr_acc: 0.96178 test_loss: 0.16199, test_acc: 0.96946\n"
     ]
    },
    {
     "name": "stderr",
     "output_type": "stream",
     "text": [
      "100%|██████████| 115/115 [00:00<00:00, 157.24it/s]\n"
     ]
    },
    {
     "name": "stdout",
     "output_type": "stream",
     "text": [
      "Epoch [13/20], tr_loss: 0.05110 tr_acc: 0.96001 test_loss: 0.17383, test_acc: 0.95283\n"
     ]
    },
    {
     "name": "stderr",
     "output_type": "stream",
     "text": [
      "100%|██████████| 115/115 [00:00<00:00, 176.66it/s]\n"
     ]
    },
    {
     "name": "stdout",
     "output_type": "stream",
     "text": [
      "Epoch [14/20], tr_loss: 0.05301 tr_acc: 0.95851 test_loss: 0.18508, test_acc: 0.94197\n"
     ]
    },
    {
     "name": "stderr",
     "output_type": "stream",
     "text": [
      "100%|██████████| 115/115 [00:00<00:00, 182.31it/s]\n"
     ]
    },
    {
     "name": "stdout",
     "output_type": "stream",
     "text": [
      "Epoch [15/20], tr_loss: 0.05021 tr_acc: 0.96110 test_loss: 0.14173, test_acc: 0.98235\n"
     ]
    },
    {
     "name": "stderr",
     "output_type": "stream",
     "text": [
      "100%|██████████| 115/115 [00:00<00:00, 181.16it/s]\n"
     ]
    },
    {
     "name": "stdout",
     "output_type": "stream",
     "text": [
      "Epoch [16/20], tr_loss: 0.04730 tr_acc: 0.95647 test_loss: 0.14388, test_acc: 0.98168\n"
     ]
    },
    {
     "name": "stderr",
     "output_type": "stream",
     "text": [
      "100%|██████████| 115/115 [00:00<00:00, 180.13it/s]\n"
     ]
    },
    {
     "name": "stdout",
     "output_type": "stream",
     "text": [
      "Epoch [17/20], tr_loss: 0.04929 tr_acc: 0.96613 test_loss: 0.14270, test_acc: 0.97998\n"
     ]
    },
    {
     "name": "stderr",
     "output_type": "stream",
     "text": [
      "100%|██████████| 115/115 [00:00<00:00, 172.53it/s]\n"
     ]
    },
    {
     "name": "stdout",
     "output_type": "stream",
     "text": [
      "Epoch [18/20], tr_loss: 0.04996 tr_acc: 0.96736 test_loss: 0.16589, test_acc: 0.96403\n"
     ]
    },
    {
     "name": "stderr",
     "output_type": "stream",
     "text": [
      "100%|██████████| 115/115 [00:00<00:00, 174.25it/s]\n"
     ]
    },
    {
     "name": "stdout",
     "output_type": "stream",
     "text": [
      "Epoch [19/20], tr_loss: 0.05236 tr_acc: 0.96368 test_loss: 0.14243, test_acc: 0.97659\n"
     ]
    },
    {
     "name": "stderr",
     "output_type": "stream",
     "text": [
      "100%|██████████| 115/115 [00:00<00:00, 172.68it/s]\n"
     ]
    },
    {
     "name": "stdout",
     "output_type": "stream",
     "text": [
      "Epoch [20/20], tr_loss: 0.04700 tr_acc: 0.96477 test_loss: 0.16603, test_acc: 0.96335\n"
     ]
    }
   ],
   "source": [
    "model = Conv_Net(in_channel, seq_length, n_hidden, n_output)\n",
    "model = model.to(device)\n",
    "model = train(model, criterion, train_loader_pu, test_loader_pu, lr, num_epochs, device)"
   ]
  },
  {
   "cell_type": "code",
   "execution_count": 87,
   "id": "9f5caedf",
   "metadata": {},
   "outputs": [],
   "source": [
    "out_test = model(X_test_tensor.to(device))\n",
    "preds_test = torch.where(\n",
    "            out_test > 0,\n",
    "            torch.tensor(1, device=out_test.device),\n",
    "            torch.tensor(-1, device=out_test.device)\n",
    "        ).view(-1)\n"
   ]
  },
  {
   "cell_type": "code",
   "execution_count": 88,
   "id": "d8e05513",
   "metadata": {},
   "outputs": [
    {
     "name": "stdout",
     "output_type": "stream",
     "text": [
      "              precision    recall  f1-score   support\n",
      "\n",
      "          -1     0.9996    0.9568    0.9777      2476\n",
      "           1     0.8146    0.9979    0.8969       471\n",
      "\n",
      "    accuracy                         0.9634      2947\n",
      "   macro avg     0.9071    0.9773    0.9373      2947\n",
      "weighted avg     0.9700    0.9634    0.9648      2947\n",
      "\n",
      "[[2369  107]\n",
      " [   1  470]]\n"
     ]
    }
   ],
   "source": [
    "print(classification_report(y_test_pu, preds_test.cpu().detach().numpy(), digits=4))\n",
    "print(confusion_matrix(y_test_pu, preds_test.cpu().detach().numpy()))"
   ]
  },
  {
   "cell_type": "code",
   "execution_count": 39,
   "id": "7ca1570e",
   "metadata": {},
   "outputs": [
    {
     "name": "stdout",
     "output_type": "stream",
     "text": [
      "tensor([ 1,  1,  1,  1,  1, -1, -1,  1,  1,  1])\n",
      "Dummy loss dtype: torch.float64\n",
      "Dummy loss: 0.6511342018129257\n"
     ]
    }
   ],
   "source": [
    "batch_size = 10\n",
    "dummy_outputs = torch.randn(batch_size)  \n",
    "dummy_labels = torch.randint(0, 2, (batch_size,)) * 2 - 1  \n",
    "print(dummy_labels)\n",
    "\n",
    "loss = criterion(dummy_outputs, dummy_labels)\n",
    "print('Dummy loss dtype:', loss.dtype)\n",
    "print('Dummy loss:', loss.item())"
   ]
  },
  {
   "cell_type": "markdown",
   "id": "8b6823a0",
   "metadata": {},
   "source": [
    "## LSTM + uPU loss "
   ]
  },
  {
   "cell_type": "code",
   "execution_count": 45,
   "id": "7d653c96",
   "metadata": {},
   "outputs": [
    {
     "data": {
      "text/plain": [
       "LSTMNet(\n",
       "  (lstm): LSTM(1, 64, batch_first=True)\n",
       "  (bn): BatchNorm1d(64, eps=1e-05, momentum=0.1, affine=True, track_running_stats=True)\n",
       "  (dropout): Dropout(p=0.5, inplace=False)\n",
       "  (fc): Sequential(\n",
       "    (0): Linear(in_features=64, out_features=32, bias=True)\n",
       "    (1): ReLU()\n",
       "    (2): Linear(in_features=32, out_features=1, bias=True)\n",
       "  )\n",
       ")"
      ]
     },
     "execution_count": 45,
     "metadata": {},
     "output_type": "execute_result"
    }
   ],
   "source": [
    "from baseline import LSTMNet, train\n",
    "model_lstm = LSTMNet(in_channel, hidden_dim=64, n_output=1, num_layers=1)\n",
    "model_lstm.to(device)"
   ]
  },
  {
   "cell_type": "code",
   "execution_count": 46,
   "id": "60080956",
   "metadata": {},
   "outputs": [
    {
     "name": "stderr",
     "output_type": "stream",
     "text": [
      "  0%|          | 0/115 [00:00<?, ?it/s]"
     ]
    },
    {
     "name": "stderr",
     "output_type": "stream",
     "text": [
      "100%|██████████| 115/115 [00:01<00:00, 96.37it/s] \n"
     ]
    },
    {
     "name": "stdout",
     "output_type": "stream",
     "text": [
      "Epoch [1/30], tr_loss: 0.56881 tr_acc: 0.77353 test_loss: 0.53792, test_acc: 0.81676\n"
     ]
    },
    {
     "name": "stderr",
     "output_type": "stream",
     "text": [
      "100%|██████████| 115/115 [00:00<00:00, 126.84it/s]\n"
     ]
    },
    {
     "name": "stdout",
     "output_type": "stream",
     "text": [
      "Epoch [2/30], tr_loss: 0.46099 tr_acc: 0.85161 test_loss: 0.43917, test_acc: 0.80998\n"
     ]
    },
    {
     "name": "stderr",
     "output_type": "stream",
     "text": [
      "100%|██████████| 115/115 [00:00<00:00, 128.29it/s]\n"
     ]
    },
    {
     "name": "stdout",
     "output_type": "stream",
     "text": [
      "Epoch [3/30], tr_loss: 0.38668 tr_acc: 0.85392 test_loss: 0.37853, test_acc: 0.80726\n"
     ]
    },
    {
     "name": "stderr",
     "output_type": "stream",
     "text": [
      "100%|██████████| 115/115 [00:00<00:00, 128.04it/s]\n"
     ]
    },
    {
     "name": "stdout",
     "output_type": "stream",
     "text": [
      "Epoch [4/30], tr_loss: 0.32658 tr_acc: 0.84276 test_loss: 0.32811, test_acc: 0.81032\n"
     ]
    },
    {
     "name": "stderr",
     "output_type": "stream",
     "text": [
      "100%|██████████| 115/115 [00:00<00:00, 120.14it/s]\n"
     ]
    },
    {
     "name": "stdout",
     "output_type": "stream",
     "text": [
      "Epoch [5/30], tr_loss: 0.28872 tr_acc: 0.83868 test_loss: 0.31195, test_acc: 0.81099\n"
     ]
    },
    {
     "name": "stderr",
     "output_type": "stream",
     "text": [
      "100%|██████████| 115/115 [00:00<00:00, 145.08it/s]\n"
     ]
    },
    {
     "name": "stdout",
     "output_type": "stream",
     "text": [
      "Epoch [6/30], tr_loss: 0.25976 tr_acc: 0.85065 test_loss: 0.30551, test_acc: 0.80455\n"
     ]
    },
    {
     "name": "stderr",
     "output_type": "stream",
     "text": [
      "100%|██████████| 115/115 [00:00<00:00, 133.67it/s]\n"
     ]
    },
    {
     "name": "stdout",
     "output_type": "stream",
     "text": [
      "Epoch [7/30], tr_loss: 0.23581 tr_acc: 0.85541 test_loss: 0.29670, test_acc: 0.80998\n"
     ]
    },
    {
     "name": "stderr",
     "output_type": "stream",
     "text": [
      "100%|██████████| 115/115 [00:01<00:00, 90.55it/s]\n"
     ]
    },
    {
     "name": "stdout",
     "output_type": "stream",
     "text": [
      "Epoch [8/30], tr_loss: 0.21582 tr_acc: 0.85120 test_loss: 0.28828, test_acc: 0.81948\n"
     ]
    },
    {
     "name": "stderr",
     "output_type": "stream",
     "text": [
      "100%|██████████| 115/115 [00:01<00:00, 91.15it/s]\n"
     ]
    },
    {
     "name": "stdout",
     "output_type": "stream",
     "text": [
      "Epoch [9/30], tr_loss: 0.19648 tr_acc: 0.86099 test_loss: 0.28759, test_acc: 0.81812\n"
     ]
    },
    {
     "name": "stderr",
     "output_type": "stream",
     "text": [
      "100%|██████████| 115/115 [00:01<00:00, 97.05it/s]\n"
     ]
    },
    {
     "name": "stdout",
     "output_type": "stream",
     "text": [
      "Epoch [10/30], tr_loss: 0.18194 tr_acc: 0.86371 test_loss: 0.30373, test_acc: 0.81880\n"
     ]
    },
    {
     "name": "stderr",
     "output_type": "stream",
     "text": [
      "100%|██████████| 115/115 [00:01<00:00, 91.73it/s]\n"
     ]
    },
    {
     "name": "stdout",
     "output_type": "stream",
     "text": [
      "Epoch [11/30], tr_loss: 0.16710 tr_acc: 0.86371 test_loss: 0.27983, test_acc: 0.82898\n"
     ]
    },
    {
     "name": "stderr",
     "output_type": "stream",
     "text": [
      "100%|██████████| 115/115 [00:01<00:00, 90.21it/s]\n"
     ]
    },
    {
     "name": "stdout",
     "output_type": "stream",
     "text": [
      "Epoch [12/30], tr_loss: 0.14796 tr_acc: 0.86711 test_loss: 0.27703, test_acc: 0.82864\n"
     ]
    },
    {
     "name": "stderr",
     "output_type": "stream",
     "text": [
      "100%|██████████| 115/115 [00:01<00:00, 93.26it/s]\n"
     ]
    },
    {
     "name": "stdout",
     "output_type": "stream",
     "text": [
      "Epoch [13/30], tr_loss: 0.13057 tr_acc: 0.86820 test_loss: 0.33505, test_acc: 0.81541\n"
     ]
    },
    {
     "name": "stderr",
     "output_type": "stream",
     "text": [
      "100%|██████████| 115/115 [00:01<00:00, 92.68it/s]\n"
     ]
    },
    {
     "name": "stdout",
     "output_type": "stream",
     "text": [
      "Epoch [14/30], tr_loss: 0.11890 tr_acc: 0.87160 test_loss: 0.31275, test_acc: 0.83135\n"
     ]
    },
    {
     "name": "stderr",
     "output_type": "stream",
     "text": [
      "100%|██████████| 115/115 [00:01<00:00, 97.14it/s] \n"
     ]
    },
    {
     "name": "stdout",
     "output_type": "stream",
     "text": [
      "Epoch [15/30], tr_loss: 0.09994 tr_acc: 0.87119 test_loss: 0.30535, test_acc: 0.83916\n"
     ]
    },
    {
     "name": "stderr",
     "output_type": "stream",
     "text": [
      "100%|██████████| 115/115 [00:01<00:00, 88.80it/s]\n"
     ]
    },
    {
     "name": "stdout",
     "output_type": "stream",
     "text": [
      "Epoch [16/30], tr_loss: 0.06233 tr_acc: 0.87255 test_loss: 0.31051, test_acc: 0.84764\n"
     ]
    },
    {
     "name": "stderr",
     "output_type": "stream",
     "text": [
      "100%|██████████| 115/115 [00:01<00:00, 101.41it/s]\n"
     ]
    },
    {
     "name": "stdout",
     "output_type": "stream",
     "text": [
      "Epoch [17/30], tr_loss: -0.01174 tr_acc: 0.87446 test_loss: 0.19375, test_acc: 0.86970\n"
     ]
    },
    {
     "name": "stderr",
     "output_type": "stream",
     "text": [
      "100%|██████████| 115/115 [00:00<00:00, 135.97it/s]\n"
     ]
    },
    {
     "name": "stdout",
     "output_type": "stream",
     "text": [
      "Epoch [18/30], tr_loss: -0.12361 tr_acc: 0.87486 test_loss: 0.12525, test_acc: 0.88972\n"
     ]
    },
    {
     "name": "stderr",
     "output_type": "stream",
     "text": [
      "100%|██████████| 115/115 [00:00<00:00, 135.32it/s]\n"
     ]
    },
    {
     "name": "stdout",
     "output_type": "stream",
     "text": [
      "Epoch [19/30], tr_loss: -0.39821 tr_acc: 0.88180 test_loss: 0.01498, test_acc: 0.91890\n"
     ]
    },
    {
     "name": "stderr",
     "output_type": "stream",
     "text": [
      "100%|██████████| 115/115 [00:00<00:00, 134.86it/s]\n"
     ]
    },
    {
     "name": "stdout",
     "output_type": "stream",
     "text": [
      "Epoch [20/30], tr_loss: -0.62838 tr_acc: 0.87486 test_loss: 0.13721, test_acc: 0.87886\n"
     ]
    },
    {
     "name": "stderr",
     "output_type": "stream",
     "text": [
      "100%|██████████| 115/115 [00:00<00:00, 133.85it/s]\n"
     ]
    },
    {
     "name": "stdout",
     "output_type": "stream",
     "text": [
      "Epoch [21/30], tr_loss: -0.45489 tr_acc: 0.86684 test_loss: 0.15233, test_acc: 0.89040\n"
     ]
    },
    {
     "name": "stderr",
     "output_type": "stream",
     "text": [
      "100%|██████████| 115/115 [00:00<00:00, 133.97it/s]\n"
     ]
    },
    {
     "name": "stdout",
     "output_type": "stream",
     "text": [
      "Epoch [22/30], tr_loss: -1.12443 tr_acc: 0.87609 test_loss: 0.21957, test_acc: 0.87207\n"
     ]
    },
    {
     "name": "stderr",
     "output_type": "stream",
     "text": [
      "100%|██████████| 115/115 [00:00<00:00, 132.39it/s]\n"
     ]
    },
    {
     "name": "stdout",
     "output_type": "stream",
     "text": [
      "Epoch [23/30], tr_loss: -1.90584 tr_acc: 0.88248 test_loss: -0.36239, test_acc: 0.93146\n"
     ]
    },
    {
     "name": "stderr",
     "output_type": "stream",
     "text": [
      "100%|██████████| 115/115 [00:00<00:00, 133.82it/s]\n"
     ]
    },
    {
     "name": "stdout",
     "output_type": "stream",
     "text": [
      "Epoch [24/30], tr_loss: -1.92802 tr_acc: 0.87486 test_loss: -0.78942, test_acc: 0.94164\n"
     ]
    },
    {
     "name": "stderr",
     "output_type": "stream",
     "text": [
      "100%|██████████| 115/115 [00:00<00:00, 132.71it/s]\n"
     ]
    },
    {
     "name": "stdout",
     "output_type": "stream",
     "text": [
      "Epoch [25/30], tr_loss: -3.40954 tr_acc: 0.88751 test_loss: -2.01710, test_acc: 0.95758\n"
     ]
    },
    {
     "name": "stderr",
     "output_type": "stream",
     "text": [
      "100%|██████████| 115/115 [00:00<00:00, 132.80it/s]\n"
     ]
    },
    {
     "name": "stdout",
     "output_type": "stream",
     "text": [
      "Epoch [26/30], tr_loss: -4.91204 tr_acc: 0.89540 test_loss: -4.46069, test_acc: 0.94062\n"
     ]
    },
    {
     "name": "stderr",
     "output_type": "stream",
     "text": [
      "100%|██████████| 115/115 [00:01<00:00, 106.02it/s]\n"
     ]
    },
    {
     "name": "stdout",
     "output_type": "stream",
     "text": [
      "Epoch [27/30], tr_loss: -6.56515 tr_acc: 0.90520 test_loss: -4.22225, test_acc: 0.96471\n"
     ]
    },
    {
     "name": "stderr",
     "output_type": "stream",
     "text": [
      "100%|██████████| 115/115 [00:01<00:00, 102.36it/s]\n"
     ]
    },
    {
     "name": "stdout",
     "output_type": "stream",
     "text": [
      "Epoch [28/30], tr_loss: -8.62033 tr_acc: 0.90805 test_loss: -6.13969, test_acc: 0.94740\n"
     ]
    },
    {
     "name": "stderr",
     "output_type": "stream",
     "text": [
      "100%|██████████| 115/115 [00:01<00:00, 107.46it/s]\n"
     ]
    },
    {
     "name": "stdout",
     "output_type": "stream",
     "text": [
      "Epoch [29/30], tr_loss: -9.88592 tr_acc: 0.89676 test_loss: -0.85334, test_acc: 0.90804\n"
     ]
    },
    {
     "name": "stderr",
     "output_type": "stream",
     "text": [
      "100%|██████████| 115/115 [00:01<00:00, 102.61it/s]\n"
     ]
    },
    {
     "name": "stdout",
     "output_type": "stream",
     "text": [
      "Epoch [30/30], tr_loss: -11.48895 tr_acc: 0.89799 test_loss: -7.13256, test_acc: 0.94740\n"
     ]
    }
   ],
   "source": [
    "from pu_loss import PULoss\n",
    "criterion = PULoss(prior=positive_prior)\n",
    "model_lstm = train(model_lstm, criterion, train_loader_pu, test_loader_pu, 0.0001, 30, device)"
   ]
  },
  {
   "cell_type": "code",
   "execution_count": 73,
   "id": "9b02ddaf",
   "metadata": {},
   "outputs": [],
   "source": [
    "X_test_tensor = X_test_tensor.permute(0, 2, 1)\n"
   ]
  },
  {
   "cell_type": "code",
   "execution_count": 48,
   "id": "64c3c929",
   "metadata": {},
   "outputs": [
    {
     "name": "stdout",
     "output_type": "stream",
     "text": [
      "              precision    recall  f1-score   support\n",
      "\n",
      "          -1     0.9640    0.9737    0.9689      2476\n",
      "           1     0.8543    0.8089    0.8310       471\n",
      "\n",
      "    accuracy                         0.9474      2947\n",
      "   macro avg     0.9091    0.8913    0.8999      2947\n",
      "weighted avg     0.9465    0.9474    0.9468      2947\n",
      "\n",
      "[[2411   65]\n",
      " [  90  381]]\n"
     ]
    }
   ],
   "source": [
    "test_dataset = TensorDataset(X_test_tensor, torch.from_numpy(y_test_np))\n",
    "test_loader = DataLoader(test_dataset, batch_size=64)  # adjust batch_size to your GPU\n",
    "\n",
    "all_preds = []\n",
    "model_lstm.eval()\n",
    "with torch.no_grad():\n",
    "    for batch_X, _ in test_loader:\n",
    "        batch_X = batch_X.to(device)\n",
    "        outputs = model_lstm(batch_X)\n",
    "        preds = torch.where(\n",
    "                    outputs > 0,\n",
    "                    torch.tensor(1, device=outputs.device),\n",
    "                    torch.tensor(-1, device=outputs.device)\n",
    "                ).view(-1) \n",
    "        all_preds.append(preds.cpu())\n",
    "\n",
    "# Concatenate all predictions\n",
    "all_preds = torch.cat(all_preds).numpy()\n",
    "\n",
    "print(classification_report(y_test_pu, all_preds, digits=4))\n",
    "print(confusion_matrix(y_test_pu, all_preds))\n"
   ]
  },
  {
   "cell_type": "markdown",
   "id": "2eb5a690",
   "metadata": {},
   "source": [
    "## LSTM + nnPU loss"
   ]
  },
  {
   "cell_type": "code",
   "execution_count": 49,
   "id": "0c2e8117",
   "metadata": {},
   "outputs": [
    {
     "name": "stderr",
     "output_type": "stream",
     "text": [
      "  0%|          | 0/115 [00:00<?, ?it/s]/home/bebra/aic/har-pu-learning/pu_loss.py:28: UserWarning: To copy construct from a tensor, it is recommended to use sourceTensor.clone().detach() or sourceTensor.clone().detach().requires_grad_(True), rather than torch.tensor(sourceTensor).\n",
      "  self.prior = torch.tensor(self.prior, device=inp.device)\n",
      "100%|██████████| 115/115 [00:01<00:00, 99.00it/s] \n"
     ]
    },
    {
     "name": "stdout",
     "output_type": "stream",
     "text": [
      "Epoch [1/30], tr_loss: 0.61878 tr_acc: 0.74878 test_loss: 0.54259, test_acc: 0.80285\n"
     ]
    },
    {
     "name": "stderr",
     "output_type": "stream",
     "text": [
      "100%|██████████| 115/115 [00:00<00:00, 127.50it/s]\n"
     ]
    },
    {
     "name": "stdout",
     "output_type": "stream",
     "text": [
      "Epoch [2/30], tr_loss: 0.47821 tr_acc: 0.84807 test_loss: 0.43461, test_acc: 0.81269\n"
     ]
    },
    {
     "name": "stderr",
     "output_type": "stream",
     "text": [
      "100%|██████████| 115/115 [00:00<00:00, 122.01it/s]\n"
     ]
    },
    {
     "name": "stdout",
     "output_type": "stream",
     "text": [
      "Epoch [3/30], tr_loss: 0.40850 tr_acc: 0.85120 test_loss: 0.39654, test_acc: 0.80726\n"
     ]
    },
    {
     "name": "stderr",
     "output_type": "stream",
     "text": [
      "100%|██████████| 115/115 [00:00<00:00, 126.64it/s]\n"
     ]
    },
    {
     "name": "stdout",
     "output_type": "stream",
     "text": [
      "Epoch [4/30], tr_loss: 0.35790 tr_acc: 0.84440 test_loss: 0.36638, test_acc: 0.79369\n"
     ]
    },
    {
     "name": "stderr",
     "output_type": "stream",
     "text": [
      "100%|██████████| 115/115 [00:00<00:00, 135.35it/s]\n"
     ]
    },
    {
     "name": "stdout",
     "output_type": "stream",
     "text": [
      "Epoch [5/30], tr_loss: 0.31412 tr_acc: 0.83637 test_loss: 0.32543, test_acc: 0.80217\n"
     ]
    },
    {
     "name": "stderr",
     "output_type": "stream",
     "text": [
      "100%|██████████| 115/115 [00:00<00:00, 137.12it/s]\n"
     ]
    },
    {
     "name": "stdout",
     "output_type": "stream",
     "text": [
      "Epoch [6/30], tr_loss: 0.28791 tr_acc: 0.83406 test_loss: 0.32145, test_acc: 0.80794\n"
     ]
    },
    {
     "name": "stderr",
     "output_type": "stream",
     "text": [
      "100%|██████████| 115/115 [00:01<00:00, 114.94it/s]\n"
     ]
    },
    {
     "name": "stdout",
     "output_type": "stream",
     "text": [
      "Epoch [7/30], tr_loss: 0.26269 tr_acc: 0.83964 test_loss: 0.33012, test_acc: 0.79335\n"
     ]
    },
    {
     "name": "stderr",
     "output_type": "stream",
     "text": [
      "100%|██████████| 115/115 [00:00<00:00, 118.71it/s]\n"
     ]
    },
    {
     "name": "stdout",
     "output_type": "stream",
     "text": [
      "Epoch [8/30], tr_loss: 0.23685 tr_acc: 0.84154 test_loss: 0.32478, test_acc: 0.79437\n"
     ]
    },
    {
     "name": "stderr",
     "output_type": "stream",
     "text": [
      "100%|██████████| 115/115 [00:00<00:00, 121.57it/s]\n"
     ]
    },
    {
     "name": "stdout",
     "output_type": "stream",
     "text": [
      "Epoch [9/30], tr_loss: 0.20378 tr_acc: 0.85460 test_loss: 0.17486, test_acc: 0.84357\n"
     ]
    },
    {
     "name": "stderr",
     "output_type": "stream",
     "text": [
      "100%|██████████| 115/115 [00:00<00:00, 140.38it/s]\n"
     ]
    },
    {
     "name": "stdout",
     "output_type": "stream",
     "text": [
      "Epoch [10/30], tr_loss: 0.13224 tr_acc: 0.87092 test_loss: 0.37637, test_acc: 0.77740\n"
     ]
    },
    {
     "name": "stderr",
     "output_type": "stream",
     "text": [
      "100%|██████████| 115/115 [00:00<00:00, 139.47it/s]\n"
     ]
    },
    {
     "name": "stdout",
     "output_type": "stream",
     "text": [
      "Epoch [11/30], tr_loss: 0.10115 tr_acc: 0.87922 test_loss: 0.20700, test_acc: 0.84968\n"
     ]
    },
    {
     "name": "stderr",
     "output_type": "stream",
     "text": [
      "100%|██████████| 115/115 [00:00<00:00, 142.99it/s]\n"
     ]
    },
    {
     "name": "stdout",
     "output_type": "stream",
     "text": [
      "Epoch [12/30], tr_loss: 0.09657 tr_acc: 0.87962 test_loss: 0.17449, test_acc: 0.85782\n"
     ]
    },
    {
     "name": "stderr",
     "output_type": "stream",
     "text": [
      "100%|██████████| 115/115 [00:00<00:00, 139.66it/s]\n"
     ]
    },
    {
     "name": "stdout",
     "output_type": "stream",
     "text": [
      "Epoch [13/30], tr_loss: 0.08414 tr_acc: 0.89105 test_loss: 0.40169, test_acc: 0.75365\n"
     ]
    },
    {
     "name": "stderr",
     "output_type": "stream",
     "text": [
      "100%|██████████| 115/115 [00:00<00:00, 140.17it/s]\n"
     ]
    },
    {
     "name": "stdout",
     "output_type": "stream",
     "text": [
      "Epoch [14/30], tr_loss: 0.08098 tr_acc: 0.88738 test_loss: 0.42577, test_acc: 0.75127\n"
     ]
    },
    {
     "name": "stderr",
     "output_type": "stream",
     "text": [
      "100%|██████████| 115/115 [00:00<00:00, 137.21it/s]\n"
     ]
    },
    {
     "name": "stdout",
     "output_type": "stream",
     "text": [
      "Epoch [15/30], tr_loss: 0.08371 tr_acc: 0.89540 test_loss: 0.18702, test_acc: 0.89379\n"
     ]
    },
    {
     "name": "stderr",
     "output_type": "stream",
     "text": [
      "100%|██████████| 115/115 [00:00<00:00, 139.11it/s]\n"
     ]
    },
    {
     "name": "stdout",
     "output_type": "stream",
     "text": [
      "Epoch [16/30], tr_loss: 0.07626 tr_acc: 0.89309 test_loss: 0.16580, test_acc: 0.89481\n"
     ]
    },
    {
     "name": "stderr",
     "output_type": "stream",
     "text": [
      "100%|██████████| 115/115 [00:00<00:00, 139.88it/s]\n"
     ]
    },
    {
     "name": "stdout",
     "output_type": "stream",
     "text": [
      "Epoch [17/30], tr_loss: 0.06971 tr_acc: 0.90506 test_loss: 0.15746, test_acc: 0.90804\n"
     ]
    },
    {
     "name": "stderr",
     "output_type": "stream",
     "text": [
      "100%|██████████| 115/115 [00:00<00:00, 136.10it/s]\n"
     ]
    },
    {
     "name": "stdout",
     "output_type": "stream",
     "text": [
      "Epoch [18/30], tr_loss: 0.07435 tr_acc: 0.90601 test_loss: 0.21266, test_acc: 0.88531\n"
     ]
    },
    {
     "name": "stderr",
     "output_type": "stream",
     "text": [
      "100%|██████████| 115/115 [00:00<00:00, 141.02it/s]\n"
     ]
    },
    {
     "name": "stdout",
     "output_type": "stream",
     "text": [
      "Epoch [19/30], tr_loss: 0.06968 tr_acc: 0.90071 test_loss: 0.20703, test_acc: 0.89175\n"
     ]
    },
    {
     "name": "stderr",
     "output_type": "stream",
     "text": [
      "100%|██████████| 115/115 [00:00<00:00, 116.40it/s]\n"
     ]
    },
    {
     "name": "stdout",
     "output_type": "stream",
     "text": [
      "Epoch [20/30], tr_loss: 0.06322 tr_acc: 0.90180 test_loss: 0.25064, test_acc: 0.85714\n"
     ]
    },
    {
     "name": "stderr",
     "output_type": "stream",
     "text": [
      "100%|██████████| 115/115 [00:01<00:00, 112.84it/s]\n"
     ]
    },
    {
     "name": "stdout",
     "output_type": "stream",
     "text": [
      "Epoch [21/30], tr_loss: 0.06979 tr_acc: 0.90696 test_loss: 0.21368, test_acc: 0.88565\n"
     ]
    },
    {
     "name": "stderr",
     "output_type": "stream",
     "text": [
      "100%|██████████| 115/115 [00:00<00:00, 129.01it/s]\n"
     ]
    },
    {
     "name": "stdout",
     "output_type": "stream",
     "text": [
      "Epoch [22/30], tr_loss: 0.06430 tr_acc: 0.90030 test_loss: 0.23458, test_acc: 0.86427\n"
     ]
    },
    {
     "name": "stderr",
     "output_type": "stream",
     "text": [
      "100%|██████████| 115/115 [00:00<00:00, 117.24it/s]\n"
     ]
    },
    {
     "name": "stdout",
     "output_type": "stream",
     "text": [
      "Epoch [23/30], tr_loss: 0.06244 tr_acc: 0.89976 test_loss: 0.33322, test_acc: 0.80081\n"
     ]
    },
    {
     "name": "stderr",
     "output_type": "stream",
     "text": [
      "100%|██████████| 115/115 [00:00<00:00, 139.39it/s]\n"
     ]
    },
    {
     "name": "stdout",
     "output_type": "stream",
     "text": [
      "Epoch [24/30], tr_loss: 0.06130 tr_acc: 0.89703 test_loss: 0.22284, test_acc: 0.87818\n"
     ]
    },
    {
     "name": "stderr",
     "output_type": "stream",
     "text": [
      "100%|██████████| 115/115 [00:00<00:00, 137.96it/s]\n"
     ]
    },
    {
     "name": "stdout",
     "output_type": "stream",
     "text": [
      "Epoch [25/30], tr_loss: 0.07180 tr_acc: 0.90588 test_loss: 0.18606, test_acc: 0.89854\n"
     ]
    },
    {
     "name": "stderr",
     "output_type": "stream",
     "text": [
      "100%|██████████| 115/115 [00:00<00:00, 142.98it/s]\n"
     ]
    },
    {
     "name": "stdout",
     "output_type": "stream",
     "text": [
      "Epoch [26/30], tr_loss: 0.06255 tr_acc: 0.90642 test_loss: 0.17799, test_acc: 0.90465\n"
     ]
    },
    {
     "name": "stderr",
     "output_type": "stream",
     "text": [
      "100%|██████████| 115/115 [00:00<00:00, 139.49it/s]\n"
     ]
    },
    {
     "name": "stdout",
     "output_type": "stream",
     "text": [
      "Epoch [27/30], tr_loss: 0.06889 tr_acc: 0.91091 test_loss: 0.16342, test_acc: 0.90601\n"
     ]
    },
    {
     "name": "stderr",
     "output_type": "stream",
     "text": [
      "100%|██████████| 115/115 [00:00<00:00, 140.44it/s]\n"
     ]
    },
    {
     "name": "stdout",
     "output_type": "stream",
     "text": [
      "Epoch [28/30], tr_loss: 0.06215 tr_acc: 0.91104 test_loss: 0.20482, test_acc: 0.88700\n"
     ]
    },
    {
     "name": "stderr",
     "output_type": "stream",
     "text": [
      "100%|██████████| 115/115 [00:00<00:00, 142.29it/s]\n"
     ]
    },
    {
     "name": "stdout",
     "output_type": "stream",
     "text": [
      "Epoch [29/30], tr_loss: 0.06487 tr_acc: 0.91308 test_loss: 0.16585, test_acc: 0.91177\n"
     ]
    },
    {
     "name": "stderr",
     "output_type": "stream",
     "text": [
      "100%|██████████| 115/115 [00:00<00:00, 136.95it/s]\n"
     ]
    },
    {
     "name": "stdout",
     "output_type": "stream",
     "text": [
      "Epoch [30/30], tr_loss: 0.06776 tr_acc: 0.91880 test_loss: 0.18719, test_acc: 0.89990\n"
     ]
    }
   ],
   "source": [
    "model_lstm = LSTMNet(in_channel, hidden_dim=64, n_output=1, num_layers=1)\n",
    "model_lstm.to(device)\n",
    "criterion = PULoss(prior=positive_prior, nnPU=True)\n",
    "model_lstm = train(model_lstm, criterion, train_loader_pu, test_loader_pu, 0.0001, 30, device)"
   ]
  },
  {
   "cell_type": "code",
   "execution_count": 50,
   "id": "c5f99c24",
   "metadata": {},
   "outputs": [
    {
     "name": "stdout",
     "output_type": "stream",
     "text": [
      "              precision    recall  f1-score   support\n",
      "\n",
      "          -1     0.9764    0.9027    0.9381      2476\n",
      "           1     0.6337    0.8854    0.7387       471\n",
      "\n",
      "    accuracy                         0.8999      2947\n",
      "   macro avg     0.8051    0.8940    0.8384      2947\n",
      "weighted avg     0.9216    0.8999    0.9062      2947\n",
      "\n",
      "[[2235  241]\n",
      " [  54  417]]\n"
     ]
    }
   ],
   "source": [
    "all_preds = []\n",
    "model_lstm.eval()\n",
    "with torch.no_grad():\n",
    "    for batch_X, _ in test_loader:\n",
    "        batch_X = batch_X.to(device)\n",
    "        outputs = model_lstm(batch_X)\n",
    "        preds = torch.where(\n",
    "                    outputs > 0,\n",
    "                    torch.tensor(1, device=outputs.device),\n",
    "                    torch.tensor(-1, device=outputs.device)\n",
    "                ).view(-1) \n",
    "        all_preds.append(preds.cpu())\n",
    "\n",
    "# Concatenate all predictions\n",
    "all_preds = torch.cat(all_preds).numpy()\n",
    "\n",
    "print(classification_report(y_test_pu, all_preds, digits=4))\n",
    "print(confusion_matrix(y_test_pu, all_preds))\n"
   ]
  },
  {
   "cell_type": "markdown",
   "id": "9010df49",
   "metadata": {},
   "source": [
    "## Mamba + nnPU"
   ]
  },
  {
   "cell_type": "code",
   "execution_count": 68,
   "id": "190692f6",
   "metadata": {},
   "outputs": [
    {
     "name": "stdout",
     "output_type": "stream",
     "text": [
      "MambaClassifier(\n",
      "  (input_proj): Linear(in_features=1, out_features=64, bias=True)\n",
      "  (mamba): Mamba(\n",
      "    (in_proj): Linear(in_features=64, out_features=256, bias=False)\n",
      "    (conv1d): Conv1d(128, 128, kernel_size=(4,), stride=(1,), padding=(3,), groups=128)\n",
      "    (act): SiLU()\n",
      "    (x_proj): Linear(in_features=128, out_features=36, bias=False)\n",
      "    (dt_proj): Linear(in_features=4, out_features=128, bias=True)\n",
      "    (out_proj): Linear(in_features=128, out_features=64, bias=False)\n",
      "  )\n",
      "  (norm): LayerNorm((64,), eps=1e-05, elementwise_affine=True)\n",
      "  (pool): AdaptiveAvgPool1d(output_size=1)\n",
      "  (fc): Linear(in_features=64, out_features=1, bias=True)\n",
      ")\n"
     ]
    }
   ],
   "source": [
    "from baseline import MambaClassifier\n",
    "\n",
    "model_mamba = MambaClassifier(in_channel, n_hidden, n_output)\n",
    "model_mamba = model_mamba.to(device)\n",
    "print(model_mamba)"
   ]
  },
  {
   "cell_type": "code",
   "execution_count": 69,
   "id": "79949a66",
   "metadata": {},
   "outputs": [
    {
     "name": "stderr",
     "output_type": "stream",
     "text": [
      "  0%|          | 0/115 [00:00<?, ?it/s]"
     ]
    },
    {
     "name": "stderr",
     "output_type": "stream",
     "text": [
      "100%|██████████| 115/115 [00:03<00:00, 35.77it/s]\n"
     ]
    },
    {
     "name": "stdout",
     "output_type": "stream",
     "text": [
      "Epoch [1/20], tr_loss: 0.31362 tr_acc: 0.84956 test_loss: 0.18190, test_acc: 0.84119\n"
     ]
    },
    {
     "name": "stderr",
     "output_type": "stream",
     "text": [
      "100%|██████████| 115/115 [00:02<00:00, 39.20it/s]\n"
     ]
    },
    {
     "name": "stdout",
     "output_type": "stream",
     "text": [
      "Epoch [2/20], tr_loss: 0.14859 tr_acc: 0.88166 test_loss: 0.09798, test_acc: 0.91517\n"
     ]
    },
    {
     "name": "stderr",
     "output_type": "stream",
     "text": [
      "100%|██████████| 115/115 [00:02<00:00, 38.61it/s]\n"
     ]
    },
    {
     "name": "stdout",
     "output_type": "stream",
     "text": [
      "Epoch [3/20], tr_loss: 0.07683 tr_acc: 0.90792 test_loss: 0.09933, test_acc: 0.90940\n"
     ]
    },
    {
     "name": "stderr",
     "output_type": "stream",
     "text": [
      "100%|██████████| 115/115 [00:02<00:00, 38.81it/s]\n"
     ]
    },
    {
     "name": "stdout",
     "output_type": "stream",
     "text": [
      "Epoch [4/20], tr_loss: 0.07472 tr_acc: 0.90832 test_loss: 0.21326, test_acc: 0.88836\n"
     ]
    },
    {
     "name": "stderr",
     "output_type": "stream",
     "text": [
      "100%|██████████| 115/115 [00:03<00:00, 37.68it/s]\n"
     ]
    },
    {
     "name": "stdout",
     "output_type": "stream",
     "text": [
      "Epoch [5/20], tr_loss: 0.07769 tr_acc: 0.90397 test_loss: 0.16098, test_acc: 0.94130\n"
     ]
    },
    {
     "name": "stderr",
     "output_type": "stream",
     "text": [
      "100%|██████████| 115/115 [00:03<00:00, 37.11it/s]\n"
     ]
    },
    {
     "name": "stdout",
     "output_type": "stream",
     "text": [
      "Epoch [6/20], tr_loss: 0.07358 tr_acc: 0.91608 test_loss: 0.12043, test_acc: 0.93451\n"
     ]
    },
    {
     "name": "stderr",
     "output_type": "stream",
     "text": [
      "100%|██████████| 115/115 [00:03<00:00, 38.19it/s]\n"
     ]
    },
    {
     "name": "stdout",
     "output_type": "stream",
     "text": [
      "Epoch [7/20], tr_loss: 0.07321 tr_acc: 0.91104 test_loss: 0.16718, test_acc: 0.91890\n"
     ]
    },
    {
     "name": "stderr",
     "output_type": "stream",
     "text": [
      "100%|██████████| 115/115 [00:03<00:00, 38.15it/s]\n"
     ]
    },
    {
     "name": "stdout",
     "output_type": "stream",
     "text": [
      "Epoch [8/20], tr_loss: 0.06712 tr_acc: 0.89826 test_loss: 0.08896, test_acc: 0.84255\n"
     ]
    },
    {
     "name": "stderr",
     "output_type": "stream",
     "text": [
      "100%|██████████| 115/115 [00:03<00:00, 37.52it/s]\n"
     ]
    },
    {
     "name": "stdout",
     "output_type": "stream",
     "text": [
      "Epoch [9/20], tr_loss: 0.07370 tr_acc: 0.92043 test_loss: 0.11195, test_acc: 0.93655\n"
     ]
    },
    {
     "name": "stderr",
     "output_type": "stream",
     "text": [
      "100%|██████████| 115/115 [00:03<00:00, 37.85it/s]\n"
     ]
    },
    {
     "name": "stdout",
     "output_type": "stream",
     "text": [
      "Epoch [10/20], tr_loss: 0.07734 tr_acc: 0.91934 test_loss: 0.18147, test_acc: 0.92738\n"
     ]
    },
    {
     "name": "stderr",
     "output_type": "stream",
     "text": [
      "100%|██████████| 115/115 [00:03<00:00, 37.71it/s]\n"
     ]
    },
    {
     "name": "stdout",
     "output_type": "stream",
     "text": [
      "Epoch [11/20], tr_loss: 0.06762 tr_acc: 0.92233 test_loss: 0.11005, test_acc: 0.92976\n"
     ]
    },
    {
     "name": "stderr",
     "output_type": "stream",
     "text": [
      "100%|██████████| 115/115 [00:03<00:00, 37.87it/s]\n"
     ]
    },
    {
     "name": "stdout",
     "output_type": "stream",
     "text": [
      "Epoch [12/20], tr_loss: 0.06116 tr_acc: 0.92682 test_loss: 0.09404, test_acc: 0.89413\n"
     ]
    },
    {
     "name": "stderr",
     "output_type": "stream",
     "text": [
      "100%|██████████| 115/115 [00:03<00:00, 37.78it/s]\n"
     ]
    },
    {
     "name": "stdout",
     "output_type": "stream",
     "text": [
      "Epoch [13/20], tr_loss: 0.06812 tr_acc: 0.92193 test_loss: 0.14341, test_acc: 0.94435\n"
     ]
    },
    {
     "name": "stderr",
     "output_type": "stream",
     "text": [
      "100%|██████████| 115/115 [00:03<00:00, 38.01it/s]\n"
     ]
    },
    {
     "name": "stdout",
     "output_type": "stream",
     "text": [
      "Epoch [14/20], tr_loss: 0.06497 tr_acc: 0.92247 test_loss: 0.10465, test_acc: 0.94028\n"
     ]
    },
    {
     "name": "stderr",
     "output_type": "stream",
     "text": [
      "100%|██████████| 115/115 [00:03<00:00, 37.80it/s]\n"
     ]
    },
    {
     "name": "stdout",
     "output_type": "stream",
     "text": [
      "Epoch [15/20], tr_loss: 0.06809 tr_acc: 0.91907 test_loss: 0.18090, test_acc: 0.92704\n"
     ]
    },
    {
     "name": "stderr",
     "output_type": "stream",
     "text": [
      "100%|██████████| 115/115 [00:03<00:00, 37.72it/s]\n"
     ]
    },
    {
     "name": "stdout",
     "output_type": "stream",
     "text": [
      "Epoch [16/20], tr_loss: 0.06321 tr_acc: 0.93145 test_loss: 0.11305, test_acc: 0.94537\n"
     ]
    },
    {
     "name": "stderr",
     "output_type": "stream",
     "text": [
      "100%|██████████| 115/115 [00:03<00:00, 37.53it/s]\n"
     ]
    },
    {
     "name": "stdout",
     "output_type": "stream",
     "text": [
      "Epoch [17/20], tr_loss: 0.06265 tr_acc: 0.92002 test_loss: 0.12976, test_acc: 0.94435\n"
     ]
    },
    {
     "name": "stderr",
     "output_type": "stream",
     "text": [
      "100%|██████████| 115/115 [00:03<00:00, 36.91it/s]\n"
     ]
    },
    {
     "name": "stdout",
     "output_type": "stream",
     "text": [
      "Epoch [18/20], tr_loss: 0.06592 tr_acc: 0.93471 test_loss: 0.14844, test_acc: 0.93790\n"
     ]
    },
    {
     "name": "stderr",
     "output_type": "stream",
     "text": [
      "100%|██████████| 115/115 [00:03<00:00, 37.23it/s]\n"
     ]
    },
    {
     "name": "stdout",
     "output_type": "stream",
     "text": [
      "Epoch [19/20], tr_loss: 0.06456 tr_acc: 0.93634 test_loss: 0.11981, test_acc: 0.95046\n"
     ]
    },
    {
     "name": "stderr",
     "output_type": "stream",
     "text": [
      "100%|██████████| 115/115 [00:03<00:00, 37.74it/s]\n"
     ]
    },
    {
     "name": "stdout",
     "output_type": "stream",
     "text": [
      "Epoch [20/20], tr_loss: 0.06370 tr_acc: 0.94110 test_loss: 0.13771, test_acc: 0.94774\n"
     ]
    }
   ],
   "source": [
    "model_mamba = train(model_mamba, criterion, train_loader_pu, test_loader_pu, 0.001, 20, device)"
   ]
  },
  {
   "cell_type": "code",
   "execution_count": 74,
   "id": "b968c1e6",
   "metadata": {},
   "outputs": [],
   "source": [
    "out_test = model_mamba(X_test_tensor.to(device))\n",
    "preds_test = torch.where(\n",
    "            out_test > 0,\n",
    "            torch.tensor(1, device=out_test.device),\n",
    "            torch.tensor(-1, device=out_test.device)\n",
    "        ).view(-1)\n"
   ]
  },
  {
   "cell_type": "code",
   "execution_count": 77,
   "id": "879c612e",
   "metadata": {},
   "outputs": [
    {
     "name": "stdout",
     "output_type": "stream",
     "text": [
      "              precision    recall  f1-score   support\n",
      "\n",
      "          -1     0.9542    0.9851    0.9694      2476\n",
      "           1     0.9054    0.7516    0.8213       471\n",
      "\n",
      "    accuracy                         0.9477      2947\n",
      "   macro avg     0.9298    0.8683    0.8954      2947\n",
      "weighted avg     0.9464    0.9477    0.9457      2947\n",
      "\n",
      "[[2439   37]\n",
      " [ 117  354]]\n"
     ]
    }
   ],
   "source": [
    "print(classification_report(y_test_pu, preds_test.cpu().detach().numpy(), digits=4))\n",
    "print(confusion_matrix(y_test_pu, preds_test.cpu().detach().numpy()))"
   ]
  },
  {
   "cell_type": "markdown",
   "id": "331358b5",
   "metadata": {},
   "source": [
    "## InceptionTime with PU loss"
   ]
  },
  {
   "cell_type": "code",
   "execution_count": 109,
   "id": "4088ec79",
   "metadata": {},
   "outputs": [],
   "source": [
    "y_train_pu = (y_train_np == positive_class).astype(int)\n",
    "y_test_pu  = (y_test_np  == positive_class).astype(int)"
   ]
  },
  {
   "cell_type": "code",
   "execution_count": 135,
   "id": "28bd3274",
   "metadata": {},
   "outputs": [],
   "source": [
    "from tsai.all import *\n",
    "from pu_loss import PULoss, PULossWrapped\n",
    "\n",
    "criterion = PULossWrapped(prior=positive_prior, nnPU=True)\n",
    "\n",
    "X_all = np.concatenate([X_train_np, X_test_np]).astype(np.float32)\n",
    "y_all = np.concatenate([y_train_pu, y_test_pu])\n",
    "\n",
    "splits = (list(range(len(y_train_np))),\n",
    "          list(range(len(y_train_np), len(y_all))))\n",
    "\n",
    "tfms = [None, TSClassification()]\n",
    "batch_tfms = TSStandardize(by_sample=True)\n",
    "\n",
    "clf = TSClassifier(X_all, y_all, splits=splits, arch=\"InceptionTimePlus\",\n",
    "                   tfms=tfms, batch_tfms=batch_tfms, loss_func=criterion,\n",
    "                   metrics=accuracy, cbs=ShowGraph())\n"
   ]
  },
  {
   "cell_type": "code",
   "execution_count": null,
   "id": "f533eabc",
   "metadata": {},
   "outputs": [
    {
     "data": {
      "text/html": [
       "\n",
       "<style>\n",
       "    /* Turns off some styling */\n",
       "    progress {\n",
       "        /* gets rid of default border in Firefox and Opera. */\n",
       "        border: none;\n",
       "        /* Needs to be in here for Safari polyfill so background images work as expected. */\n",
       "        background-size: auto;\n",
       "    }\n",
       "    progress:not([value]), progress:not([value])::-webkit-progress-bar {\n",
       "        background: repeating-linear-gradient(45deg, #7e7e7e, #7e7e7e 10px, #5c5c5c 10px, #5c5c5c 20px);\n",
       "    }\n",
       "    .progress-bar-interrupted, .progress-bar-interrupted::-webkit-progress-bar {\n",
       "        background: #F44336;\n",
       "    }\n",
       "</style>\n"
      ],
      "text/plain": [
       "<IPython.core.display.HTML object>"
      ]
     },
     "metadata": {},
     "output_type": "display_data"
    },
    {
     "data": {
      "text/html": [
       "<table border=\"1\" class=\"dataframe\">\n",
       "  <thead>\n",
       "    <tr style=\"text-align: left;\">\n",
       "      <th>epoch</th>\n",
       "      <th>train_loss</th>\n",
       "      <th>valid_loss</th>\n",
       "      <th>accuracy</th>\n",
       "      <th>time</th>\n",
       "    </tr>\n",
       "  </thead>\n",
       "  <tbody>\n",
       "    <tr>\n",
       "      <td>0</td>\n",
       "      <td>0.558502</td>\n",
       "      <td>0.414203</td>\n",
       "      <td>0.832033</td>\n",
       "      <td>00:09</td>\n",
       "    </tr>\n",
       "    <tr>\n",
       "      <td>1</td>\n",
       "      <td>0.198100</td>\n",
       "      <td>0.196326</td>\n",
       "      <td>0.873091</td>\n",
       "      <td>00:09</td>\n",
       "    </tr>\n",
       "    <tr>\n",
       "      <td>2</td>\n",
       "      <td>0.086640</td>\n",
       "      <td>0.298538</td>\n",
       "      <td>0.767560</td>\n",
       "      <td>00:09</td>\n",
       "    </tr>\n",
       "    <tr>\n",
       "      <td>3</td>\n",
       "      <td>0.061887</td>\n",
       "      <td>0.142380</td>\n",
       "      <td>0.929420</td>\n",
       "      <td>00:09</td>\n",
       "    </tr>\n",
       "    <tr>\n",
       "      <td>4</td>\n",
       "      <td>0.059525</td>\n",
       "      <td>0.134279</td>\n",
       "      <td>0.939600</td>\n",
       "      <td>00:09</td>\n",
       "    </tr>\n",
       "    <tr>\n",
       "      <td>5</td>\n",
       "      <td>0.056125</td>\n",
       "      <td>0.264131</td>\n",
       "      <td>0.694944</td>\n",
       "      <td>00:09</td>\n",
       "    </tr>\n",
       "    <tr>\n",
       "      <td>6</td>\n",
       "      <td>0.060420</td>\n",
       "      <td>0.168362</td>\n",
       "      <td>0.850356</td>\n",
       "      <td>00:09</td>\n",
       "    </tr>\n",
       "    <tr>\n",
       "      <td>7</td>\n",
       "      <td>0.054532</td>\n",
       "      <td>0.107577</td>\n",
       "      <td>0.961317</td>\n",
       "      <td>00:09</td>\n",
       "    </tr>\n",
       "    <tr>\n",
       "      <td>8</td>\n",
       "      <td>0.040902</td>\n",
       "      <td>0.116067</td>\n",
       "      <td>0.973532</td>\n",
       "      <td>00:09</td>\n",
       "    </tr>\n",
       "    <tr>\n",
       "      <td>9</td>\n",
       "      <td>0.039050</td>\n",
       "      <td>0.136426</td>\n",
       "      <td>0.922294</td>\n",
       "      <td>00:09</td>\n",
       "    </tr>\n",
       "    <tr>\n",
       "      <td>10</td>\n",
       "      <td>0.044317</td>\n",
       "      <td>0.113166</td>\n",
       "      <td>0.919919</td>\n",
       "      <td>00:09</td>\n",
       "    </tr>\n",
       "    <tr>\n",
       "      <td>11</td>\n",
       "      <td>0.041789</td>\n",
       "      <td>0.128363</td>\n",
       "      <td>0.971496</td>\n",
       "      <td>00:09</td>\n",
       "    </tr>\n",
       "    <tr>\n",
       "      <td>12</td>\n",
       "      <td>0.043274</td>\n",
       "      <td>0.175922</td>\n",
       "      <td>0.875467</td>\n",
       "      <td>00:09</td>\n",
       "    </tr>\n",
       "    <tr>\n",
       "      <td>13</td>\n",
       "      <td>0.037175</td>\n",
       "      <td>0.130638</td>\n",
       "      <td>0.930098</td>\n",
       "      <td>00:09</td>\n",
       "    </tr>\n",
       "    <tr>\n",
       "      <td>14</td>\n",
       "      <td>0.035895</td>\n",
       "      <td>0.120288</td>\n",
       "      <td>0.971836</td>\n",
       "      <td>00:09</td>\n",
       "    </tr>\n",
       "    <tr>\n",
       "      <td>15</td>\n",
       "      <td>0.034071</td>\n",
       "      <td>0.125003</td>\n",
       "      <td>0.963353</td>\n",
       "      <td>00:09</td>\n",
       "    </tr>\n",
       "    <tr>\n",
       "      <td>16</td>\n",
       "      <td>0.030929</td>\n",
       "      <td>0.127685</td>\n",
       "      <td>0.950797</td>\n",
       "      <td>00:09</td>\n",
       "    </tr>\n",
       "    <tr>\n",
       "      <td>17</td>\n",
       "      <td>0.031306</td>\n",
       "      <td>0.132952</td>\n",
       "      <td>0.944350</td>\n",
       "      <td>00:09</td>\n",
       "    </tr>\n",
       "    <tr>\n",
       "      <td>18</td>\n",
       "      <td>0.028882</td>\n",
       "      <td>0.127577</td>\n",
       "      <td>0.951137</td>\n",
       "      <td>00:09</td>\n",
       "    </tr>\n",
       "    <tr>\n",
       "      <td>19</td>\n",
       "      <td>0.030058</td>\n",
       "      <td>0.133331</td>\n",
       "      <td>0.948083</td>\n",
       "      <td>00:09</td>\n",
       "    </tr>\n",
       "  </tbody>\n",
       "</table>"
      ],
      "text/plain": [
       "<IPython.core.display.HTML object>"
      ]
     },
     "metadata": {},
     "output_type": "display_data"
    },
    {
     "data": {
      "image/png": "[encoded data removed]",
      "text/plain": [
       "<Figure size 600x400 with 1 Axes>"
      ]
     },
     "metadata": {},
     "output_type": "display_data"
    },
    {
     "data": {
      "image/png": "[encoded data removed]",
      "text/plain": [
       "<Figure size 2000x400 with 3 Axes>"
      ]
     },
     "metadata": {},
     "output_type": "display_data"
    }
   ],
   "source": [
    "clf.fit_one_cycle(10, 1e-4)"
   ]
  },
  {
   "cell_type": "code",
   "execution_count": 137,
   "id": "754eaf05",
   "metadata": {},
   "outputs": [
    {
     "data": {
      "text/plain": [
       "(10299, 1, 561)"
      ]
     },
     "execution_count": 137,
     "metadata": {},
     "output_type": "execute_result"
    }
   ],
   "source": [
    "X_all = X_all.reshape(X_all.shape[0], 1, X_all.shape[1])\n",
    "X_all.shape\n"
   ]
  },
  {
   "cell_type": "code",
   "execution_count": 138,
   "id": "16a8c10d",
   "metadata": {},
   "outputs": [
    {
     "data": {
      "text/html": [
       "\n",
       "<style>\n",
       "    /* Turns off some styling */\n",
       "    progress {\n",
       "        /* gets rid of default border in Firefox and Opera. */\n",
       "        border: none;\n",
       "        /* Needs to be in here for Safari polyfill so background images work as expected. */\n",
       "        background-size: auto;\n",
       "    }\n",
       "    progress:not([value]), progress:not([value])::-webkit-progress-bar {\n",
       "        background: repeating-linear-gradient(45deg, #7e7e7e, #7e7e7e 10px, #5c5c5c 10px, #5c5c5c 20px);\n",
       "    }\n",
       "    .progress-bar-interrupted, .progress-bar-interrupted::-webkit-progress-bar {\n",
       "        background: #F44336;\n",
       "    }\n",
       "</style>\n"
      ],
      "text/plain": [
       "<IPython.core.display.HTML object>"
      ]
     },
     "metadata": {},
     "output_type": "display_data"
    },
    {
     "data": {
      "text/html": [],
      "text/plain": [
       "<IPython.core.display.HTML object>"
      ]
     },
     "metadata": {},
     "output_type": "display_data"
    }
   ],
   "source": [
    "probas, target = clf.get_X_preds(X_all[splits[1]], y_all[splits[1]], with_decoded=False)\n",
    "preds = probas.argmax(dim=-1)"
   ]
  },
  {
   "cell_type": "code",
   "execution_count": 139,
   "id": "d8ff4622",
   "metadata": {},
   "outputs": [
    {
     "name": "stdout",
     "output_type": "stream",
     "text": [
      "              precision    recall  f1-score   support\n",
      "\n",
      "           0     0.9967    0.9426    0.9689      2527\n",
      "           1     0.7397    0.9810    0.8434       420\n",
      "\n",
      "    accuracy                         0.9481      2947\n",
      "   macro avg     0.8682    0.9618    0.9061      2947\n",
      "weighted avg     0.9600    0.9481    0.9510      2947\n",
      "\n"
     ]
    }
   ],
   "source": [
    "print(classification_report(target, preds, digits=4))"
   ]
  },
  {
   "cell_type": "code",
   "execution_count": 140,
   "id": "3ef916fc",
   "metadata": {},
   "outputs": [
    {
     "name": "stdout",
     "output_type": "stream",
     "text": [
      "[[2382  145]\n",
      " [   8  412]]\n"
     ]
    }
   ],
   "source": [
    "print(confusion_matrix(target, preds))"
   ]
  },
  {
   "cell_type": "markdown",
   "id": "d48488e2",
   "metadata": {},
   "source": [
    "### uPU loss"
   ]
  },
  {
   "cell_type": "code",
   "execution_count": 141,
   "id": "68e85b6c",
   "metadata": {},
   "outputs": [],
   "source": [
    "criterion = PULossWrapped(prior=positive_prior, nnPU=False)\n",
    "\n",
    "X_all = np.concatenate([X_train_np, X_test_np]).astype(np.float32)\n",
    "y_all = np.concatenate([y_train_pu, y_test_pu])\n",
    "\n",
    "splits = (list(range(len(y_train_np))),\n",
    "          list(range(len(y_train_np), len(y_all))))\n",
    "\n",
    "tfms = [None, TSClassification()]\n",
    "batch_tfms = TSStandardize(by_sample=True)\n",
    "\n",
    "clf1 = TSClassifier(X_all, y_all, splits=splits, arch=\"InceptionTimePlus\",\n",
    "                   tfms=tfms, batch_tfms=batch_tfms, loss_func=criterion,\n",
    "                   metrics=accuracy, cbs=ShowGraph())"
   ]
  },
  {
   "cell_type": "code",
   "execution_count": 142,
   "id": "a98b897e",
   "metadata": {},
   "outputs": [
    {
     "data": {
      "text/html": [
       "\n",
       "<style>\n",
       "    /* Turns off some styling */\n",
       "    progress {\n",
       "        /* gets rid of default border in Firefox and Opera. */\n",
       "        border: none;\n",
       "        /* Needs to be in here for Safari polyfill so background images work as expected. */\n",
       "        background-size: auto;\n",
       "    }\n",
       "    progress:not([value]), progress:not([value])::-webkit-progress-bar {\n",
       "        background: repeating-linear-gradient(45deg, #7e7e7e, #7e7e7e 10px, #5c5c5c 10px, #5c5c5c 20px);\n",
       "    }\n",
       "    .progress-bar-interrupted, .progress-bar-interrupted::-webkit-progress-bar {\n",
       "        background: #F44336;\n",
       "    }\n",
       "</style>\n"
      ],
      "text/plain": [
       "<IPython.core.display.HTML object>"
      ]
     },
     "metadata": {},
     "output_type": "display_data"
    },
    {
     "data": {
      "text/html": [
       "<table border=\"1\" class=\"dataframe\">\n",
       "  <thead>\n",
       "    <tr style=\"text-align: left;\">\n",
       "      <th>epoch</th>\n",
       "      <th>train_loss</th>\n",
       "      <th>valid_loss</th>\n",
       "      <th>accuracy</th>\n",
       "      <th>time</th>\n",
       "    </tr>\n",
       "  </thead>\n",
       "  <tbody>\n",
       "    <tr>\n",
       "      <td>0</td>\n",
       "      <td>0.353289</td>\n",
       "      <td>0.165575</td>\n",
       "      <td>0.858161</td>\n",
       "      <td>00:09</td>\n",
       "    </tr>\n",
       "    <tr>\n",
       "      <td>1</td>\n",
       "      <td>-0.492700</td>\n",
       "      <td>-0.649374</td>\n",
       "      <td>0.930777</td>\n",
       "      <td>00:09</td>\n",
       "    </tr>\n",
       "    <tr>\n",
       "      <td>2</td>\n",
       "      <td>-1.249743</td>\n",
       "      <td>-0.936388</td>\n",
       "      <td>0.951137</td>\n",
       "      <td>00:09</td>\n",
       "    </tr>\n",
       "    <tr>\n",
       "      <td>3</td>\n",
       "      <td>-1.910943</td>\n",
       "      <td>-1.751479</td>\n",
       "      <td>0.928062</td>\n",
       "      <td>00:09</td>\n",
       "    </tr>\n",
       "    <tr>\n",
       "      <td>4</td>\n",
       "      <td>-2.485722</td>\n",
       "      <td>-1.797891</td>\n",
       "      <td>0.963692</td>\n",
       "      <td>00:09</td>\n",
       "    </tr>\n",
       "    <tr>\n",
       "      <td>5</td>\n",
       "      <td>-2.882133</td>\n",
       "      <td>-1.737275</td>\n",
       "      <td>0.979640</td>\n",
       "      <td>00:09</td>\n",
       "    </tr>\n",
       "    <tr>\n",
       "      <td>6</td>\n",
       "      <td>-3.269513</td>\n",
       "      <td>-2.061474</td>\n",
       "      <td>0.975908</td>\n",
       "      <td>00:09</td>\n",
       "    </tr>\n",
       "    <tr>\n",
       "      <td>7</td>\n",
       "      <td>-3.448505</td>\n",
       "      <td>-2.489884</td>\n",
       "      <td>0.898202</td>\n",
       "      <td>00:09</td>\n",
       "    </tr>\n",
       "    <tr>\n",
       "      <td>8</td>\n",
       "      <td>-3.642734</td>\n",
       "      <td>-2.554059</td>\n",
       "      <td>0.967425</td>\n",
       "      <td>00:09</td>\n",
       "    </tr>\n",
       "    <tr>\n",
       "      <td>9</td>\n",
       "      <td>-3.625691</td>\n",
       "      <td>-2.324062</td>\n",
       "      <td>0.973872</td>\n",
       "      <td>00:09</td>\n",
       "    </tr>\n",
       "  </tbody>\n",
       "</table>"
      ],
      "text/plain": [
       "<IPython.core.display.HTML object>"
      ]
     },
     "metadata": {},
     "output_type": "display_data"
    },
    {
     "data": {
      "image/png": "[encoded data removed]",
      "text/plain": [
       "<Figure size 600x400 with 1 Axes>"
      ]
     },
     "metadata": {},
     "output_type": "display_data"
    },
    {
     "data": {
      "image/png": "[encoded data removed]",
      "text/plain": [
       "<Figure size 2000x400 with 3 Axes>"
      ]
     },
     "metadata": {},
     "output_type": "display_data"
    }
   ],
   "source": [
    "clf1.fit_one_cycle(10, 1e-4)"
   ]
  },
  {
   "cell_type": "code",
   "execution_count": 143,
   "id": "26595e4f",
   "metadata": {},
   "outputs": [
    {
     "data": {
      "text/plain": [
       "(10299, 1, 561)"
      ]
     },
     "execution_count": 143,
     "metadata": {},
     "output_type": "execute_result"
    }
   ],
   "source": [
    "X_all = X_all.reshape(X_all.shape[0], 1, X_all.shape[1])\n",
    "X_all.shape"
   ]
  },
  {
   "cell_type": "code",
   "execution_count": 144,
   "id": "10501ddf",
   "metadata": {},
   "outputs": [
    {
     "data": {
      "text/html": [
       "\n",
       "<style>\n",
       "    /* Turns off some styling */\n",
       "    progress {\n",
       "        /* gets rid of default border in Firefox and Opera. */\n",
       "        border: none;\n",
       "        /* Needs to be in here for Safari polyfill so background images work as expected. */\n",
       "        background-size: auto;\n",
       "    }\n",
       "    progress:not([value]), progress:not([value])::-webkit-progress-bar {\n",
       "        background: repeating-linear-gradient(45deg, #7e7e7e, #7e7e7e 10px, #5c5c5c 10px, #5c5c5c 20px);\n",
       "    }\n",
       "    .progress-bar-interrupted, .progress-bar-interrupted::-webkit-progress-bar {\n",
       "        background: #F44336;\n",
       "    }\n",
       "</style>\n"
      ],
      "text/plain": [
       "<IPython.core.display.HTML object>"
      ]
     },
     "metadata": {},
     "output_type": "display_data"
    },
    {
     "data": {
      "text/html": [],
      "text/plain": [
       "<IPython.core.display.HTML object>"
      ]
     },
     "metadata": {},
     "output_type": "display_data"
    },
    {
     "name": "stdout",
     "output_type": "stream",
     "text": [
      "              precision    recall  f1-score   support\n",
      "\n",
      "           0     0.9936    0.9759    0.9846      2527\n",
      "           1     0.8688    0.9619    0.9130       420\n",
      "\n",
      "    accuracy                         0.9739      2947\n",
      "   macro avg     0.9312    0.9689    0.9488      2947\n",
      "weighted avg     0.9758    0.9739    0.9744      2947\n",
      "\n",
      "[[2466   61]\n",
      " [  16  404]]\n"
     ]
    }
   ],
   "source": [
    "probas, target = clf1.get_X_preds(X_all[splits[1]], y_all[splits[1]], with_decoded=False)\n",
    "preds = probas.argmax(dim=-1)\n",
    "\n",
    "print(classification_report(target, preds, digits=4))\n",
    "\n",
    "print(confusion_matrix(target, preds))"
   ]
  },
  {
   "cell_type": "code",
   "execution_count": 145,
   "id": "d98a2082",
   "metadata": {},
   "outputs": [
    {
     "data": {
      "text/plain": [
       "Path('models/clf_uPU.pth')"
      ]
     },
     "execution_count": 145,
     "metadata": {},
     "output_type": "execute_result"
    }
   ],
   "source": [
    "clf1.save(\"clf_uPU\")"
   ]
  },
  {
   "cell_type": "code",
   "execution_count": null,
   "id": "74c8337f",
   "metadata": {},
   "outputs": [],
   "source": []
  }
 ],
 "metadata": {
  "kernelspec": {
   "display_name": ".venv",
   "language": "python",
   "name": "python3"
  },
  "language_info": {
   "codemirror_mode": {
    "name": "ipython",
    "version": 3
   },
   "file_extension": ".py",
   "mimetype": "text/x-python",
   "name": "python",
   "nbconvert_exporter": "python",
   "pygments_lexer": "ipython3",
   "version": "3.10.12"
  }
 },
 "nbformat": 4,
 "nbformat_minor": 5
}
