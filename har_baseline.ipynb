{
 "cells": [
  {
   "cell_type": "code",
   "execution_count": 1,
   "id": "9efbddf1",
   "metadata": {},
   "outputs": [
    {
     "name": "stdout",
     "output_type": "stream",
     "text": [
      "cuda:0\n"
     ]
    }
   ],
   "source": [
    "import torch\n",
    "from torch.utils.data import DataLoader, TensorDataset\n",
    "import pandas as pd\n",
    "import os\n",
    "from sklearn.ensemble import RandomForestClassifier\n",
    "from sklearn.metrics import classification_report, confusion_matrix\n",
    "import seaborn as sns\n",
    "import matplotlib.pyplot as plt\n",
    "\n",
    "%matplotlib inline\n",
    "%load_ext autoreload\n",
    "%autoreload 2\n",
    "\n",
    "device = torch.device(\"cuda:0\" if torch.cuda.is_available() else \"cpu\")\n",
    "print(device)"
   ]
  },
  {
   "cell_type": "markdown",
   "id": "a9e8a158",
   "metadata": {},
   "source": [
    "## Load data"
   ]
  },
  {
   "cell_type": "code",
   "execution_count": 2,
   "id": "ebcdfafe",
   "metadata": {},
   "outputs": [],
   "source": [
    "DATA_DIR = os.path.join(\"data\", \"UCI HAR Dataset\")"
   ]
  },
  {
   "cell_type": "code",
   "execution_count": 3,
   "id": "9c60f2c8",
   "metadata": {},
   "outputs": [
    {
     "name": "stderr",
     "output_type": "stream",
     "text": [
      "/tmp/ipykernel_8018/1776149928.py:1: FutureWarning: The 'delim_whitespace' keyword in pd.read_csv is deprecated and will be removed in a future version. Use ``sep='\\s+'`` instead\n",
      "  X_train = pd.read_csv(\n",
      "/tmp/ipykernel_8018/1776149928.py:6: FutureWarning: The 'delim_whitespace' keyword in pd.read_csv is deprecated and will be removed in a future version. Use ``sep='\\s+'`` instead\n",
      "  X_test = pd.read_csv(\n"
     ]
    }
   ],
   "source": [
    "X_train = pd.read_csv(\n",
    "    os.path.join(DATA_DIR, \"train\", \"X_train.txt\"),\n",
    "    delim_whitespace=True,\n",
    "    header=None\n",
    ")\n",
    "X_test = pd.read_csv(\n",
    "    os.path.join(DATA_DIR, \"test\", \"X_test.txt\"),\n",
    "    delim_whitespace=True,\n",
    "    header=None\n",
    ")\n",
    "\n",
    "y_train = pd.read_csv(\n",
    "    os.path.join(DATA_DIR, \"train\", \"y_train.txt\"),\n",
    "    header=None\n",
    ")[0]\n",
    "y_test = pd.read_csv(\n",
    "    os.path.join(DATA_DIR, \"test\", \"y_test.txt\"),\n",
    "    header=None\n",
    ")[0]"
   ]
  },
  {
   "cell_type": "code",
   "execution_count": 6,
   "id": "b1b1e45f",
   "metadata": {},
   "outputs": [],
   "source": [
    "y_train_np = y_train.to_numpy() - 1\n",
    "y_test_np = y_test.to_numpy() - 1"
   ]
  },
  {
   "cell_type": "code",
   "execution_count": 4,
   "id": "cd8c49a1",
   "metadata": {},
   "outputs": [],
   "source": [
    "X_train_np = X_train.to_numpy()\n",
    "X_test_np = X_test.to_numpy()\n"
   ]
  },
  {
   "cell_type": "code",
   "execution_count": 10,
   "id": "decf4939",
   "metadata": {},
   "outputs": [],
   "source": [
    "X_tr_tensor   = torch.tensor(X_train.values, dtype=torch.float32)\n",
    "X_test_tensor = torch.tensor(X_test.values, dtype=torch.float32)\n",
    "y_tr_tensor   = torch.tensor(y_train.values, dtype=torch.long) - 1\n",
    "y_test_tensor = torch.tensor(y_test.values, dtype=torch.long) - 1\n"
   ]
  },
  {
   "cell_type": "code",
   "execution_count": 13,
   "id": "00e6f88f",
   "metadata": {},
   "outputs": [
    {
     "name": "stdout",
     "output_type": "stream",
     "text": [
      "torch.Size([7352, 1, 561]) torch.Size([2947, 1, 561])\n"
     ]
    }
   ],
   "source": [
    "X_tr_tensor = X_tr_tensor.view(X_tr_tensor.shape[0], 1, -1)\n",
    "X_test_tensor = X_test_tensor.view(X_test_tensor.shape[0], 1, -1)\n",
    "print(X_tr_tensor.shape, X_test_tensor.shape)"
   ]
  },
  {
   "cell_type": "code",
   "execution_count": 14,
   "id": "81ecbb83",
   "metadata": {},
   "outputs": [],
   "source": [
    "batch_size = 64\n",
    "\n",
    "tr_dataset   = TensorDataset(X_tr_tensor, y_tr_tensor)\n",
    "test_dataset = TensorDataset(X_test_tensor, y_test_tensor)\n",
    "\n",
    "train_loader   = DataLoader(tr_dataset, batch_size=batch_size, shuffle=True) # train \n",
    "test_loader = DataLoader(test_dataset, batch_size=batch_size, shuffle=False) # test"
   ]
  },
  {
   "cell_type": "markdown",
   "id": "c2364947",
   "metadata": {},
   "source": [
    "# Multiclass Learning"
   ]
  },
  {
   "cell_type": "markdown",
   "id": "59400598",
   "metadata": {},
   "source": [
    "## Try RF as baseline"
   ]
  },
  {
   "cell_type": "code",
   "execution_count": 15,
   "id": "e7379ed9",
   "metadata": {},
   "outputs": [
    {
     "data": {
      "text/html": [
       "<style>#sk-container-id-1 {\n",
       "  /* Definition of color scheme common for light and dark mode */\n",
       "  --sklearn-color-text: #000;\n",
       "  --sklearn-color-text-muted: #666;\n",
       "  --sklearn-color-line: gray;\n",
       "  /* Definition of color scheme for unfitted estimators */\n",
       "  --sklearn-color-unfitted-level-0: #fff5e6;\n",
       "  --sklearn-color-unfitted-level-1: #f6e4d2;\n",
       "  --sklearn-color-unfitted-level-2: #ffe0b3;\n",
       "  --sklearn-color-unfitted-level-3: chocolate;\n",
       "  /* Definition of color scheme for fitted estimators */\n",
       "  --sklearn-color-fitted-level-0: #f0f8ff;\n",
       "  --sklearn-color-fitted-level-1: #d4ebff;\n",
       "  --sklearn-color-fitted-level-2: #b3dbfd;\n",
       "  --sklearn-color-fitted-level-3: cornflowerblue;\n",
       "\n",
       "  /* Specific color for light theme */\n",
       "  --sklearn-color-text-on-default-background: var(--sg-text-color, var(--theme-code-foreground, var(--jp-content-font-color1, black)));\n",
       "  --sklearn-color-background: var(--sg-background-color, var(--theme-background, var(--jp-layout-color0, white)));\n",
       "  --sklearn-color-border-box: var(--sg-text-color, var(--theme-code-foreground, var(--jp-content-font-color1, black)));\n",
       "  --sklearn-color-icon: #696969;\n",
       "\n",
       "  @media (prefers-color-scheme: dark) {\n",
       "    /* Redefinition of color scheme for dark theme */\n",
       "    --sklearn-color-text-on-default-background: var(--sg-text-color, var(--theme-code-foreground, var(--jp-content-font-color1, white)));\n",
       "    --sklearn-color-background: var(--sg-background-color, var(--theme-background, var(--jp-layout-color0, #111)));\n",
       "    --sklearn-color-border-box: var(--sg-text-color, var(--theme-code-foreground, var(--jp-content-font-color1, white)));\n",
       "    --sklearn-color-icon: #878787;\n",
       "  }\n",
       "}\n",
       "\n",
       "#sk-container-id-1 {\n",
       "  color: var(--sklearn-color-text);\n",
       "}\n",
       "\n",
       "#sk-container-id-1 pre {\n",
       "  padding: 0;\n",
       "}\n",
       "\n",
       "#sk-container-id-1 input.sk-hidden--visually {\n",
       "  border: 0;\n",
       "  clip: rect(1px 1px 1px 1px);\n",
       "  clip: rect(1px, 1px, 1px, 1px);\n",
       "  height: 1px;\n",
       "  margin: -1px;\n",
       "  overflow: hidden;\n",
       "  padding: 0;\n",
       "  position: absolute;\n",
       "  width: 1px;\n",
       "}\n",
       "\n",
       "#sk-container-id-1 div.sk-dashed-wrapped {\n",
       "  border: 1px dashed var(--sklearn-color-line);\n",
       "  margin: 0 0.4em 0.5em 0.4em;\n",
       "  box-sizing: border-box;\n",
       "  padding-bottom: 0.4em;\n",
       "  background-color: var(--sklearn-color-background);\n",
       "}\n",
       "\n",
       "#sk-container-id-1 div.sk-container {\n",
       "  /* jupyter's `normalize.less` sets `[hidden] { display: none; }`\n",
       "     but bootstrap.min.css set `[hidden] { display: none !important; }`\n",
       "     so we also need the `!important` here to be able to override the\n",
       "     default hidden behavior on the sphinx rendered scikit-learn.org.\n",
       "     See: https://github.com/scikit-learn/scikit-learn/issues/21755 */\n",
       "  display: inline-block !important;\n",
       "  position: relative;\n",
       "}\n",
       "\n",
       "#sk-container-id-1 div.sk-text-repr-fallback {\n",
       "  display: none;\n",
       "}\n",
       "\n",
       "div.sk-parallel-item,\n",
       "div.sk-serial,\n",
       "div.sk-item {\n",
       "  /* draw centered vertical line to link estimators */\n",
       "  background-image: linear-gradient(var(--sklearn-color-text-on-default-background), var(--sklearn-color-text-on-default-background));\n",
       "  background-size: 2px 100%;\n",
       "  background-repeat: no-repeat;\n",
       "  background-position: center center;\n",
       "}\n",
       "\n",
       "/* Parallel-specific style estimator block */\n",
       "\n",
       "#sk-container-id-1 div.sk-parallel-item::after {\n",
       "  content: \"\";\n",
       "  width: 100%;\n",
       "  border-bottom: 2px solid var(--sklearn-color-text-on-default-background);\n",
       "  flex-grow: 1;\n",
       "}\n",
       "\n",
       "#sk-container-id-1 div.sk-parallel {\n",
       "  display: flex;\n",
       "  align-items: stretch;\n",
       "  justify-content: center;\n",
       "  background-color: var(--sklearn-color-background);\n",
       "  position: relative;\n",
       "}\n",
       "\n",
       "#sk-container-id-1 div.sk-parallel-item {\n",
       "  display: flex;\n",
       "  flex-direction: column;\n",
       "}\n",
       "\n",
       "#sk-container-id-1 div.sk-parallel-item:first-child::after {\n",
       "  align-self: flex-end;\n",
       "  width: 50%;\n",
       "}\n",
       "\n",
       "#sk-container-id-1 div.sk-parallel-item:last-child::after {\n",
       "  align-self: flex-start;\n",
       "  width: 50%;\n",
       "}\n",
       "\n",
       "#sk-container-id-1 div.sk-parallel-item:only-child::after {\n",
       "  width: 0;\n",
       "}\n",
       "\n",
       "/* Serial-specific style estimator block */\n",
       "\n",
       "#sk-container-id-1 div.sk-serial {\n",
       "  display: flex;\n",
       "  flex-direction: column;\n",
       "  align-items: center;\n",
       "  background-color: var(--sklearn-color-background);\n",
       "  padding-right: 1em;\n",
       "  padding-left: 1em;\n",
       "}\n",
       "\n",
       "\n",
       "/* Toggleable style: style used for estimator/Pipeline/ColumnTransformer box that is\n",
       "clickable and can be expanded/collapsed.\n",
       "- Pipeline and ColumnTransformer use this feature and define the default style\n",
       "- Estimators will overwrite some part of the style using the `sk-estimator` class\n",
       "*/\n",
       "\n",
       "/* Pipeline and ColumnTransformer style (default) */\n",
       "\n",
       "#sk-container-id-1 div.sk-toggleable {\n",
       "  /* Default theme specific background. It is overwritten whether we have a\n",
       "  specific estimator or a Pipeline/ColumnTransformer */\n",
       "  background-color: var(--sklearn-color-background);\n",
       "}\n",
       "\n",
       "/* Toggleable label */\n",
       "#sk-container-id-1 label.sk-toggleable__label {\n",
       "  cursor: pointer;\n",
       "  display: flex;\n",
       "  width: 100%;\n",
       "  margin-bottom: 0;\n",
       "  padding: 0.5em;\n",
       "  box-sizing: border-box;\n",
       "  text-align: center;\n",
       "  align-items: start;\n",
       "  justify-content: space-between;\n",
       "  gap: 0.5em;\n",
       "}\n",
       "\n",
       "#sk-container-id-1 label.sk-toggleable__label .caption {\n",
       "  font-size: 0.6rem;\n",
       "  font-weight: lighter;\n",
       "  color: var(--sklearn-color-text-muted);\n",
       "}\n",
       "\n",
       "#sk-container-id-1 label.sk-toggleable__label-arrow:before {\n",
       "  /* Arrow on the left of the label */\n",
       "  content: \"▸\";\n",
       "  float: left;\n",
       "  margin-right: 0.25em;\n",
       "  color: var(--sklearn-color-icon);\n",
       "}\n",
       "\n",
       "#sk-container-id-1 label.sk-toggleable__label-arrow:hover:before {\n",
       "  color: var(--sklearn-color-text);\n",
       "}\n",
       "\n",
       "/* Toggleable content - dropdown */\n",
       "\n",
       "#sk-container-id-1 div.sk-toggleable__content {\n",
       "  max-height: 0;\n",
       "  max-width: 0;\n",
       "  overflow: hidden;\n",
       "  text-align: left;\n",
       "  /* unfitted */\n",
       "  background-color: var(--sklearn-color-unfitted-level-0);\n",
       "}\n",
       "\n",
       "#sk-container-id-1 div.sk-toggleable__content.fitted {\n",
       "  /* fitted */\n",
       "  background-color: var(--sklearn-color-fitted-level-0);\n",
       "}\n",
       "\n",
       "#sk-container-id-1 div.sk-toggleable__content pre {\n",
       "  margin: 0.2em;\n",
       "  border-radius: 0.25em;\n",
       "  color: var(--sklearn-color-text);\n",
       "  /* unfitted */\n",
       "  background-color: var(--sklearn-color-unfitted-level-0);\n",
       "}\n",
       "\n",
       "#sk-container-id-1 div.sk-toggleable__content.fitted pre {\n",
       "  /* unfitted */\n",
       "  background-color: var(--sklearn-color-fitted-level-0);\n",
       "}\n",
       "\n",
       "#sk-container-id-1 input.sk-toggleable__control:checked~div.sk-toggleable__content {\n",
       "  /* Expand drop-down */\n",
       "  max-height: 200px;\n",
       "  max-width: 100%;\n",
       "  overflow: auto;\n",
       "}\n",
       "\n",
       "#sk-container-id-1 input.sk-toggleable__control:checked~label.sk-toggleable__label-arrow:before {\n",
       "  content: \"▾\";\n",
       "}\n",
       "\n",
       "/* Pipeline/ColumnTransformer-specific style */\n",
       "\n",
       "#sk-container-id-1 div.sk-label input.sk-toggleable__control:checked~label.sk-toggleable__label {\n",
       "  color: var(--sklearn-color-text);\n",
       "  background-color: var(--sklearn-color-unfitted-level-2);\n",
       "}\n",
       "\n",
       "#sk-container-id-1 div.sk-label.fitted input.sk-toggleable__control:checked~label.sk-toggleable__label {\n",
       "  background-color: var(--sklearn-color-fitted-level-2);\n",
       "}\n",
       "\n",
       "/* Estimator-specific style */\n",
       "\n",
       "/* Colorize estimator box */\n",
       "#sk-container-id-1 div.sk-estimator input.sk-toggleable__control:checked~label.sk-toggleable__label {\n",
       "  /* unfitted */\n",
       "  background-color: var(--sklearn-color-unfitted-level-2);\n",
       "}\n",
       "\n",
       "#sk-container-id-1 div.sk-estimator.fitted input.sk-toggleable__control:checked~label.sk-toggleable__label {\n",
       "  /* fitted */\n",
       "  background-color: var(--sklearn-color-fitted-level-2);\n",
       "}\n",
       "\n",
       "#sk-container-id-1 div.sk-label label.sk-toggleable__label,\n",
       "#sk-container-id-1 div.sk-label label {\n",
       "  /* The background is the default theme color */\n",
       "  color: var(--sklearn-color-text-on-default-background);\n",
       "}\n",
       "\n",
       "/* On hover, darken the color of the background */\n",
       "#sk-container-id-1 div.sk-label:hover label.sk-toggleable__label {\n",
       "  color: var(--sklearn-color-text);\n",
       "  background-color: var(--sklearn-color-unfitted-level-2);\n",
       "}\n",
       "\n",
       "/* Label box, darken color on hover, fitted */\n",
       "#sk-container-id-1 div.sk-label.fitted:hover label.sk-toggleable__label.fitted {\n",
       "  color: var(--sklearn-color-text);\n",
       "  background-color: var(--sklearn-color-fitted-level-2);\n",
       "}\n",
       "\n",
       "/* Estimator label */\n",
       "\n",
       "#sk-container-id-1 div.sk-label label {\n",
       "  font-family: monospace;\n",
       "  font-weight: bold;\n",
       "  display: inline-block;\n",
       "  line-height: 1.2em;\n",
       "}\n",
       "\n",
       "#sk-container-id-1 div.sk-label-container {\n",
       "  text-align: center;\n",
       "}\n",
       "\n",
       "/* Estimator-specific */\n",
       "#sk-container-id-1 div.sk-estimator {\n",
       "  font-family: monospace;\n",
       "  border: 1px dotted var(--sklearn-color-border-box);\n",
       "  border-radius: 0.25em;\n",
       "  box-sizing: border-box;\n",
       "  margin-bottom: 0.5em;\n",
       "  /* unfitted */\n",
       "  background-color: var(--sklearn-color-unfitted-level-0);\n",
       "}\n",
       "\n",
       "#sk-container-id-1 div.sk-estimator.fitted {\n",
       "  /* fitted */\n",
       "  background-color: var(--sklearn-color-fitted-level-0);\n",
       "}\n",
       "\n",
       "/* on hover */\n",
       "#sk-container-id-1 div.sk-estimator:hover {\n",
       "  /* unfitted */\n",
       "  background-color: var(--sklearn-color-unfitted-level-2);\n",
       "}\n",
       "\n",
       "#sk-container-id-1 div.sk-estimator.fitted:hover {\n",
       "  /* fitted */\n",
       "  background-color: var(--sklearn-color-fitted-level-2);\n",
       "}\n",
       "\n",
       "/* Specification for estimator info (e.g. \"i\" and \"?\") */\n",
       "\n",
       "/* Common style for \"i\" and \"?\" */\n",
       "\n",
       ".sk-estimator-doc-link,\n",
       "a:link.sk-estimator-doc-link,\n",
       "a:visited.sk-estimator-doc-link {\n",
       "  float: right;\n",
       "  font-size: smaller;\n",
       "  line-height: 1em;\n",
       "  font-family: monospace;\n",
       "  background-color: var(--sklearn-color-background);\n",
       "  border-radius: 1em;\n",
       "  height: 1em;\n",
       "  width: 1em;\n",
       "  text-decoration: none !important;\n",
       "  margin-left: 0.5em;\n",
       "  text-align: center;\n",
       "  /* unfitted */\n",
       "  border: var(--sklearn-color-unfitted-level-1) 1pt solid;\n",
       "  color: var(--sklearn-color-unfitted-level-1);\n",
       "}\n",
       "\n",
       ".sk-estimator-doc-link.fitted,\n",
       "a:link.sk-estimator-doc-link.fitted,\n",
       "a:visited.sk-estimator-doc-link.fitted {\n",
       "  /* fitted */\n",
       "  border: var(--sklearn-color-fitted-level-1) 1pt solid;\n",
       "  color: var(--sklearn-color-fitted-level-1);\n",
       "}\n",
       "\n",
       "/* On hover */\n",
       "div.sk-estimator:hover .sk-estimator-doc-link:hover,\n",
       ".sk-estimator-doc-link:hover,\n",
       "div.sk-label-container:hover .sk-estimator-doc-link:hover,\n",
       ".sk-estimator-doc-link:hover {\n",
       "  /* unfitted */\n",
       "  background-color: var(--sklearn-color-unfitted-level-3);\n",
       "  color: var(--sklearn-color-background);\n",
       "  text-decoration: none;\n",
       "}\n",
       "\n",
       "div.sk-estimator.fitted:hover .sk-estimator-doc-link.fitted:hover,\n",
       ".sk-estimator-doc-link.fitted:hover,\n",
       "div.sk-label-container:hover .sk-estimator-doc-link.fitted:hover,\n",
       ".sk-estimator-doc-link.fitted:hover {\n",
       "  /* fitted */\n",
       "  background-color: var(--sklearn-color-fitted-level-3);\n",
       "  color: var(--sklearn-color-background);\n",
       "  text-decoration: none;\n",
       "}\n",
       "\n",
       "/* Span, style for the box shown on hovering the info icon */\n",
       ".sk-estimator-doc-link span {\n",
       "  display: none;\n",
       "  z-index: 9999;\n",
       "  position: relative;\n",
       "  font-weight: normal;\n",
       "  right: .2ex;\n",
       "  padding: .5ex;\n",
       "  margin: .5ex;\n",
       "  width: min-content;\n",
       "  min-width: 20ex;\n",
       "  max-width: 50ex;\n",
       "  color: var(--sklearn-color-text);\n",
       "  box-shadow: 2pt 2pt 4pt #999;\n",
       "  /* unfitted */\n",
       "  background: var(--sklearn-color-unfitted-level-0);\n",
       "  border: .5pt solid var(--sklearn-color-unfitted-level-3);\n",
       "}\n",
       "\n",
       ".sk-estimator-doc-link.fitted span {\n",
       "  /* fitted */\n",
       "  background: var(--sklearn-color-fitted-level-0);\n",
       "  border: var(--sklearn-color-fitted-level-3);\n",
       "}\n",
       "\n",
       ".sk-estimator-doc-link:hover span {\n",
       "  display: block;\n",
       "}\n",
       "\n",
       "/* \"?\"-specific style due to the `<a>` HTML tag */\n",
       "\n",
       "#sk-container-id-1 a.estimator_doc_link {\n",
       "  float: right;\n",
       "  font-size: 1rem;\n",
       "  line-height: 1em;\n",
       "  font-family: monospace;\n",
       "  background-color: var(--sklearn-color-background);\n",
       "  border-radius: 1rem;\n",
       "  height: 1rem;\n",
       "  width: 1rem;\n",
       "  text-decoration: none;\n",
       "  /* unfitted */\n",
       "  color: var(--sklearn-color-unfitted-level-1);\n",
       "  border: var(--sklearn-color-unfitted-level-1) 1pt solid;\n",
       "}\n",
       "\n",
       "#sk-container-id-1 a.estimator_doc_link.fitted {\n",
       "  /* fitted */\n",
       "  border: var(--sklearn-color-fitted-level-1) 1pt solid;\n",
       "  color: var(--sklearn-color-fitted-level-1);\n",
       "}\n",
       "\n",
       "/* On hover */\n",
       "#sk-container-id-1 a.estimator_doc_link:hover {\n",
       "  /* unfitted */\n",
       "  background-color: var(--sklearn-color-unfitted-level-3);\n",
       "  color: var(--sklearn-color-background);\n",
       "  text-decoration: none;\n",
       "}\n",
       "\n",
       "#sk-container-id-1 a.estimator_doc_link.fitted:hover {\n",
       "  /* fitted */\n",
       "  background-color: var(--sklearn-color-fitted-level-3);\n",
       "}\n",
       "</style><div id=\"sk-container-id-1\" class=\"sk-top-container\"><div class=\"sk-text-repr-fallback\"><pre>RandomForestClassifier(random_state=42)</pre><b>In a Jupyter environment, please rerun this cell to show the HTML representation or trust the notebook. <br />On GitHub, the HTML representation is unable to render, please try loading this page with nbviewer.org.</b></div><div class=\"sk-container\" hidden><div class=\"sk-item\"><div class=\"sk-estimator fitted sk-toggleable\"><input class=\"sk-toggleable__control sk-hidden--visually\" id=\"sk-estimator-id-1\" type=\"checkbox\" checked><label for=\"sk-estimator-id-1\" class=\"sk-toggleable__label fitted sk-toggleable__label-arrow\"><div><div>RandomForestClassifier</div></div><div><a class=\"sk-estimator-doc-link fitted\" rel=\"noreferrer\" target=\"_blank\" href=\"https://scikit-learn.org/1.6/modules/generated/sklearn.ensemble.RandomForestClassifier.html\">?<span>Documentation for RandomForestClassifier</span></a><span class=\"sk-estimator-doc-link fitted\">i<span>Fitted</span></span></div></label><div class=\"sk-toggleable__content fitted\"><pre>RandomForestClassifier(random_state=42)</pre></div> </div></div></div></div>"
      ],
      "text/plain": [
       "RandomForestClassifier(random_state=42)"
      ]
     },
     "execution_count": 15,
     "metadata": {},
     "output_type": "execute_result"
    }
   ],
   "source": [
    "clf = RandomForestClassifier(n_estimators=100, random_state=42)\n",
    "clf.fit(X_train_np, y_train_np)"
   ]
  },
  {
   "cell_type": "code",
   "execution_count": 16,
   "id": "3b5fd50f",
   "metadata": {},
   "outputs": [],
   "source": [
    "y_pred = clf.predict(X_test_np)"
   ]
  },
  {
   "cell_type": "code",
   "execution_count": 17,
   "id": "9a596b08",
   "metadata": {},
   "outputs": [
    {
     "name": "stdout",
     "output_type": "stream",
     "text": [
      "              precision    recall  f1-score   support\n",
      "\n",
      "           0     0.8887    0.9657    0.9256       496\n",
      "           1     0.8845    0.8938    0.8891       471\n",
      "           2     0.9704    0.8595    0.9116       420\n",
      "           3     0.9112    0.8982    0.9046       491\n",
      "           4     0.9072    0.9192    0.9132       532\n",
      "           5     1.0000    1.0000    1.0000       537\n",
      "\n",
      "    accuracy                         0.9257      2947\n",
      "   macro avg     0.9270    0.9227    0.9240      2947\n",
      "weighted avg     0.9270    0.9257    0.9256      2947\n",
      "\n"
     ]
    }
   ],
   "source": [
    "print(classification_report(y_test_np, y_pred, digits=4))"
   ]
  },
  {
   "cell_type": "markdown",
   "id": "da881c83",
   "metadata": {},
   "source": [
    "## CNN"
   ]
  },
  {
   "cell_type": "code",
   "execution_count": 67,
   "id": "71f126bc",
   "metadata": {},
   "outputs": [],
   "source": [
    "from baseline import Conv_Net, train, LSTMNet"
   ]
  },
  {
   "cell_type": "code",
   "execution_count": 27,
   "id": "41048bdb",
   "metadata": {},
   "outputs": [
    {
     "name": "stdout",
     "output_type": "stream",
     "text": [
      "in_channel: 1, sequence_length: 561, n_output: 6\n"
     ]
    }
   ],
   "source": [
    "in_channel = X_tr_tensor.shape[1]\n",
    "seq_length = X_tr_tensor.shape[2]\n",
    "n_output = len(y_train.unique())\n",
    "print(f'in_channel: {in_channel}, sequence_length: {seq_length}, n_output: {n_output}')\n",
    "n_hidden = 128\n",
    "num_epochs = 15\n",
    "lr = 0.0001"
   ]
  },
  {
   "cell_type": "code",
   "execution_count": 25,
   "id": "3d611a68",
   "metadata": {},
   "outputs": [
    {
     "name": "stdout",
     "output_type": "stream",
     "text": [
      "Conv_Net(\n",
      "  (conv1): Conv1d(1, 32, kernel_size=(3,), stride=(1,), padding=(1,))\n",
      "  (conv2): Conv1d(32, 64, kernel_size=(3,), stride=(1,), padding=(1,))\n",
      "  (relu): ReLU()\n",
      "  (maxpool): MaxPool1d(kernel_size=2, stride=2, padding=0, dilation=1, ceil_mode=False)\n",
      "  (dropout): Dropout(p=0.5, inplace=False)\n",
      "  (flatten): Flatten(start_dim=1, end_dim=-1)\n",
      "  (fc1): Linear(in_features=17920, out_features=128, bias=True)\n",
      "  (fc2): Linear(in_features=128, out_features=6, bias=True)\n",
      "  (features): Sequential(\n",
      "    (0): Conv1d(1, 32, kernel_size=(3,), stride=(1,), padding=(1,))\n",
      "    (1): ReLU()\n",
      "    (2): Conv1d(32, 64, kernel_size=(3,), stride=(1,), padding=(1,))\n",
      "    (3): ReLU()\n",
      "    (4): MaxPool1d(kernel_size=2, stride=2, padding=0, dilation=1, ceil_mode=False)\n",
      "    (5): Dropout(p=0.5, inplace=False)\n",
      "  )\n",
      "  (classifier): Sequential(\n",
      "    (0): Linear(in_features=17920, out_features=128, bias=True)\n",
      "    (1): ReLU()\n",
      "    (2): Linear(in_features=128, out_features=6, bias=True)\n",
      "  )\n",
      ")\n"
     ]
    }
   ],
   "source": [
    "model = Conv_Net(in_channel, seq_length, n_hidden, n_output)\n",
    "print(model)"
   ]
  },
  {
   "cell_type": "code",
   "execution_count": 26,
   "id": "166841e0",
   "metadata": {},
   "outputs": [
    {
     "name": "stdout",
     "output_type": "stream",
     "text": [
      "env: CUDA_LAUNCH_BLOCKING=1\n"
     ]
    }
   ],
   "source": [
    "%env CUDA_LAUNCH_BLOCKING=1\n",
    "model = model.to(device)"
   ]
  },
  {
   "cell_type": "code",
   "execution_count": 28,
   "id": "abb20280",
   "metadata": {},
   "outputs": [
    {
     "name": "stderr",
     "output_type": "stream",
     "text": [
      "  0%|          | 0/115 [00:00<?, ?it/s]"
     ]
    },
    {
     "name": "stderr",
     "output_type": "stream",
     "text": [
      "100%|██████████| 115/115 [00:01<00:00, 89.46it/s] \n"
     ]
    },
    {
     "name": "stdout",
     "output_type": "stream",
     "text": [
      "Epoch [1/15], tr_loss: 0.99697 tr_acc: 0.65846 test_loss: 0.57657, test_acc: 0.85986\n"
     ]
    },
    {
     "name": "stderr",
     "output_type": "stream",
     "text": [
      "100%|██████████| 115/115 [00:01<00:00, 105.62it/s]\n"
     ]
    },
    {
     "name": "stdout",
     "output_type": "stream",
     "text": [
      "Epoch [2/15], tr_loss: 0.39188 tr_acc: 0.87935 test_loss: 0.34782, test_acc: 0.87106\n"
     ]
    },
    {
     "name": "stderr",
     "output_type": "stream",
     "text": [
      "100%|██████████| 115/115 [00:01<00:00, 106.34it/s]\n"
     ]
    },
    {
     "name": "stdout",
     "output_type": "stream",
     "text": [
      "Epoch [3/15], tr_loss: 0.23968 tr_acc: 0.92451 test_loss: 0.22992, test_acc: 0.92806\n"
     ]
    },
    {
     "name": "stderr",
     "output_type": "stream",
     "text": [
      "100%|██████████| 115/115 [00:01<00:00, 105.00it/s]\n"
     ]
    },
    {
     "name": "stdout",
     "output_type": "stream",
     "text": [
      "Epoch [4/15], tr_loss: 0.19042 tr_acc: 0.93240 test_loss: 0.20425, test_acc: 0.93315\n"
     ]
    },
    {
     "name": "stderr",
     "output_type": "stream",
     "text": [
      "100%|██████████| 115/115 [00:01<00:00, 103.07it/s]\n"
     ]
    },
    {
     "name": "stdout",
     "output_type": "stream",
     "text": [
      "Epoch [5/15], tr_loss: 0.15205 tr_acc: 0.94627 test_loss: 0.21060, test_acc: 0.91313\n"
     ]
    },
    {
     "name": "stderr",
     "output_type": "stream",
     "text": [
      "100%|██████████| 115/115 [00:01<00:00, 99.18it/s] \n"
     ]
    },
    {
     "name": "stdout",
     "output_type": "stream",
     "text": [
      "Epoch [6/15], tr_loss: 0.12871 tr_acc: 0.95362 test_loss: 0.15832, test_acc: 0.94537\n"
     ]
    },
    {
     "name": "stderr",
     "output_type": "stream",
     "text": [
      "100%|██████████| 115/115 [00:01<00:00, 100.26it/s]\n"
     ]
    },
    {
     "name": "stdout",
     "output_type": "stream",
     "text": [
      "Epoch [7/15], tr_loss: 0.11094 tr_acc: 0.96015 test_loss: 0.16002, test_acc: 0.93553\n"
     ]
    },
    {
     "name": "stderr",
     "output_type": "stream",
     "text": [
      "100%|██████████| 115/115 [00:01<00:00, 99.44it/s]\n"
     ]
    },
    {
     "name": "stdout",
     "output_type": "stream",
     "text": [
      "Epoch [8/15], tr_loss: 0.09825 tr_acc: 0.96613 test_loss: 0.15889, test_acc: 0.93281\n"
     ]
    },
    {
     "name": "stderr",
     "output_type": "stream",
     "text": [
      "100%|██████████| 115/115 [00:01<00:00, 97.38it/s]\n"
     ]
    },
    {
     "name": "stdout",
     "output_type": "stream",
     "text": [
      "Epoch [9/15], tr_loss: 0.08928 tr_acc: 0.97008 test_loss: 0.13489, test_acc: 0.94842\n"
     ]
    },
    {
     "name": "stderr",
     "output_type": "stream",
     "text": [
      "100%|██████████| 115/115 [00:01<00:00, 95.85it/s]\n"
     ]
    },
    {
     "name": "stdout",
     "output_type": "stream",
     "text": [
      "Epoch [10/15], tr_loss: 0.08486 tr_acc: 0.97225 test_loss: 0.14347, test_acc: 0.93926\n"
     ]
    },
    {
     "name": "stderr",
     "output_type": "stream",
     "text": [
      "100%|██████████| 115/115 [00:01<00:00, 102.96it/s]\n"
     ]
    },
    {
     "name": "stdout",
     "output_type": "stream",
     "text": [
      "Epoch [11/15], tr_loss: 0.07326 tr_acc: 0.97334 test_loss: 0.12550, test_acc: 0.95148\n"
     ]
    },
    {
     "name": "stderr",
     "output_type": "stream",
     "text": [
      "100%|██████████| 115/115 [00:01<00:00, 102.05it/s]\n"
     ]
    },
    {
     "name": "stdout",
     "output_type": "stream",
     "text": [
      "Epoch [12/15], tr_loss: 0.07212 tr_acc: 0.97511 test_loss: 0.12708, test_acc: 0.95046\n"
     ]
    },
    {
     "name": "stderr",
     "output_type": "stream",
     "text": [
      "100%|██████████| 115/115 [00:01<00:00, 105.31it/s]\n"
     ]
    },
    {
     "name": "stdout",
     "output_type": "stream",
     "text": [
      "Epoch [13/15], tr_loss: 0.06864 tr_acc: 0.97701 test_loss: 0.12831, test_acc: 0.95012\n"
     ]
    },
    {
     "name": "stderr",
     "output_type": "stream",
     "text": [
      "100%|██████████| 115/115 [00:01<00:00, 105.41it/s]\n"
     ]
    },
    {
     "name": "stdout",
     "output_type": "stream",
     "text": [
      "Epoch [14/15], tr_loss: 0.06418 tr_acc: 0.97688 test_loss: 0.11774, test_acc: 0.95385\n"
     ]
    },
    {
     "name": "stderr",
     "output_type": "stream",
     "text": [
      "100%|██████████| 115/115 [00:01<00:00, 102.95it/s]\n"
     ]
    },
    {
     "name": "stdout",
     "output_type": "stream",
     "text": [
      "Epoch [15/15], tr_loss: 0.06029 tr_acc: 0.97987 test_loss: 0.12552, test_acc: 0.95385\n"
     ]
    }
   ],
   "source": [
    "model = train(model, train_loader, test_loader, in_channel, seq_length, n_hidden, n_output, lr, num_epochs, device)"
   ]
  },
  {
   "cell_type": "code",
   "execution_count": 30,
   "id": "8611b769",
   "metadata": {},
   "outputs": [],
   "source": [
    "out_test = model(X_test_tensor.to(device))\n",
    "preds_test = torch.max(out_test, 1)[1]"
   ]
  },
  {
   "cell_type": "code",
   "execution_count": 42,
   "id": "2a8b1d19",
   "metadata": {},
   "outputs": [
    {
     "data": {
      "text/plain": [
       "array([4, 4, 4, ..., 1, 1, 1])"
      ]
     },
     "execution_count": 42,
     "metadata": {},
     "output_type": "execute_result"
    }
   ],
   "source": [
    "preds_test.cpu().detach().numpy()"
   ]
  },
  {
   "cell_type": "code",
   "execution_count": 45,
   "id": "f516cc8e",
   "metadata": {},
   "outputs": [
    {
     "name": "stdout",
     "output_type": "stream",
     "text": [
      "              precision    recall  f1-score   support\n",
      "\n",
      "           0     0.9370    0.9899    0.9627       496\n",
      "           1     0.9384    0.9384    0.9384       471\n",
      "           2     0.9898    0.9286    0.9582       420\n",
      "           3     0.9429    0.9084    0.9253       491\n",
      "           4     0.9283    0.9492    0.9387       532\n",
      "           5     0.9926    1.0000    0.9963       537\n",
      "\n",
      "    accuracy                         0.9539      2947\n",
      "   macro avg     0.9549    0.9524    0.9533      2947\n",
      "weighted avg     0.9543    0.9539    0.9537      2947\n",
      "\n"
     ]
    }
   ],
   "source": [
    "print(classification_report(y_test_np, preds_test.cpu().detach().numpy(), digits=4))"
   ]
  },
  {
   "cell_type": "markdown",
   "id": "4561fcee",
   "metadata": {},
   "source": [
    "## LSTM with dropout + batchnorm "
   ]
  },
  {
   "cell_type": "code",
   "execution_count": 89,
   "id": "8b1c22ce",
   "metadata": {},
   "outputs": [
    {
     "data": {
      "text/plain": [
       "LSTMNet(\n",
       "  (lstm): LSTM(1, 64, batch_first=True)\n",
       "  (bn): BatchNorm1d(64, eps=1e-05, momentum=0.1, affine=True, track_running_stats=True)\n",
       "  (dropout): Dropout(p=0.5, inplace=False)\n",
       "  (fc): Linear(in_features=64, out_features=6, bias=True)\n",
       ")"
      ]
     },
     "execution_count": 89,
     "metadata": {},
     "output_type": "execute_result"
    }
   ],
   "source": [
    "from baseline import Conv_Net, train, LSTMNet\n",
    "model_lstm = LSTMNet(in_channel, hidden_dim=64, n_output=6, num_layers=1)\n",
    "model_lstm.to(device)"
   ]
  },
  {
   "cell_type": "code",
   "execution_count": 90,
   "id": "01c8aa0f",
   "metadata": {},
   "outputs": [
    {
     "name": "stderr",
     "output_type": "stream",
     "text": [
      "  0%|          | 0/115 [00:00<?, ?it/s]"
     ]
    },
    {
     "name": "stderr",
     "output_type": "stream",
     "text": [
      "100%|██████████| 115/115 [00:01<00:00, 73.05it/s]\n"
     ]
    },
    {
     "name": "stdout",
     "output_type": "stream",
     "text": [
      "Epoch [1/20], tr_loss: 1.58529 tr_acc: 0.34168 test_loss: 1.48732, test_acc: 0.41771\n"
     ]
    },
    {
     "name": "stderr",
     "output_type": "stream",
     "text": [
      "100%|██████████| 115/115 [00:01<00:00, 100.83it/s]\n"
     ]
    },
    {
     "name": "stdout",
     "output_type": "stream",
     "text": [
      "Epoch [2/20], tr_loss: 1.40076 tr_acc: 0.43050 test_loss: 1.39601, test_acc: 0.46115\n"
     ]
    },
    {
     "name": "stderr",
     "output_type": "stream",
     "text": [
      "100%|██████████| 115/115 [00:01<00:00, 106.76it/s]\n"
     ]
    },
    {
     "name": "stdout",
     "output_type": "stream",
     "text": [
      "Epoch [3/20], tr_loss: 1.32448 tr_acc: 0.47429 test_loss: 1.29549, test_acc: 0.52664\n"
     ]
    },
    {
     "name": "stderr",
     "output_type": "stream",
     "text": [
      "100%|██████████| 115/115 [00:01<00:00, 106.93it/s]\n"
     ]
    },
    {
     "name": "stdout",
     "output_type": "stream",
     "text": [
      "Epoch [4/20], tr_loss: 1.07145 tr_acc: 0.60623 test_loss: 0.96570, test_acc: 0.63047\n"
     ]
    },
    {
     "name": "stderr",
     "output_type": "stream",
     "text": [
      "100%|██████████| 115/115 [00:01<00:00, 102.88it/s]\n"
     ]
    },
    {
     "name": "stdout",
     "output_type": "stream",
     "text": [
      "Epoch [5/20], tr_loss: 0.87593 tr_acc: 0.65805 test_loss: 0.87754, test_acc: 0.65864\n"
     ]
    },
    {
     "name": "stderr",
     "output_type": "stream",
     "text": [
      "100%|██████████| 115/115 [00:01<00:00, 105.64it/s]\n"
     ]
    },
    {
     "name": "stdout",
     "output_type": "stream",
     "text": [
      "Epoch [6/20], tr_loss: 0.81576 tr_acc: 0.67750 test_loss: 0.88833, test_acc: 0.64031\n"
     ]
    },
    {
     "name": "stderr",
     "output_type": "stream",
     "text": [
      "100%|██████████| 115/115 [00:01<00:00, 100.41it/s]\n"
     ]
    },
    {
     "name": "stdout",
     "output_type": "stream",
     "text": [
      "Epoch [7/20], tr_loss: 0.77487 tr_acc: 0.70035 test_loss: 0.91527, test_acc: 0.60468\n"
     ]
    },
    {
     "name": "stderr",
     "output_type": "stream",
     "text": [
      "100%|██████████| 115/115 [00:01<00:00, 98.51it/s] \n"
     ]
    },
    {
     "name": "stdout",
     "output_type": "stream",
     "text": [
      "Epoch [8/20], tr_loss: 0.73771 tr_acc: 0.71844 test_loss: 0.76613, test_acc: 0.66271\n"
     ]
    },
    {
     "name": "stderr",
     "output_type": "stream",
     "text": [
      "100%|██████████| 115/115 [00:01<00:00, 100.70it/s]\n"
     ]
    },
    {
     "name": "stdout",
     "output_type": "stream",
     "text": [
      "Epoch [9/20], tr_loss: 0.68386 tr_acc: 0.74905 test_loss: 0.71852, test_acc: 0.69969\n"
     ]
    },
    {
     "name": "stderr",
     "output_type": "stream",
     "text": [
      "100%|██████████| 115/115 [00:01<00:00, 102.65it/s]\n"
     ]
    },
    {
     "name": "stdout",
     "output_type": "stream",
     "text": [
      "Epoch [10/20], tr_loss: 0.65311 tr_acc: 0.75653 test_loss: 0.74048, test_acc: 0.70207\n"
     ]
    },
    {
     "name": "stderr",
     "output_type": "stream",
     "text": [
      "100%|██████████| 115/115 [00:01<00:00, 95.38it/s]\n"
     ]
    },
    {
     "name": "stdout",
     "output_type": "stream",
     "text": [
      "Epoch [11/20], tr_loss: 0.60620 tr_acc: 0.77816 test_loss: 0.69134, test_acc: 0.71395\n"
     ]
    },
    {
     "name": "stderr",
     "output_type": "stream",
     "text": [
      "100%|██████████| 115/115 [00:01<00:00, 98.03it/s]\n"
     ]
    },
    {
     "name": "stdout",
     "output_type": "stream",
     "text": [
      "Epoch [12/20], tr_loss: 0.56436 tr_acc: 0.79869 test_loss: 0.68331, test_acc: 0.72718\n"
     ]
    },
    {
     "name": "stderr",
     "output_type": "stream",
     "text": [
      "100%|██████████| 115/115 [00:01<00:00, 102.78it/s]\n"
     ]
    },
    {
     "name": "stdout",
     "output_type": "stream",
     "text": [
      "Epoch [13/20], tr_loss: 0.54496 tr_acc: 0.80291 test_loss: 0.63584, test_acc: 0.76077\n"
     ]
    },
    {
     "name": "stderr",
     "output_type": "stream",
     "text": [
      "100%|██████████| 115/115 [00:01<00:00, 103.01it/s]\n"
     ]
    },
    {
     "name": "stdout",
     "output_type": "stream",
     "text": [
      "Epoch [14/20], tr_loss: 0.51834 tr_acc: 0.80985 test_loss: 0.65728, test_acc: 0.74347\n"
     ]
    },
    {
     "name": "stderr",
     "output_type": "stream",
     "text": [
      "100%|██████████| 115/115 [00:01<00:00, 104.80it/s]\n"
     ]
    },
    {
     "name": "stdout",
     "output_type": "stream",
     "text": [
      "Epoch [15/20], tr_loss: 0.48812 tr_acc: 0.82073 test_loss: 0.60911, test_acc: 0.75942\n"
     ]
    },
    {
     "name": "stderr",
     "output_type": "stream",
     "text": [
      "100%|██████████| 115/115 [00:01<00:00, 106.52it/s]\n"
     ]
    },
    {
     "name": "stdout",
     "output_type": "stream",
     "text": [
      "Epoch [16/20], tr_loss: 0.47187 tr_acc: 0.82848 test_loss: 0.58269, test_acc: 0.78012\n"
     ]
    },
    {
     "name": "stderr",
     "output_type": "stream",
     "text": [
      "100%|██████████| 115/115 [00:01<00:00, 107.88it/s]\n"
     ]
    },
    {
     "name": "stdout",
     "output_type": "stream",
     "text": [
      "Epoch [17/20], tr_loss: 0.46657 tr_acc: 0.82386 test_loss: 0.59281, test_acc: 0.76247\n"
     ]
    },
    {
     "name": "stderr",
     "output_type": "stream",
     "text": [
      "100%|██████████| 115/115 [00:01<00:00, 107.79it/s]\n"
     ]
    },
    {
     "name": "stdout",
     "output_type": "stream",
     "text": [
      "Epoch [18/20], tr_loss: 0.45087 tr_acc: 0.83107 test_loss: 0.63989, test_acc: 0.76552\n"
     ]
    },
    {
     "name": "stderr",
     "output_type": "stream",
     "text": [
      "100%|██████████| 115/115 [00:01<00:00, 110.04it/s]\n"
     ]
    },
    {
     "name": "stdout",
     "output_type": "stream",
     "text": [
      "Epoch [19/20], tr_loss: 0.44592 tr_acc: 0.83025 test_loss: 0.57175, test_acc: 0.78317\n"
     ]
    },
    {
     "name": "stderr",
     "output_type": "stream",
     "text": [
      "100%|██████████| 115/115 [00:01<00:00, 106.82it/s]\n"
     ]
    },
    {
     "name": "stdout",
     "output_type": "stream",
     "text": [
      "Epoch [20/20], tr_loss: 0.43677 tr_acc: 0.83107 test_loss: 0.56708, test_acc: 0.78419\n"
     ]
    }
   ],
   "source": [
    "model_lstm = train(model_lstm, train_loader, test_loader, lr, 20, device)"
   ]
  },
  {
   "cell_type": "code",
   "execution_count": 91,
   "id": "290a0523",
   "metadata": {},
   "outputs": [
    {
     "name": "stdout",
     "output_type": "stream",
     "text": [
      "              precision    recall  f1-score   support\n",
      "\n",
      "           0     0.6898    0.6815    0.6856       496\n",
      "           1     0.6727    0.8684    0.7581       471\n",
      "           2     0.7651    0.5738    0.6558       420\n",
      "           3     0.7650    0.8289    0.7957       491\n",
      "           4     0.8256    0.7650    0.7941       532\n",
      "           5     1.0000    0.9479    0.9732       537\n",
      "\n",
      "    accuracy                         0.7842      2947\n",
      "   macro avg     0.7864    0.7776    0.7771      2947\n",
      "weighted avg     0.7914    0.7842    0.7833      2947\n",
      "\n"
     ]
    }
   ],
   "source": [
    "X_test_tensor = X_test_tensor.permute(0, 2, 1)  # permute once here\n",
    "test_dataset = TensorDataset(X_test_tensor, torch.from_numpy(y_test_np))\n",
    "test_loader = DataLoader(test_dataset, batch_size=64)  # adjust batch_size to your GPU\n",
    "\n",
    "all_preds = []\n",
    "model_lstm.eval()\n",
    "with torch.no_grad():\n",
    "    for batch_X, _ in test_loader:\n",
    "        batch_X = batch_X.to(device)\n",
    "        outputs = model_lstm(batch_X)\n",
    "        preds = torch.max(outputs, 1)[1]\n",
    "        all_preds.append(preds.cpu())\n",
    "\n",
    "# Concatenate all predictions\n",
    "all_preds = torch.cat(all_preds).numpy()\n",
    "\n",
    "print(classification_report(y_test_np, all_preds, digits=4))\n"
   ]
  },
  {
   "cell_type": "markdown",
   "id": "53608cac",
   "metadata": {},
   "source": [
    "## InceptionTime"
   ]
  },
  {
   "cell_type": "code",
   "execution_count": null,
   "id": "a257af92",
   "metadata": {},
   "outputs": [],
   "source": [
    "from tsai.all import *\n",
    "\n",
    "X_all = np.concatenate([X_train_np, X_test_np]).astype(np.float32)\n",
    "y_all = np.concatenate([y_train_np, y_test_np])\n",
    "\n",
    "splits = (list(range(len(y_train_np))),\n",
    "          list(range(len(y_train_np), len(y_all))))\n",
    "\n",
    "tfms = [None, TSClassification()]\n",
    "batch_tfms = TSStandardize(by_sample=True)\n",
    "\n",
    "clf = TSClassifier(X_all, y_all, splits=splits, arch=\"InceptionTimePlus\",\n",
    "                   tfms=tfms, batch_tfms=batch_tfms,\n",
    "                   metrics=accuracy, cbs=ShowGraph())\n"
   ]
  },
  {
   "cell_type": "code",
   "execution_count": 127,
   "id": "13949f19",
   "metadata": {},
   "outputs": [
    {
     "data": {
      "text/html": [
       "\n",
       "<style>\n",
       "    /* Turns off some styling */\n",
       "    progress {\n",
       "        /* gets rid of default border in Firefox and Opera. */\n",
       "        border: none;\n",
       "        /* Needs to be in here for Safari polyfill so background images work as expected. */\n",
       "        background-size: auto;\n",
       "    }\n",
       "    progress:not([value]), progress:not([value])::-webkit-progress-bar {\n",
       "        background: repeating-linear-gradient(45deg, #7e7e7e, #7e7e7e 10px, #5c5c5c 10px, #5c5c5c 20px);\n",
       "    }\n",
       "    .progress-bar-interrupted, .progress-bar-interrupted::-webkit-progress-bar {\n",
       "        background: #F44336;\n",
       "    }\n",
       "</style>\n"
      ],
      "text/plain": [
       "<IPython.core.display.HTML object>"
      ]
     },
     "metadata": {},
     "output_type": "display_data"
    },
    {
     "data": {
      "text/html": [
       "<table border=\"1\" class=\"dataframe\">\n",
       "  <thead>\n",
       "    <tr style=\"text-align: left;\">\n",
       "      <th>epoch</th>\n",
       "      <th>train_loss</th>\n",
       "      <th>valid_loss</th>\n",
       "      <th>accuracy</th>\n",
       "      <th>time</th>\n",
       "    </tr>\n",
       "  </thead>\n",
       "  <tbody>\n",
       "    <tr>\n",
       "      <td>0</td>\n",
       "      <td>0.902639</td>\n",
       "      <td>1.313098</td>\n",
       "      <td>0.390567</td>\n",
       "      <td>00:16</td>\n",
       "    </tr>\n",
       "    <tr>\n",
       "      <td>1</td>\n",
       "      <td>0.370857</td>\n",
       "      <td>3.085572</td>\n",
       "      <td>0.325755</td>\n",
       "      <td>00:16</td>\n",
       "    </tr>\n",
       "    <tr>\n",
       "      <td>2</td>\n",
       "      <td>0.200351</td>\n",
       "      <td>3.122836</td>\n",
       "      <td>0.411266</td>\n",
       "      <td>00:15</td>\n",
       "    </tr>\n",
       "    <tr>\n",
       "      <td>3</td>\n",
       "      <td>0.131067</td>\n",
       "      <td>2.709426</td>\n",
       "      <td>0.350865</td>\n",
       "      <td>00:16</td>\n",
       "    </tr>\n",
       "    <tr>\n",
       "      <td>4</td>\n",
       "      <td>0.083907</td>\n",
       "      <td>2.386305</td>\n",
       "      <td>0.744147</td>\n",
       "      <td>00:16</td>\n",
       "    </tr>\n",
       "    <tr>\n",
       "      <td>5</td>\n",
       "      <td>0.077825</td>\n",
       "      <td>5.750452</td>\n",
       "      <td>0.340685</td>\n",
       "      <td>00:16</td>\n",
       "    </tr>\n",
       "    <tr>\n",
       "      <td>6</td>\n",
       "      <td>0.048378</td>\n",
       "      <td>0.404766</td>\n",
       "      <td>0.855446</td>\n",
       "      <td>00:16</td>\n",
       "    </tr>\n",
       "    <tr>\n",
       "      <td>7</td>\n",
       "      <td>0.034838</td>\n",
       "      <td>0.176746</td>\n",
       "      <td>0.935528</td>\n",
       "      <td>00:18</td>\n",
       "    </tr>\n",
       "    <tr>\n",
       "      <td>8</td>\n",
       "      <td>0.019440</td>\n",
       "      <td>0.113067</td>\n",
       "      <td>0.957923</td>\n",
       "      <td>00:17</td>\n",
       "    </tr>\n",
       "    <tr>\n",
       "      <td>9</td>\n",
       "      <td>0.014881</td>\n",
       "      <td>0.104750</td>\n",
       "      <td>0.959620</td>\n",
       "      <td>00:17</td>\n",
       "    </tr>\n",
       "  </tbody>\n",
       "</table>"
      ],
      "text/plain": [
       "<IPython.core.display.HTML object>"
      ]
     },
     "metadata": {},
     "output_type": "display_data"
    },
    {
     "data": {
      "image/png": "[encoded data removed]",
      "text/plain": [
       "<Figure size 600x400 with 1 Axes>"
      ]
     },
     "metadata": {},
     "output_type": "display_data"
    },
    {
     "data": {
      "image/png": "[encoded data removed]",
      "text/plain": [
       "<Figure size 2000x400 with 3 Axes>"
      ]
     },
     "metadata": {},
     "output_type": "display_data"
    }
   ],
   "source": [
    "clf.fit_one_cycle(10, 1e-3)"
   ]
  },
  {
   "cell_type": "code",
   "execution_count": 128,
   "id": "9b7e4332",
   "metadata": {},
   "outputs": [
    {
     "data": {
      "text/html": [
       "\n",
       "<style>\n",
       "    /* Turns off some styling */\n",
       "    progress {\n",
       "        /* gets rid of default border in Firefox and Opera. */\n",
       "        border: none;\n",
       "        /* Needs to be in here for Safari polyfill so background images work as expected. */\n",
       "        background-size: auto;\n",
       "    }\n",
       "    progress:not([value]), progress:not([value])::-webkit-progress-bar {\n",
       "        background: repeating-linear-gradient(45deg, #7e7e7e, #7e7e7e 10px, #5c5c5c 10px, #5c5c5c 20px);\n",
       "    }\n",
       "    .progress-bar-interrupted, .progress-bar-interrupted::-webkit-progress-bar {\n",
       "        background: #F44336;\n",
       "    }\n",
       "</style>\n"
      ],
      "text/plain": [
       "<IPython.core.display.HTML object>"
      ]
     },
     "metadata": {},
     "output_type": "display_data"
    },
    {
     "data": {
      "text/html": [],
      "text/plain": [
       "<IPython.core.display.HTML object>"
      ]
     },
     "metadata": {},
     "output_type": "display_data"
    }
   ],
   "source": [
    "X_all = X_all.reshape(X_all.shape[0], 1, X_all.shape[1])\n",
    "probas, target, preds = clf.get_X_preds(X_all[splits[1]], y_all[splits[1]])"
   ]
  },
  {
   "cell_type": "code",
   "execution_count": 129,
   "id": "ab575b9d",
   "metadata": {},
   "outputs": [
    {
     "name": "stdout",
     "output_type": "stream",
     "text": [
      "              precision    recall  f1-score   support\n",
      "\n",
      "           0     0.9421    0.9839    0.9625       496\n",
      "           1     0.9651    0.9384    0.9516       471\n",
      "           2     0.9830    0.9643    0.9736       420\n",
      "           3     0.9417    0.9206    0.9310       491\n",
      "           4     0.9300    0.9492    0.9395       532\n",
      "           5     1.0000    0.9981    0.9991       537\n",
      "\n",
      "    accuracy                         0.9596      2947\n",
      "   macro avg     0.9603    0.9591    0.9595      2947\n",
      "weighted avg     0.9599    0.9596    0.9596      2947\n",
      "\n"
     ]
    }
   ],
   "source": [
    "print(classification_report(target, preds.astype(int), digits=4))"
   ]
  },
  {
   "cell_type": "code",
   "execution_count": 130,
   "id": "3ac3e1f0",
   "metadata": {},
   "outputs": [
    {
     "name": "stdout",
     "output_type": "stream",
     "text": [
      "[[488   3   5   0   0   0]\n",
      " [ 26 442   2   0   1   0]\n",
      " [  4  11 405   0   0   0]\n",
      " [  0   2   0 452  37   0]\n",
      " [  0   0   0  27 505   0]\n",
      " [  0   0   0   1   0 536]]\n"
     ]
    }
   ],
   "source": [
    "print(confusion_matrix(target, preds.astype(int)))"
   ]
  },
  {
   "cell_type": "markdown",
   "id": "f368c391",
   "metadata": {},
   "source": [
    "## PU-learning"
   ]
  },
  {
   "cell_type": "code",
   "execution_count": 167,
   "id": "08c9a52e",
   "metadata": {},
   "outputs": [],
   "source": [
    "positive_class = 2\n",
    "y_train_pu = (y_train_np == positive_class).astype(int)\n",
    "y_test_pu  = (y_test_np  == positive_class).astype(int)\n"
   ]
  },
  {
   "cell_type": "code",
   "execution_count": 168,
   "id": "211b3041",
   "metadata": {},
   "outputs": [
    {
     "name": "stdout",
     "output_type": "stream",
     "text": [
      "torch.Size([7352, 1, 561]) torch.Size([2947, 1, 561])\n"
     ]
    }
   ],
   "source": [
    "np.bincount(y_test_pu)\n",
    "#X_tr_tensor = X_tr_tensor.view(X_tr_tensor.shape[0], 1, -1)\n",
    "#X_test_tensor = X_test_tensor.view(X_test_tensor.shape[0], 1, -1)\n",
    "print(X_tr_tensor.shape, X_test_tensor.shape)"
   ]
  },
  {
   "cell_type": "code",
   "execution_count": 169,
   "id": "4b8e3fff",
   "metadata": {},
   "outputs": [],
   "source": [
    "y_tr_tensor_pu   = torch.tensor(y_train_pu, dtype=torch.long)\n",
    "y_test_tensor_pu = torch.tensor(y_test_pu, dtype=torch.long)\n",
    "\n",
    "tr_dataset_pu   = TensorDataset(X_tr_tensor, y_tr_tensor_pu)\n",
    "test_dataset_pu = TensorDataset(X_test_tensor, y_test_tensor_pu)\n",
    "\n",
    "train_loader_pu = DataLoader(tr_dataset_pu, batch_size=batch_size, shuffle=True)\n",
    "test_loader_pu  = DataLoader(test_dataset_pu, batch_size=batch_size, shuffle=False)\n"
   ]
  },
  {
   "cell_type": "markdown",
   "id": "fc157e2a",
   "metadata": {},
   "source": [
    "## CNN"
   ]
  },
  {
   "cell_type": "code",
   "execution_count": 179,
   "id": "aa6a0b17",
   "metadata": {},
   "outputs": [
    {
     "name": "stdout",
     "output_type": "stream",
     "text": [
      "in_channel: 1, sequence_length: 561, n_output: 2\n"
     ]
    }
   ],
   "source": [
    "in_channel = X_tr_tensor.shape[1]\n",
    "seq_length = X_tr_tensor.shape[2]\n",
    "n_output = len(y_tr_tensor_pu.unique())\n",
    "print(f'in_channel: {in_channel}, sequence_length: {seq_length}, n_output: {n_output}')\n",
    "n_hidden = 128\n",
    "num_epochs = 15\n",
    "lr = 0.0001"
   ]
  },
  {
   "cell_type": "code",
   "execution_count": 185,
   "id": "b7372acd",
   "metadata": {},
   "outputs": [],
   "source": [
    "from pu_loss import nnPULoss\n",
    "positive_prior = y_train_pu.mean()\n",
    "criterion = nnPULoss(prior=positive_prior, nnPU=False)\n"
   ]
  },
  {
   "cell_type": "code",
   "execution_count": 186,
   "id": "0f02ae96",
   "metadata": {},
   "outputs": [
    {
     "name": "stdout",
     "output_type": "stream",
     "text": [
      "Conv_Net(\n",
      "  (conv1): Conv1d(1, 32, kernel_size=(3,), stride=(1,), padding=(1,))\n",
      "  (conv2): Conv1d(32, 64, kernel_size=(3,), stride=(1,), padding=(1,))\n",
      "  (relu): ReLU()\n",
      "  (maxpool): MaxPool1d(kernel_size=2, stride=2, padding=0, dilation=1, ceil_mode=False)\n",
      "  (dropout): Dropout(p=0.5, inplace=False)\n",
      "  (flatten): Flatten(start_dim=1, end_dim=-1)\n",
      "  (fc1): Linear(in_features=17920, out_features=128, bias=True)\n",
      "  (fc2): Linear(in_features=128, out_features=2, bias=True)\n",
      "  (features): Sequential(\n",
      "    (0): Conv1d(1, 32, kernel_size=(3,), stride=(1,), padding=(1,))\n",
      "    (1): ReLU()\n",
      "    (2): Conv1d(32, 64, kernel_size=(3,), stride=(1,), padding=(1,))\n",
      "    (3): ReLU()\n",
      "    (4): MaxPool1d(kernel_size=2, stride=2, padding=0, dilation=1, ceil_mode=False)\n",
      "    (5): Dropout(p=0.5, inplace=False)\n",
      "  )\n",
      "  (classifier): Sequential(\n",
      "    (0): Linear(in_features=17920, out_features=128, bias=True)\n",
      "    (1): ReLU()\n",
      "    (2): Linear(in_features=128, out_features=2, bias=True)\n",
      "  )\n",
      ")\n"
     ]
    }
   ],
   "source": [
    "model = Conv_Net(in_channel, seq_length, n_hidden, n_output)\n",
    "print(model)"
   ]
  },
  {
   "cell_type": "code",
   "execution_count": 187,
   "id": "fc33f078",
   "metadata": {},
   "outputs": [],
   "source": [
    "model = model.to(device)"
   ]
  },
  {
   "cell_type": "code",
   "execution_count": 183,
   "id": "f36ddfe8",
   "metadata": {},
   "outputs": [
    {
     "data": {
      "text/plain": [
       "torch.Size([2947, 1, 561])"
      ]
     },
     "execution_count": 183,
     "metadata": {},
     "output_type": "execute_result"
    }
   ],
   "source": [
    "X_test_tensor.shape"
   ]
  },
  {
   "cell_type": "code",
   "execution_count": 188,
   "id": "e92e3e1d",
   "metadata": {},
   "outputs": [
    {
     "name": "stderr",
     "output_type": "stream",
     "text": [
      "100%|██████████| 115/115 [00:02<00:00, 54.61it/s]\n"
     ]
    },
    {
     "name": "stdout",
     "output_type": "stream",
     "text": [
      "Epoch [1/15], tr_loss: 0.17660 tr_acc: 0.69342 test_loss: 0.07121, test_acc: 0.26943\n"
     ]
    },
    {
     "name": "stderr",
     "output_type": "stream",
     "text": [
      "100%|██████████| 115/115 [00:02<00:00, 56.27it/s]\n"
     ]
    },
    {
     "name": "stdout",
     "output_type": "stream",
     "text": [
      "Epoch [2/15], tr_loss: -0.22552 tr_acc: 0.60936 test_loss: -0.19477, test_acc: 0.66712\n"
     ]
    },
    {
     "name": "stderr",
     "output_type": "stream",
     "text": [
      "100%|██████████| 115/115 [00:02<00:00, 53.22it/s]\n"
     ]
    },
    {
     "name": "stdout",
     "output_type": "stream",
     "text": [
      "Epoch [3/15], tr_loss: -1.36390 tr_acc: 0.86534 test_loss: -0.91840, test_acc: 0.84866\n"
     ]
    },
    {
     "name": "stderr",
     "output_type": "stream",
     "text": [
      "100%|██████████| 115/115 [00:02<00:00, 51.48it/s]\n"
     ]
    },
    {
     "name": "stdout",
     "output_type": "stream",
     "text": [
      "Epoch [4/15], tr_loss: -3.95873 tr_acc: 0.87160 test_loss: -2.34923, test_acc: 0.86800\n"
     ]
    },
    {
     "name": "stderr",
     "output_type": "stream",
     "text": [
      "100%|██████████| 115/115 [00:02<00:00, 50.38it/s]\n"
     ]
    },
    {
     "name": "stdout",
     "output_type": "stream",
     "text": [
      "Epoch [5/15], tr_loss: -9.21677 tr_acc: 0.86670 test_loss: -5.19820, test_acc: 0.88870\n"
     ]
    },
    {
     "name": "stderr",
     "output_type": "stream",
     "text": [
      "100%|██████████| 115/115 [00:02<00:00, 51.07it/s]\n"
     ]
    },
    {
     "name": "stdout",
     "output_type": "stream",
     "text": [
      "Epoch [6/15], tr_loss: -18.48373 tr_acc: 0.86684 test_loss: -10.24457, test_acc: 0.89175\n"
     ]
    },
    {
     "name": "stderr",
     "output_type": "stream",
     "text": [
      "100%|██████████| 115/115 [00:02<00:00, 50.40it/s]\n"
     ]
    },
    {
     "name": "stdout",
     "output_type": "stream",
     "text": [
      "Epoch [7/15], tr_loss: -34.58354 tr_acc: 0.88262 test_loss: -17.93793, test_acc: 0.89583\n"
     ]
    },
    {
     "name": "stderr",
     "output_type": "stream",
     "text": [
      "100%|██████████| 115/115 [00:02<00:00, 53.02it/s]\n"
     ]
    },
    {
     "name": "stdout",
     "output_type": "stream",
     "text": [
      "Epoch [8/15], tr_loss: -58.27698 tr_acc: 0.88153 test_loss: -30.58027, test_acc: 0.89175\n"
     ]
    },
    {
     "name": "stderr",
     "output_type": "stream",
     "text": [
      "100%|██████████| 115/115 [00:02<00:00, 49.88it/s]\n"
     ]
    },
    {
     "name": "stdout",
     "output_type": "stream",
     "text": [
      "Epoch [9/15], tr_loss: -95.41661 tr_acc: 0.88112 test_loss: -48.16586, test_acc: 0.91381\n"
     ]
    },
    {
     "name": "stderr",
     "output_type": "stream",
     "text": [
      "100%|██████████| 115/115 [00:02<00:00, 50.99it/s]\n"
     ]
    },
    {
     "name": "stdout",
     "output_type": "stream",
     "text": [
      "Epoch [10/15], tr_loss: -144.39799 tr_acc: 0.88112 test_loss: -71.71887, test_acc: 0.90974\n"
     ]
    },
    {
     "name": "stderr",
     "output_type": "stream",
     "text": [
      "100%|██████████| 115/115 [00:02<00:00, 48.93it/s]\n"
     ]
    },
    {
     "name": "stdout",
     "output_type": "stream",
     "text": [
      "Epoch [11/15], tr_loss: -214.03384 tr_acc: 0.87473 test_loss: -103.11169, test_acc: 0.88225\n"
     ]
    },
    {
     "name": "stderr",
     "output_type": "stream",
     "text": [
      "100%|██████████| 115/115 [00:02<00:00, 48.72it/s]\n"
     ]
    },
    {
     "name": "stdout",
     "output_type": "stream",
     "text": [
      "Epoch [12/15], tr_loss: -302.76242 tr_acc: 0.88588 test_loss: -144.09315, test_acc: 0.89583\n"
     ]
    },
    {
     "name": "stderr",
     "output_type": "stream",
     "text": [
      "100%|██████████| 115/115 [00:02<00:00, 51.07it/s]\n"
     ]
    },
    {
     "name": "stdout",
     "output_type": "stream",
     "text": [
      "Epoch [13/15], tr_loss: -413.09139 tr_acc: 0.88915 test_loss: -196.92261, test_acc: 0.89990\n"
     ]
    },
    {
     "name": "stderr",
     "output_type": "stream",
     "text": [
      "100%|██████████| 115/115 [00:02<00:00, 52.21it/s]\n"
     ]
    },
    {
     "name": "stdout",
     "output_type": "stream",
     "text": [
      "Epoch [14/15], tr_loss: -552.50795 tr_acc: 0.88806 test_loss: -261.38555, test_acc: 0.90024\n"
     ]
    },
    {
     "name": "stderr",
     "output_type": "stream",
     "text": [
      "100%|██████████| 115/115 [00:02<00:00, 50.63it/s]\n"
     ]
    },
    {
     "name": "stdout",
     "output_type": "stream",
     "text": [
      "Epoch [15/15], tr_loss: -728.36342 tr_acc: 0.89132 test_loss: -337.08193, test_acc: 0.89684\n"
     ]
    }
   ],
   "source": [
    "model = train(model, criterion, train_loader_pu, test_loader_pu, lr, num_epochs, device)"
   ]
  },
  {
   "cell_type": "code",
   "execution_count": 189,
   "id": "6bca61ef",
   "metadata": {},
   "outputs": [],
   "source": [
    "out_test = model(X_test_tensor.to(device))\n",
    "preds_test = torch.max(out_test, 1)[1]"
   ]
  },
  {
   "cell_type": "code",
   "execution_count": 190,
   "id": "f296c338",
   "metadata": {},
   "outputs": [
    {
     "name": "stdout",
     "output_type": "stream",
     "text": [
      "              precision    recall  f1-score   support\n",
      "\n",
      "           0     0.9894    0.8892    0.9366      2527\n",
      "           1     0.5858    0.9429    0.7226       420\n",
      "\n",
      "    accuracy                         0.8968      2947\n",
      "   macro avg     0.7876    0.9160    0.8296      2947\n",
      "weighted avg     0.9319    0.8968    0.9061      2947\n",
      "\n"
     ]
    }
   ],
   "source": [
    "print(classification_report(y_test_pu, preds_test.cpu().detach().numpy(), digits=4))"
   ]
  },
  {
   "cell_type": "code",
   "execution_count": 191,
   "id": "d9ff2c38",
   "metadata": {},
   "outputs": [
    {
     "name": "stdout",
     "output_type": "stream",
     "text": [
      "[[2247  280]\n",
      " [  24  396]]\n"
     ]
    }
   ],
   "source": [
    "print(confusion_matrix(y_test_pu, preds_test.cpu().detach().numpy()))"
   ]
  },
  {
   "cell_type": "code",
   "execution_count": null,
   "id": "d78024cc",
   "metadata": {},
   "outputs": [],
   "source": []
  }
 ],
 "metadata": {
  "kernelspec": {
   "display_name": ".venv",
   "language": "python",
   "name": "python3"
  },
  "language_info": {
   "codemirror_mode": {
    "name": "ipython",
    "version": 3
   },
   "file_extension": ".py",
   "mimetype": "text/x-python",
   "name": "python",
   "nbconvert_exporter": "python",
   "pygments_lexer": "ipython3",
   "version": "3.10.12"
  }
 },
 "nbformat": 4,
 "nbformat_minor": 5
}
